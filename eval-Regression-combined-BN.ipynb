{
 "cells": [
  {
   "cell_type": "code",
   "execution_count": 1,
   "metadata": {},
   "outputs": [
    {
     "name": "stderr",
     "output_type": "stream",
     "text": [
      "/home/gloria/anaconda3/lib/python3.6/site-packages/h5py/__init__.py:36: FutureWarning: Conversion of the second argument of issubdtype from `float` to `np.floating` is deprecated. In future, it will be treated as `np.float64 == np.dtype(float).type`.\n",
      "  from ._conv import register_converters as _register_converters\n",
      "Using TensorFlow backend.\n",
      "/home/gloria/tensorflow/lib/python3.6/importlib/_bootstrap.py:205: RuntimeWarning: compiletime version 3.5 of module 'tensorflow.python.framework.fast_tensor_util' does not match runtime version 3.6\n",
      "  return f(*args, **kwds)\n"
     ]
    }
   ],
   "source": [
    "from keras.engine import Model\n",
    "from keras.layers import Flatten, Dense, Input, Dropout, BatchNormalization, Activation\n",
    "from keras_vggface.vggface import VGGFace\n",
    "from keras.preprocessing.image import ImageDataGenerator\n",
    "from keras_vggface import utils\n",
    "from keras.optimizers import Adam\n",
    "from keras.preprocessing import image\n",
    "from keras import backend as K\n",
    "from keras.callbacks import ModelCheckpoint, EarlyStopping\n",
    "from keras.utils import to_categorical\n",
    "from sklearn.utils import class_weight\n",
    "import keras\n",
    "import numpy as np\n",
    "import os\n",
    "import shutil\n",
    "import matplotlib.pyplot as plt\n",
    "import matplotlib.image as mpimg\n",
    "from sklearn.model_selection import train_test_split\n",
    "from sklearn.metrics import confusion_matrix\n",
    "%matplotlib inline"
   ]
  },
  {
   "cell_type": "code",
   "execution_count": 2,
   "metadata": {
    "collapsed": true
   },
   "outputs": [],
   "source": [
    "# Constants\n",
    "IMG_SIZE = 224\n",
    "\n",
    "IMG_DIR = '../project/eval_data/all_females_combined_train_s'\n",
    "RATING_PATH = '../project/eval_data/all_females_combined_train_s/train_ratings.txt'\n",
    "\n",
    "VAL_IMG_DIR = '../project/eval_data/all_females_combined_test_s'\n",
    "VAL_RATING_PATH = '../project/eval_data/all_females_combined_test_s/test_ratings.txt'\n",
    "\n",
    "VERSION = 'eval-Regr-comb'"
   ]
  },
  {
   "cell_type": "code",
   "execution_count": 3,
   "metadata": {
    "collapsed": true
   },
   "outputs": [],
   "source": [
    "def getMean(train_data):\n",
    "    #calculate mean values for pixels (RGB)\n",
    "\n",
    "    data = np.zeros((train_data.shape[0], IMG_SIZE, IMG_SIZE, 3)) \n",
    "    for i in range(train_data.shape[0]):\n",
    "        _img = image.load_img(os.path.join(IMG_DIR, train_data[i]), target_size=(IMG_SIZE,IMG_SIZE))\n",
    "        data[i,:,:,:] = image.img_to_array(_img)\n",
    "    mean = np.mean(data, axis=(0, 1, 2))\n",
    "    print(\"Pixel means: \",mean)\n",
    "\n",
    "    return mean"
   ]
  },
  {
   "cell_type": "code",
   "execution_count": 4,
   "metadata": {
    "collapsed": true
   },
   "outputs": [],
   "source": [
    "def preprocess(x,mean):\n",
    "    x[:,:,0] -= mean[0]\n",
    "    x[:,:,1] -= mean[1]\n",
    "    x[:,:,2] -= mean[2]"
   ]
  },
  {
   "cell_type": "code",
   "execution_count": 5,
   "metadata": {
    "collapsed": true
   },
   "outputs": [],
   "source": [
    "def prepareDataRegression(percentage):\n",
    "    # Read in ratings\n",
    "    ratings = np.genfromtxt(RATING_PATH)\n",
    "        \n",
    "    ### Move all images according to ratings\n",
    "    images = sorted(os.listdir(IMG_DIR))\n",
    "    #remove train_ratings.txt from images\n",
    "    images.remove('train_ratings.txt')\n",
    "    #convert to np.array for indexing\n",
    "    images = np.array(images)\n",
    "\n",
    "    ### Make sure lengths of ratings and images correspond \n",
    "    assert len(ratings) == len(images)\n",
    "\n",
    "    perm_ratings = np.random.permutation(len(ratings))\n",
    "    test_len = int(len(ratings) * percentage/100)\n",
    "    train_len = len(ratings) - test_len\n",
    "\n",
    "    test_ind = perm_ratings[:test_len]\n",
    "    train_ind = perm_ratings[test_len:]\n",
    "    \n",
    "\n",
    "    #get test & train data\n",
    "    data_test = np.zeros((len(test_ind), IMG_SIZE, IMG_SIZE, 3))    \n",
    "    data_train = np.zeros((len(train_ind), IMG_SIZE, IMG_SIZE, 3)) \n",
    "    last_set_train = 0\n",
    "    last_set_test = 0\n",
    "\n",
    "    mean = getMean(images[train_ind])\n",
    "    \n",
    "    for idx, _im in enumerate(images): #iterate over images\n",
    "        if idx in test_ind:\n",
    "            _img = image.load_img(os.path.join(IMG_DIR, _im), target_size=(IMG_SIZE,IMG_SIZE))\n",
    "            _x = image.img_to_array(_img)\n",
    "            _x = np.expand_dims(_x, axis=0)\n",
    "            data_test[last_set_test, :, :, :] = utils.preprocess_input(_x, version=1)#preprocess(_x,mean)# / .255\n",
    "            last_set_test += 1\n",
    "        if idx in train_ind:\n",
    "            _img = image.load_img(os.path.join(IMG_DIR, _im), target_size=(IMG_SIZE,IMG_SIZE))\n",
    "            _x = image.img_to_array(_img)\n",
    "            _x = np.expand_dims(_x, axis=0)\n",
    "            data_train[last_set_train, :, :, :] = utils.preprocess_input(_x, version=1)#preprocess(_x,mean)# / .255\n",
    "            last_set_train += 1\n",
    "    \n",
    "    return data_train, ratings[train_ind], data_test, ratings[test_ind], ratings, mean"
   ]
  },
  {
   "cell_type": "code",
   "execution_count": 6,
   "metadata": {
    "collapsed": true
   },
   "outputs": [],
   "source": [
    "def prepareDataClassification(percentage):\n",
    "    # Read in ratings\n",
    "    ratings = np.genfromtxt(RATING_PATH)\n",
    "    \n",
    "    # Round (obviously imbalanced sets)\n",
    "    ratings_rounded = np.round(ratings, 0).astype(np.int8)\n",
    "    ratings = to_categorical(ratings_rounded, num_classes=len(np.unique(ratings)))\n",
    "    \n",
    "                \n",
    "    ### Move all images according to ratings\n",
    "    images = sorted(os.listdir(IMG_DIR))\n",
    "    #remove train_ratings.txt from images\n",
    "    images.remove('train_ratings.txt')\n",
    "    #convert to np.array for indexing\n",
    "    images = np.array(images)\n",
    "\n",
    "    ### Make sure lengths of ratings and images correspond \n",
    "    assert len(ratings) == len(images)\n",
    "\n",
    "    perm_ratings = np.random.permutation(len(ratings))\n",
    "    test_len = int(len(ratings) * percentage/100)\n",
    "    train_len = len(ratings) - test_len\n",
    "\n",
    "    test_ind = perm_ratings[:test_len]\n",
    "    train_ind = perm_ratings[test_len:]\n",
    "    \n",
    "    #get test & train data\n",
    "    data_test = np.zeros((len(test_ind), IMG_SIZE, IMG_SIZE, 3))    \n",
    "    data_train = np.zeros((len(train_ind), IMG_SIZE, IMG_SIZE, 3)) \n",
    "    last_set_train = 0\n",
    "    last_set_test = 0\n",
    "\n",
    "    mean = getMean(images[train_ind])\n",
    "    \n",
    "    for idx, _im in enumerate(images): #iterate over images\n",
    "        if idx in test_ind:\n",
    "            _img = image.load_img(os.path.join(IMG_DIR, _im), target_size=(IMG_SIZE,IMG_SIZE))\n",
    "            _x = image.img_to_array(_img)\n",
    "            _x = np.expand_dims(_x, axis=0)\n",
    "            data_test[last_set_test, :, :, :] = utils.preprocess_input(_x, version=1)#preprocess(_x,mean)# / .255\n",
    "            last_set_test += 1\n",
    "        if idx in train_ind:\n",
    "            _img = image.load_img(os.path.join(IMG_DIR, _im), target_size=(IMG_SIZE,IMG_SIZE))\n",
    "            _x = image.img_to_array(_img)\n",
    "            _x = np.expand_dims(_x, axis=0)\n",
    "            data_train[last_set_train, :, :, :] = utils.preprocess_input(_x, version=1)#preprocess(_x,mean)# / .255\n",
    "            last_set_train += 1\n",
    "    \n",
    "    return data_train, ratings[train_ind], data_test, ratings[test_ind], ratings_rounded, mean\n",
    "    #return ratings[train_ind], train_ind, ratings[test_ind], test_ind, ratings, images"
   ]
  },
  {
   "cell_type": "code",
   "execution_count": 7,
   "metadata": {
    "collapsed": true
   },
   "outputs": [],
   "source": [
    "def prepareDataOrdinalRegression(percentage):\n",
    "    # Load ratings\n",
    "    ratings = np.genfromtxt(RATING_PATH)\n",
    "    \n",
    "    # Convert ratings to the desired format\n",
    "    # 1. First round them\n",
    "    ratings_rounded = np.round(ratings, 1).astype(np.int8)\n",
    "\n",
    "    # 2. Then encode as suggested by Cheng (2007)\n",
    "    ratings_prepared = np.zeros((len(ratings_rounded), len(np.unique(ratings_rounded))))\n",
    "    for i, r in enumerate(ratings_rounded):\n",
    "        for j in range(r):\n",
    "            ratings_prepared[i, j] = 1\n",
    "        \n",
    "    # 3. Finally, make sure assignment is correct\n",
    "    assert np.all(np.sum(ratings_prepared, axis=1).astype(np.int8) == ratings_rounded)\n",
    "    \n",
    "    ### Move all images according to ratings\n",
    "    images = sorted(os.listdir(IMG_DIR))\n",
    "    #remove train_ratings.txt from images\n",
    "    images.remove('train_ratings.txt')\n",
    "    #convert to np.array for indexing\n",
    "    images = np.array(images)\n",
    "\n",
    "    ### Make sure lengths of ratings and images correspond \n",
    "    print(len(ratings))\n",
    "    print(len(images))\n",
    "    assert len(ratings) == len(images)\n",
    "    \n",
    "    perm_ratings = np.random.permutation(len(ratings))\n",
    "    test_len = int(len(ratings) * percentage/100)\n",
    "    train_len = len(ratings) - test_len\n",
    "\n",
    "    test_ind = perm_ratings[:test_len]\n",
    "    train_ind = perm_ratings[test_len:]\n",
    "    \n",
    "    #get test & train data\n",
    "    data_test = np.zeros((len(test_ind), IMG_SIZE, IMG_SIZE, 3))    \n",
    "    data_train = np.zeros((len(train_ind), IMG_SIZE, IMG_SIZE, 3)) \n",
    "    last_set_train = 0\n",
    "    last_set_test = 0\n",
    "\n",
    "    mean = getMean(images[train_ind])\n",
    "    \n",
    "    for idx, _im in enumerate(images): #iterate over images\n",
    "        if idx in test_ind:\n",
    "            _img = image.load_img(os.path.join(IMG_DIR, _im), target_size=(IMG_SIZE,IMG_SIZE))\n",
    "            _x = image.img_to_array(_img)\n",
    "            _x = np.expand_dims(_x, axis=0)\n",
    "            data_test[last_set_test, :, :, :] = preprocess(_x,mean)#utils.preprocess_input(_x, version=1)# / .255\n",
    "            last_set_test += 1\n",
    "        if idx in train_ind:\n",
    "            _img = image.load_img(os.path.join(IMG_DIR, _im), target_size=(IMG_SIZE,IMG_SIZE))\n",
    "            _x = image.img_to_array(_img)\n",
    "            _x = np.expand_dims(_x, axis=0)\n",
    "            data_train[last_set_train, :, :, :] = preprocess(_x,mean)#utils.preprocess_input(_x, version=1)# / .255\n",
    "            last_set_train += 1\n",
    "    \n",
    "    \n",
    "    return data_train, ratings_prepared[train_ind], data_test, ratings_prepared[test_ind], ratings_rounded, mean"
   ]
  },
  {
   "cell_type": "code",
   "execution_count": 8,
   "metadata": {
    "collapsed": true
   },
   "outputs": [],
   "source": [
    "def getGenerator(data_train, data_test):\n",
    "    train_datagen = ImageDataGenerator(rescale=1./255, \n",
    "                                rotation_range=40,\n",
    "                                width_shift_range=0.2,\n",
    "                                height_shift_range=0.2,\n",
    "                                shear_range=0.2,\n",
    "                                zoom_range=0.2,\n",
    "                                horizontal_flip=True,\n",
    "                                fill_mode='nearest'\n",
    "                                      )#preprocessing_function=utils.preprocess_input)\n",
    "\n",
    "    train_datagen.fit(data_train)\n",
    "    \n",
    "    \n",
    "    test_datagen = ImageDataGenerator(rescale=1./255)\n",
    "    test_datagen.fit(data_test)\n",
    "\n",
    "    return train_datagen, test_datagen"
   ]
  },
  {
   "cell_type": "code",
   "execution_count": 9,
   "metadata": {
    "collapsed": true
   },
   "outputs": [],
   "source": [
    "def visualize_loss(history):\n",
    "    loss = history.history['loss']\n",
    "    val_loss = history.history['val_loss']\n",
    "    epochs = range(1, len(loss) + 1)\n",
    "    plt.figure(figsize=(15,8))\n",
    "    plt.plot(epochs, loss, 'bo-', label=\"Training loss\")\n",
    "    plt.plot(epochs, val_loss, 'b', label=\"Validation loss\")\n",
    "    plt.xlabel('Epochs')\n",
    "    plt.ylabel('Loss')\n",
    "    plt.legend()\n",
    "    plt.show()"
   ]
  },
  {
   "cell_type": "code",
   "execution_count": 10,
   "metadata": {
    "collapsed": true
   },
   "outputs": [],
   "source": [
    "def visualize_acc(history):\n",
    "    loss = history.history['mean_absolute_error']\n",
    "    val_loss = history.history['val_mean_absolute_error']\n",
    "    epochs = range(1, len(loss) + 1)\n",
    "    plt.figure(figsize=(15,8))\n",
    "    plt.plot(epochs, loss, 'ro-', label=\"Training mean_absolute_error\")\n",
    "    plt.plot(epochs, val_loss, 'r', label=\"Validation mean_absolute_error\")\n",
    "    plt.xlabel('Epochs')\n",
    "    plt.ylabel('MAE')\n",
    "    plt.legend()\n",
    "    plt.show()"
   ]
  },
  {
   "cell_type": "code",
   "execution_count": 11,
   "metadata": {
    "collapsed": true
   },
   "outputs": [],
   "source": [
    "def recommend(images, pred_classes):\n",
    "    if type(images) is np.ndarray: \n",
    "        images = images.tolist()\n",
    "    recs = np.where(pred_classes >= 4)\n",
    "    \n",
    "    for i in recs[0]:\n",
    "        img = mpimg.imread(os.path.join(IMG_DIR, images[i]))\n",
    "        imgplot = plt.imshow(img)\n",
    "        plt.show()\n",
    "        plt.clf()\n",
    "\n",
    "def recommendVal(images, pred_classes):\n",
    "    if type(images) is np.ndarray: \n",
    "        images = images.tolist()\n",
    "    recs = np.where(pred_classes >= 4)\n",
    "    \n",
    "    for i in recs[0]:\n",
    "        img = mpimg.imread(os.path.join(VAL_IMG_DIR, images[i]))\n",
    "        imgplot = plt.imshow(img)\n",
    "        plt.show()\n",
    "        plt.clf()"
   ]
  },
  {
   "cell_type": "markdown",
   "metadata": {},
   "source": [
    "### Get data"
   ]
  },
  {
   "cell_type": "code",
   "execution_count": 12,
   "metadata": {},
   "outputs": [
    {
     "name": "stdout",
     "output_type": "stream",
     "text": [
      "Pixel means:  [159.87636903 133.18557324 119.61463087]\n",
      "x_train:  (647, 224, 224, 3)\n",
      "y_train:  (647,)\n",
      "x_test:  (34, 224, 224, 3)\n",
      "y_test:  (34,)\n",
      "ratings (681,)\n"
     ]
    }
   ],
   "source": [
    "x_train, y_train, x_test, y_test, ratings, mean = prepareDataRegression(5)\n",
    "train_generator, test_generator = getGenerator(x_train,x_test)\n",
    "\n",
    "train_inst = x_train.shape[0]\n",
    "print(\"x_train: \",x_train.shape)\n",
    "print(\"y_train: \",y_train.shape)\n",
    "print(\"x_test: \",x_test.shape)\n",
    "print(\"y_test: \",y_test.shape)\n",
    "print(\"ratings\",ratings.shape)\n"
   ]
  },
  {
   "cell_type": "markdown",
   "metadata": {},
   "source": [
    "### Build keras model"
   ]
  },
  {
   "cell_type": "code",
   "execution_count": 13,
   "metadata": {},
   "outputs": [
    {
     "name": "stdout",
     "output_type": "stream",
     "text": [
      "[ 0.95378151  1.21390374  0.83455882  0.74183007  0.44509804  0.51357466\n",
      "  0.66764706  0.74183007  0.95378151  0.53411765  0.74183007  0.58056266\n",
      "  0.47689076  1.21390374  0.51357466  0.70278638  0.63585434  1.33529412\n",
      "  1.66911765  2.2254902   0.78546713  1.66911765  0.78546713  1.66911765\n",
      "  0.63585434  1.66911765  1.1127451   0.89019608  1.48366013  1.21390374\n",
      "  0.95378151  2.67058824  1.21390374  1.48366013  0.66764706  0.83455882\n",
      "  0.89019608  1.48366013  1.1127451   1.66911765  1.48366013  1.48366013\n",
      "  1.1127451   1.33529412  2.67058824  1.90756303  1.1127451   4.45098039\n",
      "  2.67058824 13.35294118 13.35294118]\n"
     ]
    }
   ],
   "source": [
    "# Add custom layers\n",
    "vgg_base = VGGFace(include_top=False, input_shape=(IMG_SIZE, IMG_SIZE, 3), pooling='max')\n",
    "last_layer = vgg_base.get_layer('global_max_pooling2d_1').output\n",
    "X = Dense(256, activation=None, name='fc6')(last_layer)\n",
    "X = BatchNormalization()(X)\n",
    "X = Activation('relu')(X)\n",
    "X = Dropout(0.2)(X)\n",
    "X = Dense(128, activation=None, name='fc7')(X)\n",
    "X = BatchNormalization()(X)\n",
    "X = Activation('relu')(X)\n",
    "X = Dropout(0.2)(X)\n",
    "X = Dense(64, activation=None, name='fc8')(X)\n",
    "X = BatchNormalization()(X)\n",
    "X = Activation('relu')(X)\n",
    "X = Dropout(0.2)(X)\n",
    "X = Dense(1, activation=None)(X)\n",
    "X = BatchNormalization()(X)\n",
    "output = Activation('linear')(X)\n",
    "model = Model(inputs=vgg_base.input, outputs=output)\n",
    "\n",
    "# Freeze vgg layers\n",
    "for layer in vgg_base.layers:\n",
    "    layer.trainable = False\n",
    "\n",
    "# Compute class weights since we have unbalaned classes\n",
    "class_weight = class_weight.compute_class_weight('balanced', \n",
    "                                                 np.unique(ratings), \n",
    "                                                 ratings)\n",
    "\n",
    "print(class_weight)\n",
    "\n",
    "model.compile(optimizer=Adam(lr= 0.0005,clipnorm=1.0),\n",
    "              #loss='categorical_crossentropy', \n",
    "              #metrics=['accuracy'])\n",
    "              loss='mean_absolute_error', metrics=['mae'])\n",
    "\n",
    "checkpointer = ModelCheckpoint(filepath='./weights-' + VERSION + '.hdf5', verbose=1, save_best_only=True)\n",
    "earlystop = EarlyStopping(monitor='val_loss', patience=10, verbose=0)"
   ]
  },
  {
   "cell_type": "code",
   "execution_count": 14,
   "metadata": {},
   "outputs": [
    {
     "name": "stdout",
     "output_type": "stream",
     "text": [
      "Epoch 1/500\n",
      "20/20 [==============================] - 13s 661ms/step - loss: 2.1492 - mean_absolute_error: 2.1492 - val_loss: 2.3340 - val_mean_absolute_error: 2.3340\n",
      "\n",
      "Epoch 00001: val_loss improved from inf to 2.33397, saving model to ./weights-eval-Regr-comb.hdf5\n",
      "Epoch 2/500\n",
      "20/20 [==============================] - 8s 403ms/step - loss: 2.1109 - mean_absolute_error: 2.1109 - val_loss: 2.7174 - val_mean_absolute_error: 2.7174\n",
      "\n",
      "Epoch 00002: val_loss did not improve\n",
      "Epoch 3/500\n",
      "20/20 [==============================] - 8s 401ms/step - loss: 2.1080 - mean_absolute_error: 2.1080 - val_loss: 2.5668 - val_mean_absolute_error: 2.5668\n",
      "\n",
      "Epoch 00003: val_loss did not improve\n",
      "Epoch 4/500\n",
      "20/20 [==============================] - 8s 399ms/step - loss: 2.0571 - mean_absolute_error: 2.0571 - val_loss: 2.8734 - val_mean_absolute_error: 2.8734\n",
      "\n",
      "Epoch 00004: val_loss did not improve\n",
      "Epoch 5/500\n",
      "20/20 [==============================] - 8s 403ms/step - loss: 2.0533 - mean_absolute_error: 2.0533 - val_loss: 3.4024 - val_mean_absolute_error: 3.4024\n",
      "\n",
      "Epoch 00005: val_loss did not improve\n",
      "Epoch 6/500\n",
      "20/20 [==============================] - 8s 415ms/step - loss: 2.0313 - mean_absolute_error: 2.0313 - val_loss: 3.7392 - val_mean_absolute_error: 3.7392\n",
      "\n",
      "Epoch 00006: val_loss did not improve\n",
      "Epoch 7/500\n",
      "20/20 [==============================] - 8s 404ms/step - loss: 1.9542 - mean_absolute_error: 1.9542 - val_loss: 3.6349 - val_mean_absolute_error: 3.6349\n",
      "\n",
      "Epoch 00007: val_loss did not improve\n",
      "Epoch 8/500\n",
      "20/20 [==============================] - 8s 401ms/step - loss: 2.1160 - mean_absolute_error: 2.1160 - val_loss: 3.2263 - val_mean_absolute_error: 3.2263\n",
      "\n",
      "Epoch 00008: val_loss did not improve\n",
      "Epoch 9/500\n",
      "20/20 [==============================] - 8s 397ms/step - loss: 1.9385 - mean_absolute_error: 1.9385 - val_loss: 2.9867 - val_mean_absolute_error: 2.9867\n",
      "\n",
      "Epoch 00009: val_loss did not improve\n",
      "Epoch 10/500\n",
      "20/20 [==============================] - 8s 412ms/step - loss: 1.9419 - mean_absolute_error: 1.9419 - val_loss: 3.2743 - val_mean_absolute_error: 3.2743\n",
      "\n",
      "Epoch 00010: val_loss did not improve\n",
      "Epoch 11/500\n",
      "20/20 [==============================] - 8s 385ms/step - loss: 1.9745 - mean_absolute_error: 1.9745 - val_loss: 3.3143 - val_mean_absolute_error: 3.3143\n",
      "\n",
      "Epoch 00011: val_loss did not improve\n"
     ]
    }
   ],
   "source": [
    "history = model.fit_generator(\n",
    "    train_generator.flow(x_train, y_train, batch_size=32),\n",
    "    steps_per_epoch=train_inst//32,\n",
    "    epochs=500,\n",
    "    class_weight=class_weight,\n",
    "    validation_data=test_generator.flow(x_test, y_test, batch_size=32),\n",
    "    callbacks=[earlystop, checkpointer]\n",
    ")"
   ]
  },
  {
   "cell_type": "code",
   "execution_count": 15,
   "metadata": {},
   "outputs": [
    {
     "data": {
      "image/png": "[encoded data removed]",
      "text/plain": [
       "<matplotlib.figure.Figure at 0x7fc888606358>"
      ]
     },
     "metadata": {},
     "output_type": "display_data"
    }
   ],
   "source": [
    "visualize_loss(history)"
   ]
  },
  {
   "cell_type": "code",
   "execution_count": 16,
   "metadata": {},
   "outputs": [
    {
     "data": {
      "image/png": "[encoded data removed]",
      "text/plain": [
       "<matplotlib.figure.Figure at 0x7fc73434f908>"
      ]
     },
     "metadata": {},
     "output_type": "display_data"
    }
   ],
   "source": [
    "visualize_acc(history)"
   ]
  },
  {
   "cell_type": "code",
   "execution_count": 17,
   "metadata": {
    "collapsed": true
   },
   "outputs": [],
   "source": [
    "model.save('./models/love_classifier' + VERSION + '.h5')"
   ]
  },
  {
   "cell_type": "markdown",
   "metadata": {},
   "source": [
    "### Predictions: Test set"
   ]
  },
  {
   "cell_type": "code",
   "execution_count": 18,
   "metadata": {},
   "outputs": [
    {
     "name": "stdout",
     "output_type": "stream",
     "text": [
      "[0.8 3.2 1.5 1.4 1.6 1.6 3.5 1.2 1.2 0.5 1.1 3.3 1.7 4.  4.3 1.5 3.2 2.4\n",
      " 0.9 1.4 2.4 2.1 1.1 3.5 1.4 2.9 4.3 2.9 1.4 0.5 1.2 2.7 0.5 2. ]\n",
      "[[-3591.6443]\n",
      " [-3702.874 ]\n",
      " [-2953.2   ]\n",
      " [-3345.0146]\n",
      " [-3660.401 ]\n",
      " [-3093.3884]\n",
      " [-2514.8962]\n",
      " [-2233.0137]\n",
      " [-2568.3713]\n",
      " [-1587.8575]\n",
      " [-2070.8923]\n",
      " [-2478.8098]\n",
      " [-1690.6996]\n",
      " [-1759.1506]\n",
      " [-3594.8062]\n",
      " [-2528.6301]\n",
      " [-2249.5505]\n",
      " [-2359.228 ]\n",
      " [-3220.8462]\n",
      " [-2096.6494]\n",
      " [-3333.537 ]\n",
      " [-2404.1187]\n",
      " [-1452.7673]\n",
      " [-1966.7227]\n",
      " [-2591.2227]\n",
      " [-1811.1538]\n",
      " [-3291.2144]\n",
      " [-2092.2593]\n",
      " [-2110.7305]\n",
      " [-2492.479 ]\n",
      " [-2719.766 ]\n",
      " [-1544.0077]\n",
      " [-1916.5792]\n",
      " [-1284.4976]]\n",
      "['loss', 'mean_absolute_error']\n",
      "34/34 [==============================] - 0s 12ms/step\n",
      "[2481.7701775045957, 2481.7701775045957]\n"
     ]
    }
   ],
   "source": [
    "predictions = model.predict(x_test)\n",
    "\n",
    "pred_classes = predictions\n",
    "y_true = y_test\n",
    "\n",
    "print(y_true)\n",
    "print(pred_classes)\n",
    "\n",
    "print(model.metrics_names)\n",
    "print(model.evaluate(x_test,y_test))"
   ]
  },
  {
   "cell_type": "code",
   "execution_count": 19,
   "metadata": {},
   "outputs": [],
   "source": [
    "#recommend(x_test,pred_classes)"
   ]
  },
  {
   "cell_type": "markdown",
   "metadata": {
    "collapsed": true
   },
   "source": [
    "### Prediction: Validation set"
   ]
  },
  {
   "cell_type": "code",
   "execution_count": 20,
   "metadata": {
    "collapsed": true
   },
   "outputs": [],
   "source": [
    "def prepareValData(mean):\n",
    "    # Load ratings\n",
    "    ratings = np.genfromtxt(VAL_RATING_PATH)\n",
    "    \n",
    "    # Convert ratings to the desired format\n",
    "    # 1. First round them\n",
    "    ratings_rounded = np.round(ratings, 1).astype(np.int8)\n",
    "\n",
    "    # 2. Then encode as suggested by Cheng (2007)\n",
    "    ratings_prepared = np.zeros((len(ratings_rounded), len(np.unique(ratings_rounded))))\n",
    "    for i, r in enumerate(ratings_rounded):\n",
    "        for j in range(r):\n",
    "            ratings_prepared[i, j] = 1\n",
    "        \n",
    "    # 3. Finally, make sure assignment is correct\n",
    "    assert np.all(np.sum(ratings_prepared, axis=1).astype(np.int8) == ratings_rounded)\n",
    "    \n",
    "    ### Move all images according to ratings\n",
    "    images = sorted(os.listdir(VAL_IMG_DIR))\n",
    "    #remove val_ratings.txt from images\n",
    "    images.remove('test_ratings.txt')\n",
    "\n",
    "    ### Make sure lengths of ratings and images correspond \n",
    "    assert len(ratings) == len(images)\n",
    "    \n",
    "    data = np.zeros((len(images), IMG_SIZE, IMG_SIZE, 3)) \n",
    "    last_set = 0\n",
    "    \n",
    "    for idx, _im in enumerate(images): #iterate over images\n",
    "        _img = image.load_img(os.path.join(VAL_IMG_DIR, _im), target_size=(IMG_SIZE,IMG_SIZE))\n",
    "        _x = image.img_to_array(_img)\n",
    "        _x = np.expand_dims(_x, axis=0)\n",
    "        data[last_set, :, :, :] = preprocess(_x,mean)#utils.preprocess_input(_x, version=1) / .255\n",
    "        last_set += 1\n",
    "    \n",
    "    return data, ratings"
   ]
  },
  {
   "cell_type": "code",
   "execution_count": 21,
   "metadata": {},
   "outputs": [
    {
     "name": "stdout",
     "output_type": "stream",
     "text": [
      "[0.  0.3 0.3 0.4 0.4 0.4 0.4 0.8 0.9 1.  1.2 1.3 1.4 1.4 1.5 1.9 2.  2.2\n",
      " 2.2 2.4 2.5 2.7 2.9 3.  3.  3.2 3.3 3.4 3.5 3.6 3.8 3.8 3.9 4.4 4.5 4.6\n",
      " 4.6]\n",
      "[[0.5699562 ]\n",
      " [0.5699562 ]\n",
      " [0.5699562 ]\n",
      " [0.5699562 ]\n",
      " [0.5699562 ]\n",
      " [0.5699562 ]\n",
      " [0.5699562 ]\n",
      " [0.5699562 ]\n",
      " [0.5699562 ]\n",
      " [0.5699562 ]\n",
      " [0.5699562 ]\n",
      " [0.5699562 ]\n",
      " [0.5699562 ]\n",
      " [0.5699562 ]\n",
      " [0.5699562 ]\n",
      " [0.5699562 ]\n",
      " [0.5699562 ]\n",
      " [0.5699562 ]\n",
      " [0.5699562 ]\n",
      " [0.5699562 ]\n",
      " [0.5699562 ]\n",
      " [0.5699562 ]\n",
      " [0.5699562 ]\n",
      " [0.5699562 ]\n",
      " [0.5699562 ]\n",
      " [0.5699562 ]\n",
      " [0.5699562 ]\n",
      " [0.5699562 ]\n",
      " [0.5699562 ]\n",
      " [0.5699562 ]\n",
      " [0.5699562 ]\n",
      " [0.5699562 ]\n",
      " [0.56995606]\n",
      " [0.56995606]\n",
      " [0.56995606]\n",
      " [0.56995606]\n",
      " [0.56995606]]\n",
      "['loss', 'mean_absolute_error']\n",
      "37/37 [==============================] - 0s 13ms/step\n",
      "[1.7727299252071895, 1.7727299252071895]\n"
     ]
    }
   ],
   "source": [
    "x_val, ratings_val = prepareValData(mean)\n",
    "\n",
    "predictions = model.predict(x_val)\n",
    "\n",
    "pred_classes = predictions\n",
    "y_true = ratings_val\n",
    "\n",
    "print(y_true)\n",
    "print(pred_classes)\n",
    "\n",
    "print(model.metrics_names)\n",
    "print(model.evaluate(x_val,ratings_val))"
   ]
  },
  {
   "cell_type": "code",
   "execution_count": 22,
   "metadata": {
    "collapsed": true
   },
   "outputs": [],
   "source": [
    "#recommend(x_test,pred_classes)"
   ]
  },
  {
   "cell_type": "code",
   "execution_count": 23,
   "metadata": {},
   "outputs": [
    {
     "name": "stdout",
     "output_type": "stream",
     "text": [
      "647/647 [==============================] - 8s 12ms/step\n",
      "[2376.1459908109546, 2376.1459908109546]\n"
     ]
    }
   ],
   "source": [
    "print(model.evaluate(x_train,y_train))"
   ]
  },
  {
   "cell_type": "code",
   "execution_count": null,
   "metadata": {
    "collapsed": true
   },
   "outputs": [],
   "source": []
  }
 ],
 "metadata": {
  "kernelspec": {
   "display_name": "tensorflow",
   "language": "python",
   "name": "tensorflow"
  },
  "language_info": {
   "codemirror_mode": {
    "name": "ipython",
    "version": 3
   },
   "file_extension": ".py",
   "mimetype": "text/x-python",
   "name": "python",
   "nbconvert_exporter": "python",
   "pygments_lexer": "ipython3",
   "version": "3.6.2"
  }
 },
 "nbformat": 4,
 "nbformat_minor": 2
}
