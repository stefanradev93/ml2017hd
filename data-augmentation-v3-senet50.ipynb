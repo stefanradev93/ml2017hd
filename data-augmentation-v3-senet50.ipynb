{
 "cells": [
  {
   "cell_type": "code",
   "execution_count": 1,
   "metadata": {},
   "outputs": [
    {
     "name": "stderr",
     "output_type": "stream",
     "text": [
      "/home/gloria/anaconda3/lib/python3.6/site-packages/h5py/__init__.py:36: FutureWarning: Conversion of the second argument of issubdtype from `float` to `np.floating` is deprecated. In future, it will be treated as `np.float64 == np.dtype(float).type`.\n",
      "  from ._conv import register_converters as _register_converters\n",
      "Using TensorFlow backend.\n",
      "/home/gloria/tensorflow/lib/python3.6/importlib/_bootstrap.py:205: RuntimeWarning: compiletime version 3.5 of module 'tensorflow.python.framework.fast_tensor_util' does not match runtime version 3.6\n",
      "  return f(*args, **kwds)\n"
     ]
    }
   ],
   "source": [
    "from keras.engine import Model\n",
    "from keras.layers import Flatten, Dense, Input, Dropout\n",
    "from keras_vggface.vggface import VGGFace\n",
    "from keras.preprocessing.image import ImageDataGenerator\n",
    "from keras_vggface import utils\n",
    "from keras.optimizers import Adam\n",
    "from keras.preprocessing import image\n",
    "from keras import backend as K\n",
    "from sklearn.utils import class_weight\n",
    "import numpy as np\n",
    "import os\n",
    "import shutil\n",
    "import matplotlib.pyplot as plt\n",
    "from sklearn.model_selection import train_test_split\n",
    "%matplotlib inline"
   ]
  },
  {
   "cell_type": "code",
   "execution_count": 2,
   "metadata": {
    "collapsed": true
   },
   "outputs": [],
   "source": [
    "# Constants\n",
    "IMG_SIZE = 200\n",
    "BASE_DIR = '../project/all_females'"
   ]
  },
  {
   "cell_type": "code",
   "execution_count": 3,
   "metadata": {
    "collapsed": true
   },
   "outputs": [],
   "source": [
    "# Read in ratings\n",
    "ratings = np.genfromtxt('./Projekt_SGE_Assessment_ErikK.txt')"
   ]
  },
  {
   "cell_type": "code",
   "execution_count": 4,
   "metadata": {},
   "outputs": [
    {
     "name": "stdout",
     "output_type": "stream",
     "text": [
      "(array([0, 1, 2, 3, 4, 5], dtype=int8), array([197, 128,  75,  70,  50,  48]))\n"
     ]
    }
   ],
   "source": [
    "# Round (obviously imbalanced sets)\n",
    "ratings = np.round(ratings, 0).astype(np.int8)\n",
    "print(np.unique(ratings, return_counts=True))"
   ]
  },
  {
   "cell_type": "code",
   "execution_count": 5,
   "metadata": {
    "collapsed": true
   },
   "outputs": [],
   "source": [
    "### Distribute images across folders\n",
    "for r in np.unique(ratings).astype(np.int8):\n",
    "    if not os.path.isdir('./train/{}-stars'.format(r)):\n",
    "        os.makedirs('./train/{}-stars'.format(r))\n",
    "    if not os.path.isdir('./test/{}-stars'.format(r)):\n",
    "        os.makedirs('./test/{}-stars'.format(r))"
   ]
  },
  {
   "cell_type": "code",
   "execution_count": 6,
   "metadata": {},
   "outputs": [
    {
     "name": "stdout",
     "output_type": "stream",
     "text": [
      "Train-test-split:\n",
      "X_train:  (6,)\n",
      "X_test:  (6,)\n",
      "y_train:  (6,)\n",
      "y_test:  (6,)\n"
     ]
    }
   ],
   "source": [
    "### Move all images according to ratings\n",
    "images = sorted(os.listdir(BASE_DIR))\n",
    "\n",
    "### Make sure lengths of ratings and images correspond \n",
    "assert len(ratings) == len(images)\n",
    "\n",
    "### Sort images according to ratings\n",
    "ratings = ratings.tolist()\n",
    "ratings, images = zip(*sorted(zip(ratings,images)))\n",
    "ratings = np.asarray(ratings)\n",
    "\n",
    "### Count number of ratings for each category, generate train test split for each category\n",
    "unique, counts = np.unique(ratings, return_counts=True)\n",
    "\n",
    "stars = [[] for i in counts]\n",
    "stared_img = [[] for i in counts]\n",
    "accum = np.cumsum(counts)\n",
    "stars[0] = ratings[:accum[0]]\n",
    "stared_img[0] = images[:accum[0]]\n",
    "\n",
    "for i in range(1,len(counts)):\n",
    "    stars[i] = ratings[accum[i-1]:accum[i]]\n",
    "    stared_img[i] = images[accum[i-1]:accum[i]]\n",
    "\n",
    "stars = np.asarray(stars)\n",
    "stared_img = np.asarray(stared_img)\n",
    "\n",
    "assert(stars.shape == stared_img.shape)\n",
    "\n",
    "X_train = [[] for i in counts]\n",
    "X_test = [[] for i in counts]\n",
    "y_train = [[] for i in counts]\n",
    "y_test = [[] for i in counts]\n",
    "\n",
    "for i in range(len(counts)):\n",
    "    X_train[i], X_test[i], y_train[i], y_test[i] = train_test_split(stared_img[i], stars[i], test_size=0.2)\n",
    "    \n",
    "X_train = np.asarray(X_train)\n",
    "X_test = np.asarray(X_test)\n",
    "y_train = np.asarray(y_train)\n",
    "y_test = np.asarray(y_test)\n",
    "\n",
    "        \n",
    "print(\"Train-test-split:\")\n",
    "print(\"X_train: \",X_train.shape)\n",
    "print(\"X_test: \",X_test.shape)\n",
    "print(\"y_train: \",y_train.shape)\n",
    "print(\"y_test: \",y_test.shape)\n",
    "\n",
    "#check that all subsets of the split have the same rating\n",
    "for i in range(len(counts)):\n",
    "    assert(np.sum(y_train[i]) == i*len(y_train[i]))\n",
    "    assert(np.sum(y_test[i]) == i*len(y_test[i]))"
   ]
  },
  {
   "cell_type": "code",
   "execution_count": 7,
   "metadata": {
    "collapsed": true
   },
   "outputs": [],
   "source": [
    "### Loop throgh all images and store them in the dedicated folders\n",
    "#for i, r in enumerate(ratings.astype(np.int8)):\n",
    "#    src = os.path.join(BASE_DIR, images[i])\n",
    "#    dest = os.path.join('./classification/{}-stars'.format(r), images[i])\n",
    "#    shutil.copy(src, dest)\n",
    "\n",
    "for i in range(len(X_train)):\n",
    "    for j in range(len(X_train[i])):\n",
    "        src = os.path.join(BASE_DIR, X_train[i][j])\n",
    "        dest = os.path.join('./train/{}-stars'.format(y_train[i][j]), X_train[i][j])\n",
    "        shutil.copy(src, dest)\n",
    "\n",
    "for i in range(len(X_test)):\n",
    "    for j in range(len(X_test[i])):\n",
    "        src = os.path.join(BASE_DIR, X_test[i][j])\n",
    "        dest = os.path.join('./test/{}-stars'.format(y_test[i][j]), X_test[i][j])\n",
    "        shutil.copy(src, dest)"
   ]
  },
  {
   "cell_type": "markdown",
   "metadata": {},
   "source": [
    "## Time to use data augmentation with streaming"
   ]
  },
  {
   "cell_type": "code",
   "execution_count": 8,
   "metadata": {
    "collapsed": true
   },
   "outputs": [],
   "source": [
    "datagen = ImageDataGenerator(rescale=1./255, \n",
    "                             rotation_range=40,\n",
    "                             width_shift_range=0.2,\n",
    "                             height_shift_range=0.2,\n",
    "                             shear_range=0.2,\n",
    "                             zoom_range=0.2,\n",
    "                             horizontal_flip=True,\n",
    "                             fill_mode='nearest',\n",
    "                             preprocessing_function=utils.preprocess_input)"
   ]
  },
  {
   "cell_type": "code",
   "execution_count": 9,
   "metadata": {},
   "outputs": [
    {
     "name": "stdout",
     "output_type": "stream",
     "text": [
      "Found 1181 images belonging to 6 classes.\n",
      "Found 474 images belonging to 6 classes.\n"
     ]
    }
   ],
   "source": [
    "train_generator = datagen.flow_from_directory(\n",
    "    './train/',\n",
    "    target_size=(IMG_SIZE, IMG_SIZE),\n",
    "    batch_size=64,\n",
    "    class_mode='categorical'\n",
    ")\n",
    "\n",
    "test_generator = datagen.flow_from_directory(\n",
    "    './test/',\n",
    "    target_size=(IMG_SIZE, IMG_SIZE),\n",
    "    batch_size=64,\n",
    "    class_mode='categorical'\n",
    ")"
   ]
  },
  {
   "cell_type": "markdown",
   "metadata": {},
   "source": [
    "## Some random model"
   ]
  },
  {
   "cell_type": "code",
   "execution_count": 10,
   "metadata": {},
   "outputs": [
    {
     "name": "stdout",
     "output_type": "stream",
     "text": [
      "Downloading data from https://github.com/rcmalli/keras-vggface/releases/download/v2.0/rcmalli_vggface_tf_notop_senet50.h5\n",
      "104947712/104944616 [==============================] - 62s 1us/step\n"
     ]
    }
   ],
   "source": [
    "# Add custom layers\n",
    "vgg_base = VGGFace(model='senet50', include_top=False, input_shape=(IMG_SIZE, IMG_SIZE, 3), pooling='max')\n",
    "last_layer = vgg_base.get_layer('global_max_pooling2d_1').output\n",
    "X = Dropout(0.2)(last_layer)\n",
    "X = Dense(256, activation='relu', name='fc6')(X)\n",
    "X = Dropout(0.2)(X)\n",
    "X = Dense(128, activation='relu', name='fc7')(X)\n",
    "X = Dropout(0.2)(X)\n",
    "output = Dense(len(np.unique(ratings)), activation='softmax')(X)\n",
    "model = Model(inputs=vgg_base.input, outputs=output)"
   ]
  },
  {
   "cell_type": "code",
   "execution_count": 11,
   "metadata": {
    "collapsed": true
   },
   "outputs": [],
   "source": [
    "# Freeze vgg layers\n",
    "for layer in vgg_base.layers:\n",
    "    layer.trainable = False"
   ]
  },
  {
   "cell_type": "code",
   "execution_count": 12,
   "metadata": {
    "collapsed": true
   },
   "outputs": [],
   "source": [
    "# Compute class weights since we have unbalaned classes\n",
    "class_weight = class_weight.compute_class_weight('balanced', \n",
    "                                                 np.unique(ratings), \n",
    "                                                 ratings)"
   ]
  },
  {
   "cell_type": "code",
   "execution_count": 13,
   "metadata": {
    "collapsed": true
   },
   "outputs": [],
   "source": [
    "model.compile(optimizer=Adam(clipnorm=1.0),\n",
    "              loss='categorical_crossentropy', \n",
    "              metrics=['accuracy'])"
   ]
  },
  {
   "cell_type": "code",
   "execution_count": 14,
   "metadata": {},
   "outputs": [
    {
     "name": "stdout",
     "output_type": "stream",
     "text": [
      "Epoch 1/1\n",
      "100/100 [==============================] - 62s 619ms/step - loss: 1.9770 - acc: 0.2314 - val_loss: 1.7224 - val_acc: 0.3080\n"
     ]
    }
   ],
   "source": [
    "history = model.fit_generator(\n",
    "    train_generator,\n",
    "    steps_per_epoch=100,\n",
    "    epochs=1,\n",
    "    class_weight=class_weight,\n",
    "    validation_data=test_generator\n",
    ")"
   ]
  },
  {
   "cell_type": "code",
   "execution_count": 15,
   "metadata": {},
   "outputs": [
    {
     "name": "stdout",
     "output_type": "stream",
     "text": [
      "Epoch 1/10\n",
      "7/7 [==============================] - 10s 1s/step - loss: 1.6854 - acc: 0.2759 - val_loss: 1.7055 - val_acc: 0.3080\n",
      "Epoch 2/10\n",
      "7/7 [==============================] - 9s 1s/step - loss: 1.7624 - acc: 0.2254 - val_loss: 1.7414 - val_acc: 0.3080\n",
      "Epoch 3/10\n",
      "7/7 [==============================] - 8s 1s/step - loss: 1.7241 - acc: 0.2671 - val_loss: 1.7212 - val_acc: 0.3080\n",
      "Epoch 4/10\n",
      "7/7 [==============================] - 9s 1s/step - loss: 1.7505 - acc: 0.2478 - val_loss: 1.7302 - val_acc: 0.2447\n",
      "Epoch 5/10\n",
      "7/7 [==============================] - 9s 1s/step - loss: 1.7306 - acc: 0.2567 - val_loss: 1.7137 - val_acc: 0.2447\n",
      "Epoch 6/10\n",
      "7/7 [==============================] - 9s 1s/step - loss: 1.7252 - acc: 0.2690 - val_loss: 1.7172 - val_acc: 0.3080\n",
      "Epoch 7/10\n",
      "7/7 [==============================] - 9s 1s/step - loss: 1.7050 - acc: 0.2612 - val_loss: 1.6952 - val_acc: 0.3080\n",
      "Epoch 8/10\n",
      "7/7 [==============================] - 9s 1s/step - loss: 1.7816 - acc: 0.2723 - val_loss: 1.7163 - val_acc: 0.3080\n",
      "Epoch 9/10\n",
      "7/7 [==============================] - 9s 1s/step - loss: 1.7211 - acc: 0.2656 - val_loss: 1.7122 - val_acc: 0.3080\n",
      "Epoch 10/10\n",
      "7/7 [==============================] - 8s 1s/step - loss: 1.7374 - acc: 0.2756 - val_loss: 1.7081 - val_acc: 0.3080\n"
     ]
    }
   ],
   "source": [
    "history = model.fit_generator(\n",
    "    train_generator,\n",
    "    steps_per_epoch=453//64,\n",
    "    epochs=10,\n",
    "    class_weight=class_weight,\n",
    "    validation_data=test_generator\n",
    ")"
   ]
  },
  {
   "cell_type": "code",
   "execution_count": null,
   "metadata": {
    "collapsed": true
   },
   "outputs": [],
   "source": []
  }
 ],
 "metadata": {
  "kernelspec": {
   "display_name": "tensorflow",
   "language": "python",
   "name": "tensorflow"
  },
  "language_info": {
   "codemirror_mode": {
    "name": "ipython",
    "version": 3
   },
   "file_extension": ".py",
   "mimetype": "text/x-python",
   "name": "python",
   "nbconvert_exporter": "python",
   "pygments_lexer": "ipython3",
   "version": "3.6.2"
  }
 },
 "nbformat": 4,
 "nbformat_minor": 2
}
