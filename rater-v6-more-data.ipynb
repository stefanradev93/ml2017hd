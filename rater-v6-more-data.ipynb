{
 "cells": [
  {
   "cell_type": "markdown",
   "metadata": {},
   "source": [
    "### Ordinal Regression - binary crossentropy + metrics=['accuracy']"
   ]
  },
  {
   "cell_type": "code",
   "execution_count": 1,
   "metadata": {},
   "outputs": [
    {
     "name": "stderr",
     "output_type": "stream",
     "text": [
      "/home/gloria/anaconda3/lib/python3.6/site-packages/h5py/__init__.py:36: FutureWarning: Conversion of the second argument of issubdtype from `float` to `np.floating` is deprecated. In future, it will be treated as `np.float64 == np.dtype(float).type`.\n",
      "  from ._conv import register_converters as _register_converters\n",
      "Using TensorFlow backend.\n",
      "/home/gloria/tensorflow/lib/python3.6/importlib/_bootstrap.py:205: RuntimeWarning: compiletime version 3.5 of module 'tensorflow.python.framework.fast_tensor_util' does not match runtime version 3.6\n",
      "  return f(*args, **kwds)\n"
     ]
    }
   ],
   "source": [
    "from keras.engine import Model\n",
    "from keras.layers import Flatten, Dense, Input, Dropout\n",
    "from keras_vggface.vggface import VGGFace\n",
    "from keras.preprocessing.image import ImageDataGenerator\n",
    "from keras_vggface import utils\n",
    "from keras.optimizers import Adam\n",
    "from keras.preprocessing import image\n",
    "from keras import backend as K\n",
    "from keras.callbacks import ModelCheckpoint, EarlyStopping\n",
    "from sklearn.utils import class_weight\n",
    "import keras\n",
    "import numpy as np\n",
    "import os\n",
    "import shutil\n",
    "import matplotlib.pyplot as plt\n",
    "import matplotlib.image as mpimg\n",
    "from sklearn.model_selection import train_test_split\n",
    "from sklearn.metrics import confusion_matrix\n",
    "%matplotlib inline"
   ]
  },
  {
   "cell_type": "code",
   "execution_count": 2,
   "metadata": {
    "collapsed": true
   },
   "outputs": [],
   "source": [
    "# Constants\n",
    "IMG_SIZE = 200\n",
    "IMG_DIR = '../project/all_females_combined'\n",
    "RATING_PATH = './ratings_stefan_combined.txt'\n",
    "VERSION = 'v6-more-data'"
   ]
  },
  {
   "cell_type": "code",
   "execution_count": 3,
   "metadata": {
    "collapsed": true
   },
   "outputs": [],
   "source": [
    "def prepareData(percentage):\n",
    "    # Load ratings\n",
    "    ratings = np.genfromtxt(RATING_PATH)\n",
    "    \n",
    "    # Convert ratings to the desired format\n",
    "    # 1. First round them\n",
    "    ratings_rounded = np.round(ratings, 1).astype(np.int8)\n",
    "\n",
    "    # 2. Then encode as suggested by Cheng (2007)\n",
    "    ratings_prepared = np.zeros((len(ratings_rounded), len(np.unique(ratings_rounded))))\n",
    "    for i, r in enumerate(ratings_rounded):\n",
    "        for j in range(r):\n",
    "            ratings_prepared[i, j] = 1\n",
    "        \n",
    "    # 3. Finally, make sure assignment is correct\n",
    "    assert np.all(np.sum(ratings_prepared, axis=1).astype(np.int8) == ratings_rounded)\n",
    "    \n",
    "    ### Move all images according to ratings\n",
    "    images = sorted(os.listdir(IMG_DIR))\n",
    "\n",
    "    ### Make sure lengths of ratings and images correspond \n",
    "    assert len(ratings) == len(images)\n",
    "    \n",
    "    perm_ratings = np.random.permutation(len(ratings))\n",
    "    test_len = int(len(ratings) * percentage/100)\n",
    "    train_len = len(ratings) - test_len\n",
    "\n",
    "    test_ind = perm_ratings[:test_len]\n",
    "    train_ind = perm_ratings[test_len:]\n",
    "    \n",
    "    #get test & train data\n",
    "    data_test = np.zeros((len(test_ind), IMG_SIZE, IMG_SIZE, 3))    \n",
    "    data_train = np.zeros((len(train_ind), IMG_SIZE, IMG_SIZE, 3)) \n",
    "    last_set_train = 0\n",
    "    last_set_test = 0\n",
    "\n",
    "    for idx, _im in enumerate(images): #iterate over images\n",
    "        if idx in test_ind:\n",
    "            _img = image.load_img(os.path.join(IMG_DIR, _im), target_size=(IMG_SIZE,IMG_SIZE))\n",
    "            _x = image.img_to_array(_img)\n",
    "            _x = np.expand_dims(_x, axis=0)\n",
    "            data_test[last_set_test, :, :, :] = utils.preprocess_input(_x, version=1) / .255\n",
    "            last_set_test += 1\n",
    "        if idx in train_ind:\n",
    "            _img = image.load_img(os.path.join(IMG_DIR, _im), target_size=(IMG_SIZE,IMG_SIZE))\n",
    "            _x = image.img_to_array(_img)\n",
    "            _x = np.expand_dims(_x, axis=0)\n",
    "            data_train[last_set_train, :, :, :] = utils.preprocess_input(_x, version=1) / .255\n",
    "            last_set_train += 1\n",
    "    \n",
    "    \n",
    "    return data_train, ratings_prepared[train_ind], data_test, ratings_prepared[test_ind], ratings_rounded"
   ]
  },
  {
   "cell_type": "code",
   "execution_count": 4,
   "metadata": {
    "collapsed": true
   },
   "outputs": [],
   "source": [
    "def getGenerator(data_train, data_test):\n",
    "    train_datagen = ImageDataGenerator(rescale=1./255, \n",
    "                                rotation_range=40,\n",
    "                                width_shift_range=0.2,\n",
    "                                height_shift_range=0.2,\n",
    "                                shear_range=0.2,\n",
    "                                zoom_range=0.2,\n",
    "                                horizontal_flip=True,\n",
    "                                fill_mode='nearest',\n",
    "                                preprocessing_function=utils.preprocess_input)\n",
    "\n",
    "    train_datagen.fit(data_train)\n",
    "    \n",
    "    \n",
    "    test_datagen = ImageDataGenerator(rescale=1./255)\n",
    "    test_datagen.fit(data_test)\n",
    "\n",
    "    return train_datagen, test_datagen"
   ]
  },
  {
   "cell_type": "code",
   "execution_count": 5,
   "metadata": {
    "collapsed": true
   },
   "outputs": [],
   "source": [
    "def visualize_loss(history):\n",
    "    loss = history.history['loss']\n",
    "    val_loss = history.history['val_loss']\n",
    "    epochs = range(1, len(loss) + 1)\n",
    "    plt.figure(figsize=(15,8))\n",
    "    plt.plot(epochs, loss, 'bo-', label=\"Training loss\")\n",
    "    plt.plot(epochs, val_loss, 'b', label=\"Validation loss\")\n",
    "    plt.xlabel('Epochs')\n",
    "    plt.ylabel('Loss')\n",
    "    plt.legend()\n",
    "    plt.show()"
   ]
  },
  {
   "cell_type": "code",
   "execution_count": 6,
   "metadata": {
    "collapsed": true
   },
   "outputs": [],
   "source": [
    "def visualize_acc(history):\n",
    "    loss = history.history['acc']\n",
    "    val_loss = history.history['val_acc']\n",
    "    epochs = range(1, len(loss) + 1)\n",
    "    plt.figure(figsize=(15,8))\n",
    "    plt.plot(epochs, loss, 'ro-', label=\"Training acc\")\n",
    "    plt.plot(epochs, val_loss, 'r', label=\"Validation acc\")\n",
    "    plt.xlabel('Epochs')\n",
    "    plt.ylabel('Acc')\n",
    "    plt.legend()\n",
    "    plt.show()"
   ]
  },
  {
   "cell_type": "code",
   "execution_count": 7,
   "metadata": {
    "collapsed": true
   },
   "outputs": [],
   "source": [
    "def recommend(images, pred_classes):\n",
    "    recs = np.where(pred_classes >= 4)\n",
    "    \n",
    "    for i in recs[0]:\n",
    "        imgplot = plt.imshow(images[i])\n",
    "        plt.show()\n",
    "        plt.clf()"
   ]
  },
  {
   "cell_type": "code",
   "execution_count": 8,
   "metadata": {},
   "outputs": [],
   "source": [
    "x_train, y_train, x_test, y_test, ratings = prepareData(5)\n",
    "train_generator, test_generator = getGenerator(x_train,x_test)"
   ]
  },
  {
   "cell_type": "code",
   "execution_count": 9,
   "metadata": {},
   "outputs": [],
   "source": [
    "# Add custom layers\n",
    "vgg_base = VGGFace(include_top=False, input_shape=(IMG_SIZE, IMG_SIZE, 3), pooling='max')\n",
    "last_layer = vgg_base.get_layer('global_max_pooling2d_1').output\n",
    "X = Dense(256, activation='relu', name='fc6')(last_layer)\n",
    "X = Dropout(0.2)(X)\n",
    "X = Dense(128, activation='relu', name='fc7')(X)\n",
    "X = Dropout(0.2)(X)\n",
    "X = Dense(64, activation='relu', name='fc8')(X)\n",
    "X = Dropout(0.2)(X)\n",
    "output = Dense(len(np.unique(ratings)), activation='sigmoid')(X)\n",
    "model = Model(inputs=vgg_base.input, outputs=output)\n",
    "\n",
    "# Freeze vgg layers\n",
    "for layer in vgg_base.layers:\n",
    "    layer.trainable = False\n",
    "    \n",
    "# Compute class weights since we have unbalaned classes\n",
    "class_weight = class_weight.compute_class_weight('balanced', \n",
    "                                                 np.unique(ratings), \n",
    "                                                 ratings)\n",
    "\n",
    "model.compile(optimizer=Adam(lr= 0.0005,clipnorm=1.0),\n",
    "              loss='binary_crossentropy', \n",
    "              metrics=['accuracy'])\n",
    "\n",
    "checkpointer = ModelCheckpoint(filepath='./weights-' + VERSION + '.hdf5', verbose=1, save_best_only=True)\n",
    "earlystop = EarlyStopping(monitor='val_loss', patience=10, verbose=0)"
   ]
  },
  {
   "cell_type": "code",
   "execution_count": 10,
   "metadata": {},
   "outputs": [
    {
     "name": "stdout",
     "output_type": "stream",
     "text": [
      "Epoch 1/500\n",
      "8/8 [==============================] - 14s 2s/step - loss: 0.6097 - acc: 0.6601 - val_loss: 0.4431 - val_acc: 0.7952\n",
      "\n",
      "Epoch 00001: val_loss improved from inf to 0.44311, saving model to ./weights-v6-more-data.hdf5\n",
      "Epoch 2/500\n",
      "8/8 [==============================] - 5s 664ms/step - loss: 0.4706 - acc: 0.7748 - val_loss: 0.3808 - val_acc: 0.8190\n",
      "\n",
      "Epoch 00002: val_loss improved from 0.44311 to 0.38079, saving model to ./weights-v6-more-data.hdf5\n",
      "Epoch 3/500\n",
      "8/8 [==============================] - 5s 678ms/step - loss: 0.4424 - acc: 0.7844 - val_loss: 0.3695 - val_acc: 0.8190\n",
      "\n",
      "Epoch 00003: val_loss improved from 0.38079 to 0.36950, saving model to ./weights-v6-more-data.hdf5\n",
      "Epoch 4/500\n",
      "8/8 [==============================] - 6s 704ms/step - loss: 0.4387 - acc: 0.7715 - val_loss: 0.3768 - val_acc: 0.7952\n",
      "\n",
      "Epoch 00004: val_loss did not improve\n",
      "Epoch 5/500\n",
      "8/8 [==============================] - 6s 696ms/step - loss: 0.4311 - acc: 0.7847 - val_loss: 0.3828 - val_acc: 0.8048\n",
      "\n",
      "Epoch 00005: val_loss did not improve\n",
      "Epoch 6/500\n",
      "8/8 [==============================] - 6s 692ms/step - loss: 0.4176 - acc: 0.7983 - val_loss: 0.3763 - val_acc: 0.8095\n",
      "\n",
      "Epoch 00006: val_loss did not improve\n",
      "Epoch 7/500\n",
      "8/8 [==============================] - 6s 714ms/step - loss: 0.4220 - acc: 0.7936 - val_loss: 0.3734 - val_acc: 0.8190\n",
      "\n",
      "Epoch 00007: val_loss did not improve\n",
      "Epoch 8/500\n",
      "8/8 [==============================] - 6s 722ms/step - loss: 0.4037 - acc: 0.8011 - val_loss: 0.3785 - val_acc: 0.7952\n",
      "\n",
      "Epoch 00008: val_loss did not improve\n",
      "Epoch 9/500\n",
      "8/8 [==============================] - 6s 709ms/step - loss: 0.4360 - acc: 0.7698 - val_loss: 0.3811 - val_acc: 0.8048\n",
      "\n",
      "Epoch 00009: val_loss did not improve\n",
      "Epoch 10/500\n",
      "8/8 [==============================] - 6s 769ms/step - loss: 0.4064 - acc: 0.7950 - val_loss: 0.3764 - val_acc: 0.8143\n",
      "\n",
      "Epoch 00010: val_loss did not improve\n",
      "Epoch 11/500\n",
      "8/8 [==============================] - 6s 709ms/step - loss: 0.4038 - acc: 0.7992 - val_loss: 0.3726 - val_acc: 0.8048\n",
      "\n",
      "Epoch 00011: val_loss did not improve\n",
      "Epoch 12/500\n",
      "8/8 [==============================] - 6s 689ms/step - loss: 0.4037 - acc: 0.8072 - val_loss: 0.3803 - val_acc: 0.8095\n",
      "\n",
      "Epoch 00012: val_loss did not improve\n",
      "Epoch 13/500\n",
      "8/8 [==============================] - 6s 711ms/step - loss: 0.4122 - acc: 0.7921 - val_loss: 0.3777 - val_acc: 0.8095\n",
      "\n",
      "Epoch 00013: val_loss did not improve\n"
     ]
    }
   ],
   "source": [
    "history = model.fit_generator(\n",
    "    train_generator.flow(x_train, y_train, batch_size=64),\n",
    "    steps_per_epoch=540//64,\n",
    "    epochs=500,\n",
    "    class_weight=class_weight,\n",
    "    validation_data=test_generator.flow(x_test, y_test, batch_size=64),\n",
    "    callbacks=[earlystop, checkpointer]\n",
    ")"
   ]
  },
  {
   "cell_type": "code",
   "execution_count": 11,
   "metadata": {},
   "outputs": [
    {
     "data": {
      "image/png": "[encoded data removed]",
      "text/plain": [
       "<matplotlib.figure.Figure at 0x7f5ce4de5278>"
      ]
     },
     "metadata": {},
     "output_type": "display_data"
    }
   ],
   "source": [
    "visualize_loss(history)"
   ]
  },
  {
   "cell_type": "code",
   "execution_count": 12,
   "metadata": {},
   "outputs": [
    {
     "data": {
      "image/png": "[encoded data removed]",
      "text/plain": [
       "<matplotlib.figure.Figure at 0x7f5ca8499f98>"
      ]
     },
     "metadata": {},
     "output_type": "display_data"
    }
   ],
   "source": [
    "visualize_acc(history)"
   ]
  },
  {
   "cell_type": "code",
   "execution_count": 13,
   "metadata": {
    "collapsed": true
   },
   "outputs": [],
   "source": [
    "model.save('./models/love_classifier' + VERSION + '.h5')"
   ]
  },
  {
   "cell_type": "code",
   "execution_count": 14,
   "metadata": {},
   "outputs": [
    {
     "name": "stdout",
     "output_type": "stream",
     "text": [
      "(35, 6)\n",
      "(35,)\n",
      "[2 1 4 0 1 3 0 0 2 1 0 0 0 3 1 1 3 0 2 3 0 3 1 2 4 0 1 0 0 2 1 2 1 4 0]\n",
      "[2 1 2 2 1 1 2 1 1 2 1 1 2 1 1 1 1 1 1 2 1 2 1 1 1 1 1 2 1 1 1 1 2 1 2]\n"
     ]
    },
    {
     "data": {
      "text/plain": [
       "array([[0, 7, 5, 0, 0],\n",
       "       [0, 7, 2, 0, 0],\n",
       "       [0, 5, 1, 0, 0],\n",
       "       [0, 3, 2, 0, 0],\n",
       "       [0, 2, 1, 0, 0]])"
      ]
     },
     "execution_count": 14,
     "metadata": {},
     "output_type": "execute_result"
    }
   ],
   "source": [
    "predictions = model.predict(x_test)\n",
    "print(predictions.shape)\n",
    "pred_classes = predictions.sum(axis=-1)\n",
    "pred_classes = np.round(pred_classes, 1).astype(np.int8)\n",
    "print(pred_classes.shape)\n",
    "\n",
    "y_true = np.array(y_test).sum(axis=-1).astype(np.int8)\n",
    "print(y_true)\n",
    "print(pred_classes)\n",
    "\n",
    "confusion_matrix(y_true,pred_classes)"
   ]
  },
  {
   "cell_type": "code",
   "execution_count": 15,
   "metadata": {},
   "outputs": [],
   "source": [
    "recommend(x_test,pred_classes)"
   ]
  },
  {
   "cell_type": "code",
   "execution_count": null,
   "metadata": {
    "collapsed": true
   },
   "outputs": [],
   "source": []
  }
 ],
 "metadata": {
  "kernelspec": {
   "display_name": "tensorflow",
   "language": "python",
   "name": "tensorflow"
  },
  "language_info": {
   "codemirror_mode": {
    "name": "ipython",
    "version": 3
   },
   "file_extension": ".py",
   "mimetype": "text/x-python",
   "name": "python",
   "nbconvert_exporter": "python",
   "pygments_lexer": "ipython3",
   "version": "3.6.2"
  }
 },
 "nbformat": 4,
 "nbformat_minor": 2
}
