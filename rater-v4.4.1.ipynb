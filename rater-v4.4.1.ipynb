{
 "cells": [
  {
   "cell_type": "markdown",
   "metadata": {},
   "source": [
    "### BatchNorm + ReLU w/max_value==5"
   ]
  },
  {
   "cell_type": "code",
   "execution_count": 1,
   "metadata": {},
   "outputs": [
    {
     "name": "stderr",
     "output_type": "stream",
     "text": [
      "/home/gloria/anaconda3/lib/python3.6/site-packages/h5py/__init__.py:36: FutureWarning: Conversion of the second argument of issubdtype from `float` to `np.floating` is deprecated. In future, it will be treated as `np.float64 == np.dtype(float).type`.\n",
      "  from ._conv import register_converters as _register_converters\n",
      "Using TensorFlow backend.\n",
      "/home/gloria/tensorflow/lib/python3.6/importlib/_bootstrap.py:205: RuntimeWarning: compiletime version 3.5 of module 'tensorflow.python.framework.fast_tensor_util' does not match runtime version 3.6\n",
      "  return f(*args, **kwds)\n"
     ]
    }
   ],
   "source": [
    "from keras.engine import  Model\n",
    "from keras.layers import Flatten, Dense, Input, Dropout, BatchNormalization, Activation\n",
    "from keras_vggface.vggface import VGGFace\n",
    "from keras.preprocessing.image import ImageDataGenerator\n",
    "from keras_vggface import utils\n",
    "from keras.optimizers import Adam\n",
    "from keras.preprocessing import image\n",
    "from keras import backend as K\n",
    "from keras.callbacks import ModelCheckpoint, EarlyStopping\n",
    "import numpy as np\n",
    "import os\n",
    "import shutil\n",
    "from sklearn.model_selection import train_test_split\n",
    "from sklearn.preprocessing import StandardScaler\n",
    "import matplotlib.pyplot as plt\n",
    "%matplotlib inline"
   ]
  },
  {
   "cell_type": "code",
   "execution_count": 2,
   "metadata": {
    "collapsed": true
   },
   "outputs": [],
   "source": [
    "# Constants\n",
    "IMG_SIZE = 200\n",
    "IMG_DIR = '../project/all_females'\n",
    "RATING_PATH = './ratings_stefan.txt'"
   ]
  },
  {
   "cell_type": "markdown",
   "metadata": {},
   "source": [
    "### Build model"
   ]
  },
  {
   "cell_type": "code",
   "execution_count": 3,
   "metadata": {},
   "outputs": [
    {
     "name": "stdout",
     "output_type": "stream",
     "text": [
      "Train-test-split:\n",
      "X_train:  (454,)\n",
      "X_test:  (114,)\n",
      "y_train:  (454, 1)\n",
      "y_test:  (114, 1)\n"
     ]
    }
   ],
   "source": [
    "# Read in ratings\n",
    "ratings = np.genfromtxt(RATING_PATH)\n",
    "scaler = StandardScaler()\n",
    "\n",
    "### Distribute images across folders\n",
    "if not os.path.isdir('./data/train/train'):\n",
    "    os.makedirs('./data/train/train')\n",
    "if not os.path.isdir('./data/test/test'):\n",
    "    os.makedirs('./data/test/test')\n",
    "        \n",
    "### Move all images according to ratings\n",
    "images = sorted(os.listdir(IMG_DIR))\n",
    "\n",
    "### Make sure lengths of ratings and images correspond \n",
    "assert len(ratings) == len(images)\n",
    "\n",
    "X_train, X_test, y_train, y_test = train_test_split(images, ratings, test_size=0.2)\n",
    "\n",
    "y_train = scaler.fit_transform(y_train.reshape(-1,1))\n",
    "y_test = scaler.transform(y_test.reshape(-1,1))\n",
    "    \n",
    "X_train = np.asarray(X_train)\n",
    "X_test = np.asarray(X_test)\n",
    "y_train = np.asarray(y_train)\n",
    "y_test = np.asarray(y_test)\n",
    "        \n",
    "print(\"Train-test-split:\")\n",
    "print(\"X_train: \",X_train.shape)\n",
    "print(\"X_test: \",X_test.shape)\n",
    "print(\"y_train: \",y_train.shape)\n",
    "print(\"y_test: \",y_test.shape)\n",
    "\n",
    "data_train = np.zeros((X_train.shape[0], IMG_SIZE, IMG_SIZE, 3))\n",
    "data_test = np.zeros((X_test.shape[0], IMG_SIZE, IMG_SIZE, 3))\n",
    "\n",
    "for idx, _im in enumerate(X_train):\n",
    "    # Change the image path with yours.\n",
    "    _img = image.load_img(os.path.join(IMG_DIR, _im), target_size=(IMG_SIZE,IMG_SIZE))\n",
    "    _x = image.img_to_array(_img)\n",
    "    _x = np.expand_dims(_x, axis=0)\n",
    "    data_train[idx, :, :, :] = utils.preprocess_input(_x, version=1) / .255 \n",
    "    \n",
    "# Same for test data\n",
    "for idx, _im in enumerate(X_test):   \n",
    "    _img = image.load_img(os.path.join(IMG_DIR, _im), target_size=(IMG_SIZE,IMG_SIZE))\n",
    "    _x = image.img_to_array(_img)\n",
    "    _x = np.expand_dims(_x, axis=0)\n",
    "    data_test[idx, :, :, :] = utils.preprocess_input(_x, version=1) / .255\n",
    "\n",
    "### Loop throgh all images and store them in the dedicated folders\n",
    "#for img in X_train:\n",
    "#    src = os.path.join(IMG_DIR, img)\n",
    "#    dest = os.path.join('./data/train/train', img)\n",
    "#    shutil.copy(src, dest)\n",
    "\n",
    "#for img in X_test:\n",
    "#    src = os.path.join(IMG_DIR, img)\n",
    "#    dest = os.path.join('./data/test/test', img)\n",
    "#    shutil.copy(src, dest)"
   ]
  },
  {
   "cell_type": "code",
   "execution_count": 4,
   "metadata": {},
   "outputs": [
    {
     "name": "stdout",
     "output_type": "stream",
     "text": [
      "Trainable weights:\n",
      "_________________________________________________________________\n",
      "Layer (type)                 Output Shape              Param #   \n",
      "=================================================================\n",
      "input_1 (InputLayer)         (None, 200, 200, 3)       0         \n",
      "_________________________________________________________________\n",
      "conv1_1 (Conv2D)             (None, 200, 200, 64)      1792      \n",
      "_________________________________________________________________\n",
      "conv1_2 (Conv2D)             (None, 200, 200, 64)      36928     \n",
      "_________________________________________________________________\n",
      "pool1 (MaxPooling2D)         (None, 100, 100, 64)      0         \n",
      "_________________________________________________________________\n",
      "conv2_1 (Conv2D)             (None, 100, 100, 128)     73856     \n",
      "_________________________________________________________________\n",
      "conv2_2 (Conv2D)             (None, 100, 100, 128)     147584    \n",
      "_________________________________________________________________\n",
      "pool2 (MaxPooling2D)         (None, 50, 50, 128)       0         \n",
      "_________________________________________________________________\n",
      "conv3_1 (Conv2D)             (None, 50, 50, 256)       295168    \n",
      "_________________________________________________________________\n",
      "conv3_2 (Conv2D)             (None, 50, 50, 256)       590080    \n",
      "_________________________________________________________________\n",
      "conv3_3 (Conv2D)             (None, 50, 50, 256)       590080    \n",
      "_________________________________________________________________\n",
      "pool3 (MaxPooling2D)         (None, 25, 25, 256)       0         \n",
      "_________________________________________________________________\n",
      "conv4_1 (Conv2D)             (None, 25, 25, 512)       1180160   \n",
      "_________________________________________________________________\n",
      "conv4_2 (Conv2D)             (None, 25, 25, 512)       2359808   \n",
      "_________________________________________________________________\n",
      "conv4_3 (Conv2D)             (None, 25, 25, 512)       2359808   \n",
      "_________________________________________________________________\n",
      "pool4 (MaxPooling2D)         (None, 12, 12, 512)       0         \n",
      "_________________________________________________________________\n",
      "conv5_1 (Conv2D)             (None, 12, 12, 512)       2359808   \n",
      "_________________________________________________________________\n",
      "conv5_2 (Conv2D)             (None, 12, 12, 512)       2359808   \n",
      "_________________________________________________________________\n",
      "conv5_3 (Conv2D)             (None, 12, 12, 512)       2359808   \n",
      "_________________________________________________________________\n",
      "pool5 (MaxPooling2D)         (None, 6, 6, 512)         0         \n",
      "_________________________________________________________________\n",
      "global_max_pooling2d_1 (Glob (None, 512)               0         \n",
      "_________________________________________________________________\n",
      "fc6 (Dense)                  (None, 256)               131328    \n",
      "_________________________________________________________________\n",
      "batch_normalization_1 (Batch (None, 256)               1024      \n",
      "_________________________________________________________________\n",
      "activation_1 (Activation)    (None, 256)               0         \n",
      "_________________________________________________________________\n",
      "dropout_1 (Dropout)          (None, 256)               0         \n",
      "_________________________________________________________________\n",
      "fc7 (Dense)                  (None, 128)               32896     \n",
      "_________________________________________________________________\n",
      "batch_normalization_2 (Batch (None, 128)               512       \n",
      "_________________________________________________________________\n",
      "activation_2 (Activation)    (None, 128)               0         \n",
      "_________________________________________________________________\n",
      "dropout_2 (Dropout)          (None, 128)               0         \n",
      "_________________________________________________________________\n",
      "fc8 (Dense)                  (None, 64)                8256      \n",
      "_________________________________________________________________\n",
      "batch_normalization_3 (Batch (None, 64)                256       \n",
      "_________________________________________________________________\n",
      "activation_3 (Activation)    (None, 64)                0         \n",
      "_________________________________________________________________\n",
      "dropout_3 (Dropout)          (None, 64)                0         \n",
      "_________________________________________________________________\n",
      "dense_1 (Dense)              (None, 1)                 65        \n",
      "_________________________________________________________________\n",
      "batch_normalization_4 (Batch (None, 1)                 4         \n",
      "=================================================================\n",
      "Total params: 14,889,029\n",
      "Trainable params: 173,443\n",
      "Non-trainable params: 14,715,586\n",
      "_________________________________________________________________\n"
     ]
    }
   ],
   "source": [
    "K.clear_session()\n",
    "\n",
    "#create function for calling clipped ReLU\n",
    "def create_relu_advanced(max_value=1.):        \n",
    "    def relu_advanced(x):\n",
    "        return K.relu(x, max_value=K.cast_to_floatx(max_value))\n",
    "    return relu_advanced\n",
    "\n",
    "vgg_base = VGGFace(include_top=False, input_shape=(IMG_SIZE, IMG_SIZE, 3), pooling='max')\n",
    "\n",
    "# Add custom layers\n",
    "last_layer = vgg_base.get_layer('global_max_pooling2d_1').output\n",
    "#X = Dropout(0.2)(last_layer)\n",
    "X = Dense(256, activation=None, name='fc6')(last_layer)\n",
    "X = BatchNormalization()(X)\n",
    "X = Activation('relu')(X)\n",
    "X = Dropout(0.2)(X)\n",
    "X = Dense(128, activation=None, name='fc7')(X)\n",
    "X = BatchNormalization()(X)\n",
    "X = Activation('relu')(X)\n",
    "X = Dropout(0.2)(X)\n",
    "X = Dense(64, activation=None, name='fc8')(X)\n",
    "X = BatchNormalization()(X)\n",
    "X = Activation('relu')(X)\n",
    "X = Dropout(0.2)(X)\n",
    "#output = Dense(len(np.unique(ratings)), activation=None)(X)\n",
    "\n",
    "output = Dense(1, activation=create_relu_advanced(max_value=5))(X)\n",
    "output = BatchNormalization()(output)\n",
    "\n",
    "# this is the model we will train\n",
    "model = Model(inputs=vgg_base.input, outputs=output)\n",
    "\n",
    "# first: train only the top layers (which were randomly initialized)\n",
    "# i.e. freeze all convolutional InceptionV3 layers\n",
    "for layer in vgg_base.layers:\n",
    "    layer.trainable = False\n",
    "\n",
    "# Make sure weights are not trainable\n",
    "print(\"Trainable weights:\")\n",
    "model.trainable_weights\n",
    "\n",
    "model.compile(optimizer=Adam(clipnorm=1.0),loss='mean_absolute_error', metrics=['mae'])\n",
    "\n",
    "model.summary()"
   ]
  },
  {
   "cell_type": "markdown",
   "metadata": {},
   "source": [
    "### Prepare data\n",
    "### **Please remember to delete the train & test folders if you have run this cell before!**"
   ]
  },
  {
   "cell_type": "markdown",
   "metadata": {},
   "source": [
    "### Data augmentation"
   ]
  },
  {
   "cell_type": "code",
   "execution_count": 5,
   "metadata": {
    "collapsed": true
   },
   "outputs": [],
   "source": [
    "datagen = ImageDataGenerator(rescale=1./255, \n",
    "                             rotation_range=40,\n",
    "                             width_shift_range=0.2,\n",
    "                             height_shift_range=0.2,\n",
    "                             shear_range=0.2,\n",
    "                             zoom_range=0.2,\n",
    "                             horizontal_flip=True,\n",
    "                             fill_mode='nearest',\n",
    "                             preprocessing_function=utils.preprocess_input)\n",
    "\n",
    "datagen.fit(data_train)\n",
    "\n",
    "#train_generator = datagen.flow_from_directory(\n",
    "#    './data/train',\n",
    "#    target_size=(IMG_SIZE, IMG_SIZE),\n",
    "#    batch_size=64,\n",
    "#    class_mode=None\n",
    "#)\n",
    "\n",
    "test_datagen = ImageDataGenerator(rescale=1./255)\n",
    "\n",
    "test_datagen.fit(data_test)\n",
    "\n",
    "#test_generator = test_datagen.flow_from_directory(\n",
    "#    './data/test',\n",
    "#    target_size=(IMG_SIZE, IMG_SIZE),\n",
    "#    batch_size=64,\n",
    "#    class_mode=None\n",
    "#)"
   ]
  },
  {
   "cell_type": "markdown",
   "metadata": {},
   "source": [
    "### Train"
   ]
  },
  {
   "cell_type": "code",
   "execution_count": 6,
   "metadata": {},
   "outputs": [
    {
     "name": "stdout",
     "output_type": "stream",
     "text": [
      "Epoch 1/1\n",
      "100/100 [==============================] - 69s 687ms/step - loss: 0.8360 - mean_absolute_error: 0.8360 - val_loss: 0.6899 - val_mean_absolute_error: 0.6899\n",
      "\n",
      "Epoch 00001: val_loss improved from inf to 0.68994, saving model to ./weights-v4.4.1.hdf5\n"
     ]
    }
   ],
   "source": [
    "checkpointer = ModelCheckpoint(filepath='./weights-v4.4.1.hdf5', verbose=1, save_best_only=True)\n",
    "earlystop = EarlyStopping(monitor='val_loss', patience=10, verbose=0)\n",
    "\n",
    "history = model.fit_generator(\n",
    "    datagen.flow(data_train, y_train, batch_size=64),\n",
    "    steps_per_epoch=100,\n",
    "    epochs=1,\n",
    "    validation_data=test_datagen.flow(data_test, y_test, batch_size=64),\n",
    "    callbacks=[checkpointer]\n",
    ")"
   ]
  },
  {
   "cell_type": "code",
   "execution_count": 7,
   "metadata": {},
   "outputs": [
    {
     "name": "stdout",
     "output_type": "stream",
     "text": [
      "Epoch 1/500\n",
      "7/7 [==============================] - 6s 804ms/step - loss: 0.7036 - mean_absolute_error: 0.7036 - val_loss: 0.6713 - val_mean_absolute_error: 0.6713\n",
      "\n",
      "Epoch 00001: val_loss improved from 0.68994 to 0.67129, saving model to ./weights-v4.4.1.hdf5\n",
      "Epoch 2/500\n",
      "7/7 [==============================] - 5s 747ms/step - loss: 0.6309 - mean_absolute_error: 0.6309 - val_loss: 0.7419 - val_mean_absolute_error: 0.7419\n",
      "\n",
      "Epoch 00002: val_loss did not improve\n",
      "Epoch 3/500\n",
      "7/7 [==============================] - 5s 759ms/step - loss: 0.5937 - mean_absolute_error: 0.5937 - val_loss: 0.7198 - val_mean_absolute_error: 0.7198\n",
      "\n",
      "Epoch 00003: val_loss did not improve\n",
      "Epoch 4/500\n",
      "7/7 [==============================] - 6s 858ms/step - loss: 0.6167 - mean_absolute_error: 0.6167 - val_loss: 0.6206 - val_mean_absolute_error: 0.6206\n",
      "\n",
      "Epoch 00004: val_loss improved from 0.67129 to 0.62063, saving model to ./weights-v4.4.1.hdf5\n",
      "Epoch 5/500\n",
      "7/7 [==============================] - 5s 750ms/step - loss: 0.6583 - mean_absolute_error: 0.6583 - val_loss: 0.6425 - val_mean_absolute_error: 0.6425\n",
      "\n",
      "Epoch 00005: val_loss did not improve\n",
      "Epoch 6/500\n",
      "7/7 [==============================] - 5s 759ms/step - loss: 0.6506 - mean_absolute_error: 0.6506 - val_loss: 0.6797 - val_mean_absolute_error: 0.6797\n",
      "\n",
      "Epoch 00006: val_loss did not improve\n",
      "Epoch 7/500\n",
      "7/7 [==============================] - 5s 758ms/step - loss: 0.6207 - mean_absolute_error: 0.6207 - val_loss: 0.6670 - val_mean_absolute_error: 0.6670\n",
      "\n",
      "Epoch 00007: val_loss did not improve\n",
      "Epoch 8/500\n",
      "7/7 [==============================] - 5s 761ms/step - loss: 0.5839 - mean_absolute_error: 0.5839 - val_loss: 0.6402 - val_mean_absolute_error: 0.6402\n",
      "\n",
      "Epoch 00008: val_loss did not improve\n",
      "Epoch 9/500\n",
      "7/7 [==============================] - 5s 766ms/step - loss: 0.6085 - mean_absolute_error: 0.6085 - val_loss: 0.6326 - val_mean_absolute_error: 0.6326\n",
      "\n",
      "Epoch 00009: val_loss did not improve\n",
      "Epoch 10/500\n",
      "7/7 [==============================] - 5s 756ms/step - loss: 0.5124 - mean_absolute_error: 0.5124 - val_loss: 0.6222 - val_mean_absolute_error: 0.6222\n",
      "\n",
      "Epoch 00010: val_loss did not improve\n",
      "Epoch 11/500\n",
      "7/7 [==============================] - 5s 755ms/step - loss: 0.5488 - mean_absolute_error: 0.5488 - val_loss: 0.6102 - val_mean_absolute_error: 0.6102\n",
      "\n",
      "Epoch 00011: val_loss improved from 0.62063 to 0.61022, saving model to ./weights-v4.4.1.hdf5\n",
      "Epoch 12/500\n",
      "7/7 [==============================] - 6s 856ms/step - loss: 0.5290 - mean_absolute_error: 0.5290 - val_loss: 0.6093 - val_mean_absolute_error: 0.6093\n",
      "\n",
      "Epoch 00012: val_loss improved from 0.61022 to 0.60929, saving model to ./weights-v4.4.1.hdf5\n",
      "Epoch 13/500\n",
      "7/7 [==============================] - 5s 755ms/step - loss: 0.5620 - mean_absolute_error: 0.5620 - val_loss: 0.6637 - val_mean_absolute_error: 0.6637\n",
      "\n",
      "Epoch 00013: val_loss did not improve\n",
      "Epoch 14/500\n",
      "7/7 [==============================] - 6s 809ms/step - loss: 0.5420 - mean_absolute_error: 0.5420 - val_loss: 0.6472 - val_mean_absolute_error: 0.6472\n",
      "\n",
      "Epoch 00014: val_loss did not improve\n",
      "Epoch 15/500\n",
      "7/7 [==============================] - 5s 770ms/step - loss: 0.5221 - mean_absolute_error: 0.5221 - val_loss: 0.6363 - val_mean_absolute_error: 0.6363\n",
      "\n",
      "Epoch 00015: val_loss did not improve\n",
      "Epoch 16/500\n",
      "7/7 [==============================] - 6s 817ms/step - loss: 0.5116 - mean_absolute_error: 0.5116 - val_loss: 0.6379 - val_mean_absolute_error: 0.6379\n",
      "\n",
      "Epoch 00016: val_loss did not improve\n",
      "Epoch 17/500\n",
      "7/7 [==============================] - 8s 1s/step - loss: 0.4971 - mean_absolute_error: 0.4971 - val_loss: 0.6248 - val_mean_absolute_error: 0.6248\n",
      "\n",
      "Epoch 00017: val_loss did not improve\n",
      "Epoch 18/500\n",
      "7/7 [==============================] - 7s 1s/step - loss: 0.5688 - mean_absolute_error: 0.5688 - val_loss: 0.6339 - val_mean_absolute_error: 0.6339\n",
      "\n",
      "Epoch 00018: val_loss did not improve\n",
      "Epoch 19/500\n",
      "7/7 [==============================] - 9s 1s/step - loss: 0.5167 - mean_absolute_error: 0.5167 - val_loss: 0.5936 - val_mean_absolute_error: 0.5936\n",
      "\n",
      "Epoch 00019: val_loss improved from 0.60929 to 0.59361, saving model to ./weights-v4.4.1.hdf5\n",
      "Epoch 20/500\n",
      "7/7 [==============================] - 5s 761ms/step - loss: 0.4997 - mean_absolute_error: 0.4997 - val_loss: 0.5827 - val_mean_absolute_error: 0.5827\n",
      "\n",
      "Epoch 00020: val_loss improved from 0.59361 to 0.58265, saving model to ./weights-v4.4.1.hdf5\n",
      "Epoch 21/500\n",
      "7/7 [==============================] - 5s 765ms/step - loss: 0.4586 - mean_absolute_error: 0.4586 - val_loss: 0.5866 - val_mean_absolute_error: 0.5866\n",
      "\n",
      "Epoch 00021: val_loss did not improve\n",
      "Epoch 22/500\n",
      "7/7 [==============================] - 6s 843ms/step - loss: 0.5119 - mean_absolute_error: 0.5119 - val_loss: 0.5972 - val_mean_absolute_error: 0.5972\n",
      "\n",
      "Epoch 00022: val_loss did not improve\n",
      "Epoch 23/500\n",
      "7/7 [==============================] - 5s 749ms/step - loss: 0.4985 - mean_absolute_error: 0.4985 - val_loss: 0.6172 - val_mean_absolute_error: 0.6172\n",
      "\n",
      "Epoch 00023: val_loss did not improve\n",
      "Epoch 24/500\n",
      "7/7 [==============================] - 5s 750ms/step - loss: 0.4903 - mean_absolute_error: 0.4903 - val_loss: 0.6103 - val_mean_absolute_error: 0.6103\n",
      "\n",
      "Epoch 00024: val_loss did not improve\n",
      "Epoch 25/500\n",
      "7/7 [==============================] - 5s 746ms/step - loss: 0.4894 - mean_absolute_error: 0.4894 - val_loss: 0.6080 - val_mean_absolute_error: 0.6080\n",
      "\n",
      "Epoch 00025: val_loss did not improve\n",
      "Epoch 26/500\n",
      "7/7 [==============================] - 5s 759ms/step - loss: 0.4906 - mean_absolute_error: 0.4906 - val_loss: 0.5905 - val_mean_absolute_error: 0.5905\n",
      "\n",
      "Epoch 00026: val_loss did not improve\n",
      "Epoch 27/500\n",
      "7/7 [==============================] - 5s 743ms/step - loss: 0.4940 - mean_absolute_error: 0.4940 - val_loss: 0.5861 - val_mean_absolute_error: 0.5861\n",
      "\n",
      "Epoch 00027: val_loss did not improve\n",
      "Epoch 28/500\n",
      "7/7 [==============================] - 6s 824ms/step - loss: 0.4989 - mean_absolute_error: 0.4989 - val_loss: 0.6309 - val_mean_absolute_error: 0.6309\n",
      "\n",
      "Epoch 00028: val_loss did not improve\n",
      "Epoch 29/500\n",
      "7/7 [==============================] - 5s 667ms/step - loss: 0.5022 - mean_absolute_error: 0.5022 - val_loss: 0.6370 - val_mean_absolute_error: 0.6370\n",
      "\n",
      "Epoch 00029: val_loss did not improve\n",
      "Epoch 30/500\n",
      "7/7 [==============================] - 6s 831ms/step - loss: 0.4839 - mean_absolute_error: 0.4839 - val_loss: 0.6246 - val_mean_absolute_error: 0.6246\n",
      "\n",
      "Epoch 00030: val_loss did not improve\n"
     ]
    }
   ],
   "source": [
    "history = model.fit_generator(\n",
    "    datagen.flow(data_train, y_train, batch_size=64),\n",
    "    steps_per_epoch=453//64,\n",
    "    epochs=500,\n",
    "    validation_data=test_datagen.flow(data_test, y_test, batch_size=64),\n",
    "    callbacks=[earlystop, checkpointer]\n",
    ")"
   ]
  },
  {
   "cell_type": "code",
   "execution_count": 8,
   "metadata": {
    "collapsed": true
   },
   "outputs": [],
   "source": [
    "model.save('./models/love_classifierv4.4.1.h5')"
   ]
  },
  {
   "cell_type": "markdown",
   "metadata": {
    "collapsed": true
   },
   "source": [
    "### Choose candidates from test set"
   ]
  },
  {
   "cell_type": "code",
   "execution_count": 9,
   "metadata": {},
   "outputs": [
    {
     "name": "stdout",
     "output_type": "stream",
     "text": [
      "[-0.78981847 -0.78981847 -0.78981847 -0.78981847 -0.78981847 -0.78981847\n",
      " -0.78981847 -0.78981847 -0.78981847 -0.78981847 -0.78981847 -0.78981847\n",
      " -0.78981847 -0.78981847 -0.78981847 -0.78981847 -0.78981847 -0.78981847\n",
      " -0.78981847 -0.78981847 -0.78981847 -0.78981847 -0.78981847 -0.78981847\n",
      " -0.78981847 -0.78981847 -0.78981847 -0.78981847 -0.78981847 -0.78981847\n",
      " -0.78981847 -0.78981847 -0.78981847 -0.78981847 -0.78981847 -0.78981847\n",
      " -0.78981847 -0.78981847 -0.78981847 -0.78981847 -0.78981847 -0.78981847\n",
      " -0.78981847 -0.78981847 -0.78981847 -0.78981847 -0.78981847 -0.78981847\n",
      " -0.78981847 -0.78981847 -0.78981847 -0.78981847 -0.78981847 -0.78981847\n",
      " -0.78981847 -0.78981847 -0.78981847 -0.78981847 -0.78981847 -0.78981847\n",
      " -0.78981847 -0.78981847 -0.78981847 -0.78981847 -0.78981847 -0.78981847\n",
      " -0.78981847 -0.78981847 -0.78981847 -0.78981847 -0.78981847 -0.78981847\n",
      " -0.78981847 -0.78981847 -0.78981847 -0.78981847 -0.78981847 -0.78981847\n",
      " -0.78981847 -0.78981847 -0.78981847 -0.78981847 -0.78981847 -0.78981847\n",
      "  1.6099472   1.6099472   1.6099472   1.6099472   1.6099472   1.6099472\n",
      "  1.6099472   1.6099472   1.6099472   1.6099472   1.6099472   1.6099472\n",
      "  1.6099472   1.6099472   1.6099472   1.6099472   1.6099472   1.6099472\n",
      "  1.6099472   1.6099472   1.6099472   1.6099472   1.6099472   1.6099472\n",
      "  1.6099472   1.6099472   1.6099472   1.6099472   1.6099472   1.6099472 ]\n"
     ]
    }
   ],
   "source": [
    "#freeze layers\n",
    "#for layer in model.layers:\n",
    "#    layer.trainable = False\n",
    "\n",
    "candidates = data_test\n",
    "candidates = np.expand_dims(candidates, axis=0)\n",
    "predictions = np.zeros(candidates.shape[1])\n",
    "\n",
    "for i in range(candidates.shape[1]):\n",
    "    predictions[i] = model.predict(candidates[:,i])\n",
    "\n",
    "#sort predictions\n",
    "predictions = predictions[np.argsort(predictions)]\n",
    "print(predictions)"
   ]
  },
  {
   "cell_type": "markdown",
   "metadata": {},
   "source": [
    "### ^ Output for regression should be between 0 & 5. Need to change activation of last layer, see v4.1."
   ]
  },
  {
   "cell_type": "code",
   "execution_count": 10,
   "metadata": {},
   "outputs": [
    {
     "name": "stdout",
     "output_type": "stream",
     "text": [
      "[[-1.14225503]\n",
      " [-1.06320263]\n",
      " [ 1.22931716]\n",
      " [ 0.12258347]\n",
      " [-0.27267856]\n",
      " [ 0.12258347]\n",
      " [ 1.30836956]\n",
      " [-0.746993  ]\n",
      " [-0.746993  ]\n",
      " [-1.06320263]\n",
      " [-0.19362616]\n",
      " [ 0.12258347]\n",
      " [ 1.86173641]\n",
      " [ 1.15026475]\n",
      " [ 1.86173641]\n",
      " [ 1.46647438]\n",
      " [-0.50983578]\n",
      " [ 0.5178455 ]\n",
      " [-1.37941225]\n",
      " [ 0.43879309]\n",
      " [ 1.07121234]\n",
      " [-1.30035985]\n",
      " [-1.14225503]\n",
      " [-0.35173097]\n",
      " [-0.35173097]\n",
      " [ 0.20163587]\n",
      " [-0.98415022]\n",
      " [ 0.83405512]\n",
      " [-1.14225503]\n",
      " [-0.98415022]\n",
      " [-1.22130744]\n",
      " [-0.82604541]\n",
      " [-1.14225503]\n",
      " [-1.14225503]\n",
      " [ 0.12258347]\n",
      " [-0.58888819]\n",
      " [-0.90509782]\n",
      " [ 1.54552678]\n",
      " [-1.45846466]\n",
      " [ 1.07121234]\n",
      " [ 1.22931716]\n",
      " [-0.82604541]\n",
      " [ 0.28068828]\n",
      " [ 0.99215994]\n",
      " [-0.98415022]\n",
      " [-0.27267856]\n",
      " [ 0.20163587]\n",
      " [-1.06320263]\n",
      " [-0.50983578]\n",
      " [-0.35173097]\n",
      " [ 1.30836956]\n",
      " [ 0.67595031]\n",
      " [-0.58888819]\n",
      " [ 0.28068828]\n",
      " [-0.82604541]\n",
      " [-1.45846466]\n",
      " [-0.19362616]\n",
      " [-0.35173097]\n",
      " [ 0.12258347]\n",
      " [ 0.28068828]\n",
      " [-0.35173097]\n",
      " [-0.6679406 ]\n",
      " [ 0.43879309]\n",
      " [-0.746993  ]\n",
      " [-0.50983578]\n",
      " [ 1.86173641]\n",
      " [-0.746993  ]\n",
      " [-1.30035985]\n",
      " [-0.03552135]\n",
      " [ 1.94078881]\n",
      " [-0.82604541]\n",
      " [-0.746993  ]\n",
      " [ 0.75500272]\n",
      " [-0.35173097]\n",
      " [ 1.86173641]\n",
      " [-1.06320263]\n",
      " [ 0.35974069]\n",
      " [-0.746993  ]\n",
      " [-1.22130744]\n",
      " [ 0.28068828]\n",
      " [-0.03552135]\n",
      " [-0.27267856]\n",
      " [-1.06320263]\n",
      " [ 0.28068828]\n",
      " [-0.35173097]\n",
      " [ 2.17794603]\n",
      " [ 0.28068828]\n",
      " [-1.22130744]\n",
      " [ 1.86173641]\n",
      " [ 1.30836956]\n",
      " [ 0.20163587]\n",
      " [-0.43078338]\n",
      " [-0.19362616]\n",
      " [-0.746993  ]\n",
      " [-0.35173097]\n",
      " [-1.14225503]\n",
      " [-1.45846466]\n",
      " [-1.22130744]\n",
      " [ 2.17794603]\n",
      " [ 1.46647438]\n",
      " [-0.90509782]\n",
      " [ 0.75500272]\n",
      " [-0.746993  ]\n",
      " [-0.6679406 ]\n",
      " [ 1.782684  ]\n",
      " [-0.19362616]\n",
      " [-0.43078338]\n",
      " [-0.6679406 ]\n",
      " [-0.50983578]\n",
      " [-0.90509782]\n",
      " [ 1.54552678]\n",
      " [ 0.83405512]\n",
      " [-0.90509782]\n",
      " [ 0.83405512]]\n"
     ]
    }
   ],
   "source": [
    "print(y_test)"
   ]
  },
  {
   "cell_type": "code",
   "execution_count": 11,
   "metadata": {
    "collapsed": true
   },
   "outputs": [],
   "source": [
    "def visualize_loss(history):\n",
    "    loss = history.history['loss']\n",
    "    val_loss = history.history['val_loss']\n",
    "    epochs = range(1, len(loss) + 1)\n",
    "    plt.figure(figsize=(15,8))\n",
    "    plt.plot(epochs, loss, 'bo-', label=\"Training loss\")\n",
    "    plt.plot(epochs, val_loss, 'b', label=\"Validation loss\")\n",
    "    plt.xlabel('Epochs')\n",
    "    plt.ylabel('Loss')\n",
    "    plt.legend()\n",
    "    plt.show()\n",
    "\n",
    "def visualize_mae(history):\n",
    "    loss = history.history['mean_absolute_error']\n",
    "    val_loss = history.history['val_mean_absolute_error']\n",
    "    epochs = range(1, len(loss) + 1)\n",
    "    plt.figure(figsize=(15,8))\n",
    "    plt.plot(epochs, loss, 'ro-', label=\"Training MAE\")\n",
    "    plt.plot(epochs, val_loss, 'r', label=\"Validation MAE\")\n",
    "    plt.xlabel('Epochs')\n",
    "    plt.ylabel('MAE')\n",
    "    plt.legend()\n",
    "    plt.show()"
   ]
  },
  {
   "cell_type": "code",
   "execution_count": 12,
   "metadata": {},
   "outputs": [
    {
     "data": {
      "image/png": "[encoded data removed]",
      "text/plain": [
       "<matplotlib.figure.Figure at 0x7fbdf471e9b0>"
      ]
     },
     "metadata": {},
     "output_type": "display_data"
    }
   ],
   "source": [
    "visualize_loss(history)"
   ]
  },
  {
   "cell_type": "code",
   "execution_count": 13,
   "metadata": {},
   "outputs": [
    {
     "data": {
      "image/png": "[encoded data removed]",
      "text/plain": [
       "<matplotlib.figure.Figure at 0x7fbdf2fc82e8>"
      ]
     },
     "metadata": {},
     "output_type": "display_data"
    }
   ],
   "source": [
    "visualize_mae(history)"
   ]
  },
  {
   "cell_type": "code",
   "execution_count": null,
   "metadata": {
    "collapsed": true
   },
   "outputs": [],
   "source": []
  }
 ],
 "metadata": {
  "kernelspec": {
   "display_name": "tensorflow",
   "language": "python",
   "name": "tensorflow"
  },
  "language_info": {
   "codemirror_mode": {
    "name": "ipython",
    "version": 3
   },
   "file_extension": ".py",
   "mimetype": "text/x-python",
   "name": "python",
   "nbconvert_exporter": "python",
   "pygments_lexer": "ipython3",
   "version": "3.6.2"
  }
 },
 "nbformat": 4,
 "nbformat_minor": 2
}
