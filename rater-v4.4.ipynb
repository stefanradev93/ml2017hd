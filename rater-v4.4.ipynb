{
 "cells": [
  {
   "cell_type": "markdown",
   "metadata": {},
   "source": [
    "### BatchNorm"
   ]
  },
  {
   "cell_type": "code",
   "execution_count": 1,
   "metadata": {},
   "outputs": [
    {
     "name": "stderr",
     "output_type": "stream",
     "text": [
      "/home/gloria/anaconda3/lib/python3.6/site-packages/h5py/__init__.py:36: FutureWarning: Conversion of the second argument of issubdtype from `float` to `np.floating` is deprecated. In future, it will be treated as `np.float64 == np.dtype(float).type`.\n",
      "  from ._conv import register_converters as _register_converters\n",
      "Using TensorFlow backend.\n",
      "/home/gloria/tensorflow/lib/python3.6/importlib/_bootstrap.py:205: RuntimeWarning: compiletime version 3.5 of module 'tensorflow.python.framework.fast_tensor_util' does not match runtime version 3.6\n",
      "  return f(*args, **kwds)\n"
     ]
    }
   ],
   "source": [
    "from keras.engine import  Model\n",
    "from keras.layers import Flatten, Dense, Input, Dropout, BatchNormalization, Activation\n",
    "from keras_vggface.vggface import VGGFace\n",
    "from keras.preprocessing.image import ImageDataGenerator\n",
    "from keras_vggface import utils\n",
    "from keras.optimizers import Adam\n",
    "from keras.preprocessing import image\n",
    "from keras import backend as K\n",
    "from keras.callbacks import ModelCheckpoint, EarlyStopping\n",
    "import numpy as np\n",
    "import os\n",
    "import shutil\n",
    "from sklearn.model_selection import train_test_split\n",
    "from sklearn.preprocessing import StandardScaler\n",
    "import matplotlib.pyplot as plt\n",
    "%matplotlib inline"
   ]
  },
  {
   "cell_type": "code",
   "execution_count": 2,
   "metadata": {
    "collapsed": true
   },
   "outputs": [],
   "source": [
    "# Constants\n",
    "IMG_SIZE = 200\n",
    "IMG_DIR = '../project/all_females'\n",
    "RATING_PATH = './ratings_stefan.txt'"
   ]
  },
  {
   "cell_type": "markdown",
   "metadata": {},
   "source": [
    "### Build model"
   ]
  },
  {
   "cell_type": "code",
   "execution_count": 3,
   "metadata": {},
   "outputs": [
    {
     "name": "stdout",
     "output_type": "stream",
     "text": [
      "Train-test-split:\n",
      "X_train:  (454,)\n",
      "X_test:  (114,)\n",
      "y_train:  (454, 1)\n",
      "y_test:  (114, 1)\n"
     ]
    }
   ],
   "source": [
    "# Read in ratings\n",
    "ratings = np.genfromtxt(RATING_PATH)\n",
    "scaler = StandardScaler()\n",
    "\n",
    "### Distribute images across folders\n",
    "if not os.path.isdir('./data/train/train'):\n",
    "    os.makedirs('./data/train/train')\n",
    "if not os.path.isdir('./data/test/test'):\n",
    "    os.makedirs('./data/test/test')\n",
    "        \n",
    "### Move all images according to ratings\n",
    "images = sorted(os.listdir(IMG_DIR))\n",
    "\n",
    "### Make sure lengths of ratings and images correspond \n",
    "assert len(ratings) == len(images)\n",
    "\n",
    "X_train, X_test, y_train, y_test = train_test_split(images, ratings, test_size=0.2)\n",
    "\n",
    "y_train = scaler.fit_transform(y_train.reshape(-1,1))\n",
    "y_test = scaler.transform(y_test.reshape(-1,1))\n",
    "    \n",
    "X_train = np.asarray(X_train)\n",
    "X_test = np.asarray(X_test)\n",
    "y_train = np.asarray(y_train)\n",
    "y_test = np.asarray(y_test)\n",
    "        \n",
    "print(\"Train-test-split:\")\n",
    "print(\"X_train: \",X_train.shape)\n",
    "print(\"X_test: \",X_test.shape)\n",
    "print(\"y_train: \",y_train.shape)\n",
    "print(\"y_test: \",y_test.shape)\n",
    "\n",
    "data_train = np.zeros((X_train.shape[0], IMG_SIZE, IMG_SIZE, 3))\n",
    "data_test = np.zeros((X_test.shape[0], IMG_SIZE, IMG_SIZE, 3))\n",
    "\n",
    "for idx, _im in enumerate(X_train):\n",
    "    # Change the image path with yours.\n",
    "    _img = image.load_img(os.path.join(IMG_DIR, _im), target_size=(IMG_SIZE,IMG_SIZE))\n",
    "    _x = image.img_to_array(_img)\n",
    "    _x = np.expand_dims(_x, axis=0)\n",
    "    data_train[idx, :, :, :] = utils.preprocess_input(_x, version=1) / .255 \n",
    "    \n",
    "# Same for test data\n",
    "for idx, _im in enumerate(X_test):   \n",
    "    _img = image.load_img(os.path.join(IMG_DIR, _im), target_size=(IMG_SIZE,IMG_SIZE))\n",
    "    _x = image.img_to_array(_img)\n",
    "    _x = np.expand_dims(_x, axis=0)\n",
    "    data_test[idx, :, :, :] = utils.preprocess_input(_x, version=1) / .255\n",
    "\n",
    "### Loop throgh all images and store them in the dedicated folders\n",
    "#for img in X_train:\n",
    "#    src = os.path.join(IMG_DIR, img)\n",
    "#    dest = os.path.join('./data/train/train', img)\n",
    "#    shutil.copy(src, dest)\n",
    "\n",
    "#for img in X_test:\n",
    "#    src = os.path.join(IMG_DIR, img)\n",
    "#    dest = os.path.join('./data/test/test', img)\n",
    "#    shutil.copy(src, dest)"
   ]
  },
  {
   "cell_type": "code",
   "execution_count": 4,
   "metadata": {},
   "outputs": [
    {
     "name": "stdout",
     "output_type": "stream",
     "text": [
      "Trainable weights:\n",
      "_________________________________________________________________\n",
      "Layer (type)                 Output Shape              Param #   \n",
      "=================================================================\n",
      "input_1 (InputLayer)         (None, 200, 200, 3)       0         \n",
      "_________________________________________________________________\n",
      "conv1_1 (Conv2D)             (None, 200, 200, 64)      1792      \n",
      "_________________________________________________________________\n",
      "conv1_2 (Conv2D)             (None, 200, 200, 64)      36928     \n",
      "_________________________________________________________________\n",
      "pool1 (MaxPooling2D)         (None, 100, 100, 64)      0         \n",
      "_________________________________________________________________\n",
      "conv2_1 (Conv2D)             (None, 100, 100, 128)     73856     \n",
      "_________________________________________________________________\n",
      "conv2_2 (Conv2D)             (None, 100, 100, 128)     147584    \n",
      "_________________________________________________________________\n",
      "pool2 (MaxPooling2D)         (None, 50, 50, 128)       0         \n",
      "_________________________________________________________________\n",
      "conv3_1 (Conv2D)             (None, 50, 50, 256)       295168    \n",
      "_________________________________________________________________\n",
      "conv3_2 (Conv2D)             (None, 50, 50, 256)       590080    \n",
      "_________________________________________________________________\n",
      "conv3_3 (Conv2D)             (None, 50, 50, 256)       590080    \n",
      "_________________________________________________________________\n",
      "pool3 (MaxPooling2D)         (None, 25, 25, 256)       0         \n",
      "_________________________________________________________________\n",
      "conv4_1 (Conv2D)             (None, 25, 25, 512)       1180160   \n",
      "_________________________________________________________________\n",
      "conv4_2 (Conv2D)             (None, 25, 25, 512)       2359808   \n",
      "_________________________________________________________________\n",
      "conv4_3 (Conv2D)             (None, 25, 25, 512)       2359808   \n",
      "_________________________________________________________________\n",
      "pool4 (MaxPooling2D)         (None, 12, 12, 512)       0         \n",
      "_________________________________________________________________\n",
      "conv5_1 (Conv2D)             (None, 12, 12, 512)       2359808   \n",
      "_________________________________________________________________\n",
      "conv5_2 (Conv2D)             (None, 12, 12, 512)       2359808   \n",
      "_________________________________________________________________\n",
      "conv5_3 (Conv2D)             (None, 12, 12, 512)       2359808   \n",
      "_________________________________________________________________\n",
      "pool5 (MaxPooling2D)         (None, 6, 6, 512)         0         \n",
      "_________________________________________________________________\n",
      "global_max_pooling2d_1 (Glob (None, 512)               0         \n",
      "_________________________________________________________________\n",
      "fc6 (Dense)                  (None, 256)               131328    \n",
      "_________________________________________________________________\n",
      "batch_normalization_1 (Batch (None, 256)               1024      \n",
      "_________________________________________________________________\n",
      "activation_1 (Activation)    (None, 256)               0         \n",
      "_________________________________________________________________\n",
      "dropout_1 (Dropout)          (None, 256)               0         \n",
      "_________________________________________________________________\n",
      "fc7 (Dense)                  (None, 128)               32896     \n",
      "_________________________________________________________________\n",
      "batch_normalization_2 (Batch (None, 128)               512       \n",
      "_________________________________________________________________\n",
      "activation_2 (Activation)    (None, 128)               0         \n",
      "_________________________________________________________________\n",
      "dropout_2 (Dropout)          (None, 128)               0         \n",
      "_________________________________________________________________\n",
      "fc8 (Dense)                  (None, 64)                8256      \n",
      "_________________________________________________________________\n",
      "batch_normalization_3 (Batch (None, 64)                256       \n",
      "_________________________________________________________________\n",
      "activation_3 (Activation)    (None, 64)                0         \n",
      "_________________________________________________________________\n",
      "dropout_3 (Dropout)          (None, 64)                0         \n",
      "_________________________________________________________________\n",
      "dense_1 (Dense)              (None, 1)                 65        \n",
      "_________________________________________________________________\n",
      "batch_normalization_4 (Batch (None, 1)                 4         \n",
      "=================================================================\n",
      "Total params: 14,889,029\n",
      "Trainable params: 173,443\n",
      "Non-trainable params: 14,715,586\n",
      "_________________________________________________________________\n"
     ]
    }
   ],
   "source": [
    "K.clear_session()\n",
    "\n",
    "vgg_base = VGGFace(include_top=False, input_shape=(IMG_SIZE, IMG_SIZE, 3), pooling='max')\n",
    "\n",
    "# Add custom layers\n",
    "last_layer = vgg_base.get_layer('global_max_pooling2d_1').output\n",
    "#X = Dropout(0.2)(last_layer)\n",
    "X = Dense(256, activation=None, name='fc6')(last_layer)\n",
    "X = BatchNormalization()(X)\n",
    "X = Activation('relu')(X)\n",
    "X = Dropout(0.2)(X)\n",
    "X = Dense(128, activation=None, name='fc7')(X)\n",
    "X = BatchNormalization()(X)\n",
    "X = Activation('relu')(X)\n",
    "X = Dropout(0.2)(X)\n",
    "X = Dense(64, activation=None, name='fc8')(X)\n",
    "X = BatchNormalization()(X)\n",
    "X = Activation('relu')(X)\n",
    "X = Dropout(0.2)(X)\n",
    "#output = Dense(len(np.unique(ratings)), activation=None)(X)\n",
    "\n",
    "output = Dense(1, activation='linear')(X)\n",
    "output = BatchNormalization()(output)\n",
    "\n",
    "# this is the model we will train\n",
    "model = Model(inputs=vgg_base.input, outputs=output)\n",
    "\n",
    "# first: train only the top layers (which were randomly initialized)\n",
    "# i.e. freeze all convolutional InceptionV3 layers\n",
    "for layer in vgg_base.layers:\n",
    "    layer.trainable = False\n",
    "\n",
    "# Make sure weights are not trainable\n",
    "print(\"Trainable weights:\")\n",
    "model.trainable_weights\n",
    "\n",
    "model.compile(optimizer=Adam(clipnorm=1.0),loss='mean_absolute_error', metrics=['mae'])\n",
    "\n",
    "model.summary()"
   ]
  },
  {
   "cell_type": "markdown",
   "metadata": {},
   "source": [
    "### Prepare data\n",
    "### **Please remember to delete the train & test folders if you have run this cell before!**"
   ]
  },
  {
   "cell_type": "markdown",
   "metadata": {},
   "source": [
    "### Data augmentation"
   ]
  },
  {
   "cell_type": "code",
   "execution_count": 5,
   "metadata": {
    "collapsed": true
   },
   "outputs": [],
   "source": [
    "datagen = ImageDataGenerator(rescale=1./255, \n",
    "                             rotation_range=40,\n",
    "                             width_shift_range=0.2,\n",
    "                             height_shift_range=0.2,\n",
    "                             shear_range=0.2,\n",
    "                             zoom_range=0.2,\n",
    "                             horizontal_flip=True,\n",
    "                             fill_mode='nearest',\n",
    "                             preprocessing_function=utils.preprocess_input)\n",
    "\n",
    "datagen.fit(data_train)\n",
    "\n",
    "#train_generator = datagen.flow_from_directory(\n",
    "#    './data/train',\n",
    "#    target_size=(IMG_SIZE, IMG_SIZE),\n",
    "#    batch_size=64,\n",
    "#    class_mode=None\n",
    "#)\n",
    "\n",
    "test_datagen = ImageDataGenerator(rescale=1./255)\n",
    "\n",
    "test_datagen.fit(data_test)\n",
    "\n",
    "#test_generator = test_datagen.flow_from_directory(\n",
    "#    './data/test',\n",
    "#    target_size=(IMG_SIZE, IMG_SIZE),\n",
    "#    batch_size=64,\n",
    "#    class_mode=None\n",
    "#)"
   ]
  },
  {
   "cell_type": "markdown",
   "metadata": {},
   "source": [
    "### Train"
   ]
  },
  {
   "cell_type": "code",
   "execution_count": 6,
   "metadata": {},
   "outputs": [
    {
     "name": "stdout",
     "output_type": "stream",
     "text": [
      "Epoch 1/1\n",
      "100/100 [==============================] - 68s 684ms/step - loss: 0.6999 - mean_absolute_error: 0.6999 - val_loss: 0.6891 - val_mean_absolute_error: 0.6891\n",
      "\n",
      "Epoch 00001: val_loss improved from inf to 0.68913, saving model to ./weights-v4.4.hdf5\n"
     ]
    }
   ],
   "source": [
    "checkpointer = ModelCheckpoint(filepath='./weights-v4.4.hdf5', verbose=1, save_best_only=True)\n",
    "earlystop = EarlyStopping(monitor='val_loss', patience=10, verbose=0)\n",
    "\n",
    "history = model.fit_generator(\n",
    "    datagen.flow(data_train, y_train, batch_size=64),\n",
    "    steps_per_epoch=100,\n",
    "    epochs=1,\n",
    "    validation_data=test_datagen.flow(data_test, y_test, batch_size=64),\n",
    "    callbacks=[checkpointer]\n",
    ")"
   ]
  },
  {
   "cell_type": "code",
   "execution_count": 7,
   "metadata": {},
   "outputs": [
    {
     "name": "stdout",
     "output_type": "stream",
     "text": [
      "Epoch 1/500\n",
      "7/7 [==============================] - 6s 804ms/step - loss: 0.5182 - mean_absolute_error: 0.5182 - val_loss: 0.7248 - val_mean_absolute_error: 0.7248\n",
      "\n",
      "Epoch 00001: val_loss did not improve\n",
      "Epoch 2/500\n",
      "7/7 [==============================] - 6s 832ms/step - loss: 0.5401 - mean_absolute_error: 0.5401 - val_loss: 0.7032 - val_mean_absolute_error: 0.7032\n",
      "\n",
      "Epoch 00002: val_loss did not improve\n",
      "Epoch 3/500\n",
      "7/7 [==============================] - 5s 715ms/step - loss: 0.5000 - mean_absolute_error: 0.5000 - val_loss: 0.6838 - val_mean_absolute_error: 0.6838\n",
      "\n",
      "Epoch 00003: val_loss improved from 0.68913 to 0.68381, saving model to ./weights-v4.4.hdf5\n",
      "Epoch 4/500\n",
      "7/7 [==============================] - 6s 835ms/step - loss: 0.5107 - mean_absolute_error: 0.5107 - val_loss: 0.6657 - val_mean_absolute_error: 0.6657\n",
      "\n",
      "Epoch 00004: val_loss improved from 0.68381 to 0.66570, saving model to ./weights-v4.4.hdf5\n",
      "Epoch 5/500\n",
      "7/7 [==============================] - 6s 796ms/step - loss: 0.5068 - mean_absolute_error: 0.5068 - val_loss: 0.6934 - val_mean_absolute_error: 0.6934\n",
      "\n",
      "Epoch 00005: val_loss did not improve\n",
      "Epoch 6/500\n",
      "7/7 [==============================] - 6s 796ms/step - loss: 0.5273 - mean_absolute_error: 0.5273 - val_loss: 0.6970 - val_mean_absolute_error: 0.6970\n",
      "\n",
      "Epoch 00006: val_loss did not improve\n",
      "Epoch 7/500\n",
      "7/7 [==============================] - 5s 758ms/step - loss: 0.5032 - mean_absolute_error: 0.5032 - val_loss: 0.6650 - val_mean_absolute_error: 0.6650\n",
      "\n",
      "Epoch 00007: val_loss improved from 0.66570 to 0.66497, saving model to ./weights-v4.4.hdf5\n",
      "Epoch 8/500\n",
      "7/7 [==============================] - 5s 755ms/step - loss: 0.4799 - mean_absolute_error: 0.4799 - val_loss: 0.6619 - val_mean_absolute_error: 0.6619\n",
      "\n",
      "Epoch 00008: val_loss improved from 0.66497 to 0.66185, saving model to ./weights-v4.4.hdf5\n",
      "Epoch 9/500\n",
      "7/7 [==============================] - 5s 766ms/step - loss: 0.4994 - mean_absolute_error: 0.4994 - val_loss: 0.6491 - val_mean_absolute_error: 0.6491\n",
      "\n",
      "Epoch 00009: val_loss improved from 0.66185 to 0.64913, saving model to ./weights-v4.4.hdf5\n",
      "Epoch 10/500\n",
      "7/7 [==============================] - 5s 759ms/step - loss: 0.4870 - mean_absolute_error: 0.4870 - val_loss: 0.6680 - val_mean_absolute_error: 0.6680\n",
      "\n",
      "Epoch 00010: val_loss did not improve\n",
      "Epoch 11/500\n",
      "7/7 [==============================] - 6s 841ms/step - loss: 0.4620 - mean_absolute_error: 0.4620 - val_loss: 0.7378 - val_mean_absolute_error: 0.7378\n",
      "\n",
      "Epoch 00011: val_loss did not improve\n",
      "Epoch 12/500\n",
      "7/7 [==============================] - 5s 717ms/step - loss: 0.4811 - mean_absolute_error: 0.4811 - val_loss: 0.6543 - val_mean_absolute_error: 0.6543\n",
      "\n",
      "Epoch 00012: val_loss did not improve\n",
      "Epoch 13/500\n",
      "7/7 [==============================] - 6s 838ms/step - loss: 0.4646 - mean_absolute_error: 0.4646 - val_loss: 0.6271 - val_mean_absolute_error: 0.6271\n",
      "\n",
      "Epoch 00013: val_loss improved from 0.64913 to 0.62714, saving model to ./weights-v4.4.hdf5\n",
      "Epoch 14/500\n",
      "7/7 [==============================] - 5s 727ms/step - loss: 0.5293 - mean_absolute_error: 0.5293 - val_loss: 0.6364 - val_mean_absolute_error: 0.6364\n",
      "\n",
      "Epoch 00014: val_loss did not improve\n",
      "Epoch 15/500\n",
      "7/7 [==============================] - 6s 841ms/step - loss: 0.4664 - mean_absolute_error: 0.4664 - val_loss: 0.6416 - val_mean_absolute_error: 0.6416\n",
      "\n",
      "Epoch 00015: val_loss did not improve\n",
      "Epoch 16/500\n",
      "7/7 [==============================] - 5s 767ms/step - loss: 0.4343 - mean_absolute_error: 0.4343 - val_loss: 0.6529 - val_mean_absolute_error: 0.6529\n",
      "\n",
      "Epoch 00016: val_loss did not improve\n",
      "Epoch 17/500\n",
      "7/7 [==============================] - 5s 763ms/step - loss: 0.4992 - mean_absolute_error: 0.4992 - val_loss: 0.6523 - val_mean_absolute_error: 0.6523\n",
      "\n",
      "Epoch 00017: val_loss did not improve\n",
      "Epoch 18/500\n",
      "7/7 [==============================] - 5s 756ms/step - loss: 0.4441 - mean_absolute_error: 0.4441 - val_loss: 0.6643 - val_mean_absolute_error: 0.6643\n",
      "\n",
      "Epoch 00018: val_loss did not improve\n",
      "Epoch 19/500\n",
      "7/7 [==============================] - 6s 838ms/step - loss: 0.4635 - mean_absolute_error: 0.4635 - val_loss: 0.6570 - val_mean_absolute_error: 0.6570\n",
      "\n",
      "Epoch 00019: val_loss did not improve\n",
      "Epoch 20/500\n",
      "7/7 [==============================] - 5s 672ms/step - loss: 0.4532 - mean_absolute_error: 0.4532 - val_loss: 0.6275 - val_mean_absolute_error: 0.6275\n",
      "\n",
      "Epoch 00020: val_loss did not improve\n",
      "Epoch 21/500\n",
      "7/7 [==============================] - 6s 838ms/step - loss: 0.4083 - mean_absolute_error: 0.4083 - val_loss: 0.6368 - val_mean_absolute_error: 0.6368\n",
      "\n",
      "Epoch 00021: val_loss did not improve\n",
      "Epoch 22/500\n",
      "7/7 [==============================] - 6s 794ms/step - loss: 0.3925 - mean_absolute_error: 0.3925 - val_loss: 0.6471 - val_mean_absolute_error: 0.6471\n",
      "\n",
      "Epoch 00022: val_loss did not improve\n",
      "Epoch 23/500\n",
      "7/7 [==============================] - 6s 794ms/step - loss: 0.4193 - mean_absolute_error: 0.4193 - val_loss: 0.6952 - val_mean_absolute_error: 0.6952\n",
      "\n",
      "Epoch 00023: val_loss did not improve\n"
     ]
    }
   ],
   "source": [
    "history = model.fit_generator(\n",
    "    datagen.flow(data_train, y_train, batch_size=64),\n",
    "    steps_per_epoch=453//64,\n",
    "    epochs=500,\n",
    "    validation_data=test_datagen.flow(data_test, y_test, batch_size=64),\n",
    "    callbacks=[earlystop, checkpointer]\n",
    ")"
   ]
  },
  {
   "cell_type": "code",
   "execution_count": 8,
   "metadata": {
    "collapsed": true
   },
   "outputs": [],
   "source": [
    "model.save('./models/love_classifierv4.4.h5')"
   ]
  },
  {
   "cell_type": "markdown",
   "metadata": {
    "collapsed": true
   },
   "source": [
    "### Choose candidates from test set"
   ]
  },
  {
   "cell_type": "code",
   "execution_count": 9,
   "metadata": {},
   "outputs": [
    {
     "name": "stdout",
     "output_type": "stream",
     "text": [
      "[-1.30603897e+02 -7.77688446e+01 -7.51976166e+01 -7.37438431e+01\n",
      " -7.21321335e+01 -7.18155975e+01 -7.11794968e+01 -7.07703018e+01\n",
      " -7.05641861e+01 -6.58607788e+01 -6.22999191e+01 -5.95874557e+01\n",
      " -5.80118217e+01 -5.66818085e+01 -5.48119774e+01 -5.47985764e+01\n",
      " -5.45143204e+01 -5.38707275e+01 -5.18210411e+01 -4.97907600e+01\n",
      " -4.54389725e+01 -4.52457428e+01 -4.48418503e+01 -4.22386475e+01\n",
      " -3.61133461e+01 -3.10839939e+01 -2.78480530e+01 -2.59762039e+01\n",
      " -2.49202023e+01 -2.43456879e+01 -2.41196404e+01 -2.32970123e+01\n",
      " -2.26207829e+01 -2.21055794e+01 -2.05534344e+01 -1.22039595e+01\n",
      " -1.18609762e+01 -1.14593697e+01 -9.55608368e+00 -9.35750675e+00\n",
      " -8.76347542e+00 -8.26890469e+00 -5.62944698e+00 -4.97597218e+00\n",
      " -3.78573322e+00 -2.38706589e-01  4.04343510e+00  5.05656624e+00\n",
      "  6.35721970e+00  7.34578514e+00  7.76203918e+00  9.03803635e+00\n",
      "  9.36683750e+00  1.01089840e+01  1.11293888e+01  1.16313591e+01\n",
      "  1.23058205e+01  1.23668547e+01  1.28655720e+01  1.49430637e+01\n",
      "  1.72300644e+01  1.75389462e+01  1.75670891e+01  1.82060966e+01\n",
      "  1.97138081e+01  2.05553493e+01  2.30613976e+01  2.36106491e+01\n",
      "  2.44190693e+01  2.61771927e+01  2.65999565e+01  2.71524239e+01\n",
      "  2.73897953e+01  2.81149845e+01  2.82268353e+01  2.86213799e+01\n",
      "  3.09232006e+01  3.15994110e+01  3.28821144e+01  3.65996208e+01\n",
      "  3.68972969e+01  3.72207108e+01  4.08631401e+01  4.09034576e+01\n",
      "  4.24109840e+01  4.25967941e+01  4.41640625e+01  4.65228882e+01\n",
      "  4.77387962e+01  4.86642494e+01  5.38191299e+01  5.55518456e+01\n",
      "  6.14110374e+01  6.21383286e+01  6.66115341e+01  6.68017273e+01\n",
      "  6.71441498e+01  7.01282501e+01  7.55706940e+01  7.94489517e+01\n",
      "  7.94835205e+01  8.09022903e+01  8.45902710e+01  8.70525436e+01\n",
      "  1.16626091e+02  1.18418777e+02  1.20459854e+02  1.32426117e+02\n",
      "  1.34583786e+02  1.37227341e+02  1.59269974e+02  1.89910446e+02\n",
      "  2.40494797e+02  2.53735458e+02]\n"
     ]
    }
   ],
   "source": [
    "#freeze layers\n",
    "#for layer in model.layers:\n",
    "#    layer.trainable = False\n",
    "\n",
    "candidates = data_test\n",
    "candidates = np.expand_dims(candidates, axis=0)\n",
    "predictions = np.zeros(candidates.shape[1])\n",
    "\n",
    "for i in range(candidates.shape[1]):\n",
    "    predictions[i] = model.predict(candidates[:,i])\n",
    "\n",
    "#sort predictions\n",
    "predictions = predictions[np.argsort(predictions)]\n",
    "print(predictions)"
   ]
  },
  {
   "cell_type": "markdown",
   "metadata": {},
   "source": [
    "### ^ Output for regression should be between 0 & 5. Need to change activation of last layer, see v4.1."
   ]
  },
  {
   "cell_type": "code",
   "execution_count": 10,
   "metadata": {},
   "outputs": [
    {
     "name": "stdout",
     "output_type": "stream",
     "text": [
      "[[-0.32478986]\n",
      " [ 1.43633997]\n",
      " [-0.64499529]\n",
      " [-1.20535478]\n",
      " [ 0.31562099]\n",
      " [ 1.1961859 ]\n",
      " [-0.96520071]\n",
      " [-0.88514935]\n",
      " [-0.88514935]\n",
      " [ 0.07546692]\n",
      " [-0.40484122]\n",
      " [-1.12530342]\n",
      " [-0.16468715]\n",
      " [-0.64499529]\n",
      " [ 1.83659675]\n",
      " [-1.12530342]\n",
      " [-0.96520071]\n",
      " [ 1.51639132]\n",
      " [-0.805098  ]\n",
      " [-0.16468715]\n",
      " [-1.36545749]\n",
      " [ 1.35628861]\n",
      " [-0.48489257]\n",
      " [-1.04525207]\n",
      " [ 1.75654539]\n",
      " [ 0.71587776]\n",
      " [-0.32478986]\n",
      " [-1.12530342]\n",
      " [-0.16468715]\n",
      " [-0.00458444]\n",
      " [-1.44550885]\n",
      " [-0.96520071]\n",
      " [ 1.83659675]\n",
      " [-0.08463579]\n",
      " [ 1.99669946]\n",
      " [ 2.15680217]\n",
      " [-0.56494393]\n",
      " [-0.40484122]\n",
      " [ 0.71587776]\n",
      " [-1.28540613]\n",
      " [-0.72504664]\n",
      " [-0.72504664]\n",
      " [-1.36545749]\n",
      " [ 0.87598048]\n",
      " [-0.32478986]\n",
      " [ 0.55577505]\n",
      " [ 0.15551827]\n",
      " [ 0.07546692]\n",
      " [-0.72504664]\n",
      " [-0.56494393]\n",
      " [-0.24473851]\n",
      " [ 1.9166481 ]\n",
      " [-1.12530342]\n",
      " [ 0.4757237 ]\n",
      " [ 0.95603183]\n",
      " [ 0.4757237 ]\n",
      " [-1.28540613]\n",
      " [ 1.35628861]\n",
      " [ 1.03608319]\n",
      " [ 1.11613454]\n",
      " [-0.48489257]\n",
      " [ 1.59644268]\n",
      " [-0.48489257]\n",
      " [ 0.87598048]\n",
      " [-0.96520071]\n",
      " [ 0.95603183]\n",
      " [ 1.35628861]\n",
      " [-0.56494393]\n",
      " [-1.44550885]\n",
      " [ 1.27623726]\n",
      " [ 0.23556963]\n",
      " [-0.56494393]\n",
      " [ 1.11613454]\n",
      " [-0.64499529]\n",
      " [-0.805098  ]\n",
      " [-0.96520071]\n",
      " [ 1.11613454]\n",
      " [-1.12530342]\n",
      " [ 1.51639132]\n",
      " [ 1.11613454]\n",
      " [-1.04525207]\n",
      " [-0.08463579]\n",
      " [-0.32478986]\n",
      " [ 0.15551827]\n",
      " [ 1.59644268]\n",
      " [ 1.59644268]\n",
      " [ 0.39567234]\n",
      " [ 0.63582641]\n",
      " [ 0.87598048]\n",
      " [ 0.15551827]\n",
      " [-0.48489257]\n",
      " [-0.64499529]\n",
      " [-1.20535478]\n",
      " [ 2.23685353]\n",
      " [-1.04525207]\n",
      " [ 0.87598048]\n",
      " [-0.72504664]\n",
      " [-0.08463579]\n",
      " [-1.12530342]\n",
      " [-0.88514935]\n",
      " [ 1.75654539]\n",
      " [ 1.27623726]\n",
      " [ 1.83659675]\n",
      " [-1.12530342]\n",
      " [-0.64499529]\n",
      " [ 0.15551827]\n",
      " [-0.16468715]\n",
      " [ 2.07675082]\n",
      " [-0.32478986]\n",
      " [-0.805098  ]\n",
      " [ 1.59644268]\n",
      " [-1.28540613]\n",
      " [ 0.95603183]\n",
      " [ 0.79592912]]\n"
     ]
    }
   ],
   "source": [
    "print(y_test)"
   ]
  },
  {
   "cell_type": "code",
   "execution_count": 17,
   "metadata": {
    "collapsed": true
   },
   "outputs": [],
   "source": [
    "def visualize_loss(history):\n",
    "    loss = history.history['loss']\n",
    "    val_loss = history.history['val_loss']\n",
    "    epochs = range(1, len(loss) + 1)\n",
    "    plt.figure(figsize=(15,8))\n",
    "    plt.plot(epochs, loss, 'bo-', label=\"Training loss\")\n",
    "    plt.plot(epochs, val_loss, 'b', label=\"Validation loss\")\n",
    "    plt.xlabel('Epochs')\n",
    "    plt.ylabel('Loss')\n",
    "    plt.legend()\n",
    "    plt.show()\n",
    "\n",
    "def visualize_mae(history):\n",
    "    loss = history.history['mean_absolute_error']\n",
    "    val_loss = history.history['val_mean_absolute_error']\n",
    "    epochs = range(1, len(loss) + 1)\n",
    "    plt.figure(figsize=(15,8))\n",
    "    plt.plot(epochs, loss, 'ro-', label=\"Training MAE\")\n",
    "    plt.plot(epochs, val_loss, 'r', label=\"Validation MAE\")\n",
    "    plt.xlabel('Epochs')\n",
    "    plt.ylabel('MAE')\n",
    "    plt.legend()\n",
    "    plt.show()"
   ]
  },
  {
   "cell_type": "code",
   "execution_count": 12,
   "metadata": {},
   "outputs": [
    {
     "data": {
      "image/png": "[encoded data removed]",
      "text/plain": [
       "<matplotlib.figure.Figure at 0x7fc5c2fc6438>"
      ]
     },
     "metadata": {},
     "output_type": "display_data"
    }
   ],
   "source": [
    "visualize_loss(history)"
   ]
  },
  {
   "cell_type": "code",
   "execution_count": 18,
   "metadata": {},
   "outputs": [
    {
     "data": {
      "image/png": "[encoded data removed]",
      "text/plain": [
       "<matplotlib.figure.Figure at 0x7fc5c2f60f60>"
      ]
     },
     "metadata": {},
     "output_type": "display_data"
    }
   ],
   "source": [
    "visualize_mae(history)"
   ]
  },
  {
   "cell_type": "code",
   "execution_count": null,
   "metadata": {
    "collapsed": true
   },
   "outputs": [],
   "source": []
  }
 ],
 "metadata": {
  "kernelspec": {
   "display_name": "tensorflow",
   "language": "python",
   "name": "tensorflow"
  },
  "language_info": {
   "codemirror_mode": {
    "name": "ipython",
    "version": 3
   },
   "file_extension": ".py",
   "mimetype": "text/x-python",
   "name": "python",
   "nbconvert_exporter": "python",
   "pygments_lexer": "ipython3",
   "version": "3.6.2"
  }
 },
 "nbformat": 4,
 "nbformat_minor": 2
}
