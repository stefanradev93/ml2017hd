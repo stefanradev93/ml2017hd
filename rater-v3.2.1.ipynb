{
 "cells": [
  {
   "cell_type": "markdown",
   "metadata": {},
   "source": [
    "### Like v3.2 BUT 1 layer deeper"
   ]
  },
  {
   "cell_type": "code",
   "execution_count": 1,
   "metadata": {},
   "outputs": [
    {
     "name": "stderr",
     "output_type": "stream",
     "text": [
      "/home/gloria/anaconda3/lib/python3.6/site-packages/h5py/__init__.py:36: FutureWarning: Conversion of the second argument of issubdtype from `float` to `np.floating` is deprecated. In future, it will be treated as `np.float64 == np.dtype(float).type`.\n",
      "  from ._conv import register_converters as _register_converters\n",
      "Using TensorFlow backend.\n",
      "/home/gloria/tensorflow/lib/python3.6/importlib/_bootstrap.py:205: RuntimeWarning: compiletime version 3.5 of module 'tensorflow.python.framework.fast_tensor_util' does not match runtime version 3.6\n",
      "  return f(*args, **kwds)\n"
     ]
    }
   ],
   "source": [
    "from keras.engine import Model\n",
    "from keras.layers import Flatten, Dense, Input, Dropout\n",
    "from keras_vggface.vggface import VGGFace\n",
    "from keras.preprocessing.image import ImageDataGenerator\n",
    "from keras_vggface import utils\n",
    "from keras.optimizers import Adam\n",
    "from keras.preprocessing import image\n",
    "from keras import backend as K\n",
    "from keras.callbacks import ModelCheckpoint, EarlyStopping\n",
    "from sklearn.utils import class_weight\n",
    "import keras\n",
    "import numpy as np\n",
    "import os\n",
    "import shutil\n",
    "import matplotlib.pyplot as plt\n",
    "from sklearn.model_selection import train_test_split\n",
    "%matplotlib inline"
   ]
  },
  {
   "cell_type": "code",
   "execution_count": 2,
   "metadata": {
    "collapsed": true
   },
   "outputs": [],
   "source": [
    "# Constants\n",
    "IMG_SIZE = 200\n",
    "BASE_DIR = '../project/all_females'"
   ]
  },
  {
   "cell_type": "code",
   "execution_count": 3,
   "metadata": {
    "collapsed": true
   },
   "outputs": [],
   "source": [
    "# Read in ratings\n",
    "ratings = np.genfromtxt('./Projekt_SGE_Assessment_ErikK.txt')"
   ]
  },
  {
   "cell_type": "code",
   "execution_count": 4,
   "metadata": {},
   "outputs": [
    {
     "name": "stdout",
     "output_type": "stream",
     "text": [
      "(array([0, 1, 2, 3, 4, 5], dtype=int8), array([197, 128,  75,  70,  50,  48]))\n"
     ]
    }
   ],
   "source": [
    "# Round (obviously imbalanced sets)\n",
    "ratings = np.round(ratings, 0).astype(np.int8)\n",
    "print(np.unique(ratings, return_counts=True))"
   ]
  },
  {
   "cell_type": "code",
   "execution_count": 5,
   "metadata": {
    "collapsed": true
   },
   "outputs": [],
   "source": [
    "### Distribute images across folders\n",
    "for r in np.unique(ratings).astype(np.int8):\n",
    "    if not os.path.isdir('./data/train/{}-stars'.format(r)):\n",
    "        os.makedirs('./data/train/{}-stars'.format(r))\n",
    "    if not os.path.isdir('./data/test/{}-stars'.format(r)):\n",
    "        os.makedirs('./data/test/{}-stars'.format(r))"
   ]
  },
  {
   "cell_type": "code",
   "execution_count": 6,
   "metadata": {},
   "outputs": [
    {
     "name": "stdout",
     "output_type": "stream",
     "text": [
      "Train-test-split:\n",
      "X_train:  (6,)\n",
      "X_test:  (6,)\n",
      "y_train:  (6,)\n",
      "y_test:  (6,)\n"
     ]
    }
   ],
   "source": [
    "### Move all images according to ratings\n",
    "images = sorted(os.listdir(BASE_DIR))\n",
    "\n",
    "### Make sure lengths of ratings and images correspond \n",
    "assert len(ratings) == len(images)\n",
    "\n",
    "### Sort images according to ratings\n",
    "ratings = ratings.tolist()\n",
    "ratings, images = zip(*sorted(zip(ratings,images)))\n",
    "ratings = np.asarray(ratings)\n",
    "\n",
    "### Count number of ratings for each category, generate train test split for each category\n",
    "unique, counts = np.unique(ratings, return_counts=True)\n",
    "\n",
    "stars = [[] for i in counts]\n",
    "stared_img = [[] for i in counts]\n",
    "accum = np.cumsum(counts)\n",
    "stars[0] = ratings[:accum[0]]\n",
    "stared_img[0] = images[:accum[0]]\n",
    "\n",
    "for i in range(1,len(counts)):\n",
    "    stars[i] = ratings[accum[i-1]:accum[i]]\n",
    "    stared_img[i] = images[accum[i-1]:accum[i]]\n",
    "\n",
    "stars = np.asarray(stars)\n",
    "stared_img = np.asarray(stared_img)\n",
    "\n",
    "assert(stars.shape == stared_img.shape)\n",
    "\n",
    "X_train = [[] for i in counts]\n",
    "X_test = [[] for i in counts]\n",
    "y_train = [[] for i in counts]\n",
    "y_test = [[] for i in counts]\n",
    "\n",
    "for i in range(len(counts)):\n",
    "    X_train[i], X_test[i], y_train[i], y_test[i] = train_test_split(stared_img[i], stars[i], test_size=0.2)\n",
    "    \n",
    "X_train = np.asarray(X_train)\n",
    "X_test = np.asarray(X_test)\n",
    "y_train = np.asarray(y_train)\n",
    "y_test = np.asarray(y_test)\n",
    "\n",
    "        \n",
    "print(\"Train-test-split:\")\n",
    "print(\"X_train: \",X_train.shape)\n",
    "print(\"X_test: \",X_test.shape)\n",
    "print(\"y_train: \",y_train.shape)\n",
    "print(\"y_test: \",y_test.shape)\n",
    "\n",
    "#check that all subsets of the split have the same rating\n",
    "for i in range(len(counts)):\n",
    "    assert(np.sum(y_train[i]) == i*len(y_train[i]))\n",
    "    assert(np.sum(y_test[i]) == i*len(y_test[i]))"
   ]
  },
  {
   "cell_type": "code",
   "execution_count": 7,
   "metadata": {
    "collapsed": true
   },
   "outputs": [],
   "source": [
    "### Loop throgh all images and store them in the dedicated folders\n",
    "#for i, r in enumerate(ratings.astype(np.int8)):\n",
    "#    src = os.path.join(BASE_DIR, images[i])\n",
    "#    dest = os.path.join('./classification/{}-stars'.format(r), images[i])\n",
    "#    shutil.copy(src, dest)\n",
    "\n",
    "for i in range(len(X_train)):\n",
    "    for j in range(len(X_train[i])):\n",
    "        src = os.path.join(BASE_DIR, X_train[i][j])\n",
    "        dest = os.path.join('./data/train/{}-stars'.format(y_train[i][j]), X_train[i][j])\n",
    "        shutil.copy(src, dest)\n",
    "\n",
    "for i in range(len(X_test)):\n",
    "    for j in range(len(X_test[i])):\n",
    "        src = os.path.join(BASE_DIR, X_test[i][j])\n",
    "        dest = os.path.join('./data/test/{}-stars'.format(y_test[i][j]), X_test[i][j])\n",
    "        shutil.copy(src, dest)"
   ]
  },
  {
   "cell_type": "markdown",
   "metadata": {},
   "source": [
    "## Time to use data augmentation with streaming"
   ]
  },
  {
   "cell_type": "code",
   "execution_count": 8,
   "metadata": {
    "collapsed": true
   },
   "outputs": [],
   "source": [
    "datagen = ImageDataGenerator(rescale=1./255, \n",
    "                             rotation_range=40,\n",
    "                             width_shift_range=0.2,\n",
    "                             height_shift_range=0.2,\n",
    "                             shear_range=0.2,\n",
    "                             zoom_range=0.2,\n",
    "                             horizontal_flip=True,\n",
    "                             fill_mode='nearest',\n",
    "                             preprocessing_function=utils.preprocess_input)"
   ]
  },
  {
   "cell_type": "code",
   "execution_count": 9,
   "metadata": {},
   "outputs": [
    {
     "name": "stdout",
     "output_type": "stream",
     "text": [
      "Found 453 images belonging to 6 classes.\n",
      "Found 115 images belonging to 6 classes.\n"
     ]
    }
   ],
   "source": [
    "train_generator = datagen.flow_from_directory(\n",
    "    './data/train/',\n",
    "    target_size=(IMG_SIZE, IMG_SIZE),\n",
    "    batch_size=64,\n",
    "    class_mode='categorical', save_to_dir='aug_data/train', save_prefix='aug_train', save_format='png'\n",
    ")\n",
    "\n",
    "test_generator = datagen.flow_from_directory(\n",
    "    './data/test/',\n",
    "    target_size=(IMG_SIZE, IMG_SIZE),\n",
    "    batch_size=64,\n",
    "    class_mode='categorical', save_to_dir='aug_data/test', save_prefix='aug_test', save_format='png'\n",
    ")"
   ]
  },
  {
   "cell_type": "markdown",
   "metadata": {},
   "source": [
    "## Some random model"
   ]
  },
  {
   "cell_type": "code",
   "execution_count": 10,
   "metadata": {
    "collapsed": true
   },
   "outputs": [],
   "source": [
    "# Add custom layers\n",
    "vgg_base = VGGFace(include_top=False, input_shape=(IMG_SIZE, IMG_SIZE, 3), pooling='max')\n",
    "last_layer = vgg_base.get_layer('global_max_pooling2d_1').output\n",
    "#X = Dropout(0.2)(last_layer)\n",
    "X = Dense(256, activation='relu', name='fc6')(last_layer)\n",
    "X = Dropout(0.2)(X)\n",
    "X = Dense(128, activation='relu', name='fc7')(X)\n",
    "X = Dropout(0.2)(X)\n",
    "X = Dense(64, activation='relu', name='fc8')(X)\n",
    "X = Dropout(0.2)(X)\n",
    "output = Dense(len(np.unique(ratings)), activation='softmax')(X)\n",
    "model = Model(inputs=vgg_base.input, outputs=output)"
   ]
  },
  {
   "cell_type": "code",
   "execution_count": 11,
   "metadata": {
    "collapsed": true
   },
   "outputs": [],
   "source": [
    "# Freeze vgg layers\n",
    "for layer in vgg_base.layers:\n",
    "    layer.trainable = False"
   ]
  },
  {
   "cell_type": "code",
   "execution_count": 12,
   "metadata": {
    "collapsed": true
   },
   "outputs": [],
   "source": [
    "# Compute class weights since we have unbalaned classes\n",
    "class_weight = class_weight.compute_class_weight('balanced', \n",
    "                                                 np.unique(ratings), \n",
    "                                                 ratings)"
   ]
  },
  {
   "cell_type": "code",
   "execution_count": 13,
   "metadata": {
    "collapsed": true
   },
   "outputs": [],
   "source": [
    "model.compile(optimizer=Adam(clipnorm=1.0),\n",
    "              loss='categorical_crossentropy', \n",
    "              metrics=['accuracy'])"
   ]
  },
  {
   "cell_type": "code",
   "execution_count": 14,
   "metadata": {
    "collapsed": true
   },
   "outputs": [],
   "source": [
    "checkpointer = ModelCheckpoint(filepath='./weights-v3.2.1.hdf5', verbose=1, save_best_only=True)\n",
    "earlystop = EarlyStopping(monitor='val_loss', patience=10, verbose=0)"
   ]
  },
  {
   "cell_type": "code",
   "execution_count": 15,
   "metadata": {},
   "outputs": [
    {
     "name": "stdout",
     "output_type": "stream",
     "text": [
      "Epoch 1/1\n",
      "100/100 [==============================] - 141s 1s/step - loss: 1.5998 - acc: 0.3466 - val_loss: 1.5715 - val_acc: 0.3565\n",
      "\n",
      "Epoch 00001: val_loss improved from inf to 1.57146, saving model to ./weights-v3.2.1.hdf5\n"
     ]
    }
   ],
   "source": [
    "history = model.fit_generator(\n",
    "    train_generator,\n",
    "    steps_per_epoch=100,\n",
    "    epochs=1,\n",
    "    class_weight=class_weight,\n",
    "    validation_data=test_generator,\n",
    "    callbacks=[checkpointer]\n",
    ")"
   ]
  },
  {
   "cell_type": "code",
   "execution_count": 16,
   "metadata": {},
   "outputs": [
    {
     "name": "stdout",
     "output_type": "stream",
     "text": [
      "Epoch 1/500\n",
      "7/7 [==============================] - 10s 1s/step - loss: 1.5031 - acc: 0.3827 - val_loss: 1.6013 - val_acc: 0.3391\n",
      "\n",
      "Epoch 00001: val_loss did not improve\n",
      "Epoch 2/500\n",
      "7/7 [==============================] - 10s 1s/step - loss: 1.4581 - acc: 0.3804 - val_loss: 1.5613 - val_acc: 0.3391\n",
      "\n",
      "Epoch 00002: val_loss improved from 1.57146 to 1.56134, saving model to ./weights-v3.2.1.hdf5\n",
      "Epoch 3/500\n",
      "7/7 [==============================] - 9s 1s/step - loss: 1.5720 - acc: 0.3434 - val_loss: 1.5630 - val_acc: 0.3826\n",
      "\n",
      "Epoch 00003: val_loss did not improve\n",
      "Epoch 4/500\n",
      "7/7 [==============================] - 9s 1s/step - loss: 1.5461 - acc: 0.3597 - val_loss: 1.5730 - val_acc: 0.3304\n",
      "\n",
      "Epoch 00004: val_loss did not improve\n",
      "Epoch 5/500\n",
      "7/7 [==============================] - 10s 1s/step - loss: 1.4276 - acc: 0.4152 - val_loss: 1.5667 - val_acc: 0.3391\n",
      "\n",
      "Epoch 00005: val_loss did not improve\n",
      "Epoch 6/500\n",
      "7/7 [==============================] - 10s 1s/step - loss: 1.4530 - acc: 0.4006 - val_loss: 1.5645 - val_acc: 0.3565\n",
      "\n",
      "Epoch 00006: val_loss did not improve\n",
      "Epoch 7/500\n",
      "7/7 [==============================] - 15s 2s/step - loss: 1.4025 - acc: 0.4334 - val_loss: 1.6919 - val_acc: 0.3130\n",
      "\n",
      "Epoch 00007: val_loss did not improve\n",
      "Epoch 8/500\n",
      "7/7 [==============================] - 9s 1s/step - loss: 1.4267 - acc: 0.4035 - val_loss: 1.5696 - val_acc: 0.3043\n",
      "\n",
      "Epoch 00008: val_loss did not improve\n",
      "Epoch 9/500\n",
      "7/7 [==============================] - 9s 1s/step - loss: 1.4911 - acc: 0.4240 - val_loss: 1.5683 - val_acc: 0.3565\n",
      "\n",
      "Epoch 00009: val_loss did not improve\n",
      "Epoch 10/500\n",
      "7/7 [==============================] - 9s 1s/step - loss: 1.4487 - acc: 0.3801 - val_loss: 1.5445 - val_acc: 0.3391\n",
      "\n",
      "Epoch 00010: val_loss improved from 1.56134 to 1.54455, saving model to ./weights-v3.2.1.hdf5\n",
      "Epoch 11/500\n",
      "7/7 [==============================] - 9s 1s/step - loss: 1.3979 - acc: 0.4214 - val_loss: 1.5762 - val_acc: 0.3391\n",
      "\n",
      "Epoch 00011: val_loss did not improve\n",
      "Epoch 12/500\n",
      "7/7 [==============================] - 9s 1s/step - loss: 1.3953 - acc: 0.4419 - val_loss: 1.5202 - val_acc: 0.3565\n",
      "\n",
      "Epoch 00012: val_loss improved from 1.54455 to 1.52024, saving model to ./weights-v3.2.1.hdf5\n",
      "Epoch 13/500\n",
      "7/7 [==============================] - 9s 1s/step - loss: 1.3708 - acc: 0.4259 - val_loss: 1.5644 - val_acc: 0.3826\n",
      "\n",
      "Epoch 00013: val_loss did not improve\n",
      "Epoch 14/500\n",
      "7/7 [==============================] - 10s 1s/step - loss: 1.3943 - acc: 0.4397 - val_loss: 1.6173 - val_acc: 0.3217\n",
      "\n",
      "Epoch 00014: val_loss did not improve\n",
      "Epoch 15/500\n",
      "7/7 [==============================] - 10s 1s/step - loss: 1.3419 - acc: 0.4328 - val_loss: 1.5281 - val_acc: 0.3652\n",
      "\n",
      "Epoch 00015: val_loss did not improve\n",
      "Epoch 16/500\n",
      "7/7 [==============================] - 9s 1s/step - loss: 1.3796 - acc: 0.3935 - val_loss: 1.5761 - val_acc: 0.3565\n",
      "\n",
      "Epoch 00016: val_loss did not improve\n",
      "Epoch 17/500\n",
      "7/7 [==============================] - 9s 1s/step - loss: 1.3175 - acc: 0.4902 - val_loss: 1.5711 - val_acc: 0.3304\n",
      "\n",
      "Epoch 00017: val_loss did not improve\n",
      "Epoch 18/500\n",
      "7/7 [==============================] - 11s 2s/step - loss: 1.3621 - acc: 0.4598 - val_loss: 1.5875 - val_acc: 0.3304\n",
      "\n",
      "Epoch 00018: val_loss did not improve\n",
      "Epoch 19/500\n",
      "7/7 [==============================] - 8s 1s/step - loss: 1.3708 - acc: 0.3889 - val_loss: 1.5960 - val_acc: 0.3913\n",
      "\n",
      "Epoch 00019: val_loss did not improve\n",
      "Epoch 20/500\n",
      "7/7 [==============================] - 11s 2s/step - loss: 1.3082 - acc: 0.4598 - val_loss: 1.5760 - val_acc: 0.3478\n",
      "\n",
      "Epoch 00020: val_loss did not improve\n",
      "Epoch 21/500\n",
      "7/7 [==============================] - 9s 1s/step - loss: 1.2318 - acc: 0.5482 - val_loss: 1.5030 - val_acc: 0.3652\n",
      "\n",
      "Epoch 00021: val_loss improved from 1.52024 to 1.50295, saving model to ./weights-v3.2.1.hdf5\n",
      "Epoch 22/500\n",
      "7/7 [==============================] - 11s 2s/step - loss: 1.3121 - acc: 0.4754 - val_loss: 1.5413 - val_acc: 0.4087\n",
      "\n",
      "Epoch 00022: val_loss did not improve\n",
      "Epoch 23/500\n",
      "7/7 [==============================] - 10s 1s/step - loss: 1.3724 - acc: 0.4052 - val_loss: 1.6316 - val_acc: 0.3304\n",
      "\n",
      "Epoch 00023: val_loss did not improve\n",
      "Epoch 24/500\n",
      "7/7 [==============================] - 9s 1s/step - loss: 1.2543 - acc: 0.5013 - val_loss: 1.6057 - val_acc: 0.3652\n",
      "\n",
      "Epoch 00024: val_loss did not improve\n",
      "Epoch 25/500\n",
      "7/7 [==============================] - 9s 1s/step - loss: 1.2697 - acc: 0.4876 - val_loss: 1.5808 - val_acc: 0.3652\n",
      "\n",
      "Epoch 00025: val_loss did not improve\n",
      "Epoch 26/500\n",
      "7/7 [==============================] - 11s 2s/step - loss: 1.3272 - acc: 0.4420 - val_loss: 1.6140 - val_acc: 0.3478\n",
      "\n",
      "Epoch 00026: val_loss did not improve\n",
      "Epoch 27/500\n",
      "7/7 [==============================] - 8s 1s/step - loss: 1.4202 - acc: 0.4674 - val_loss: 1.6302 - val_acc: 0.3739\n",
      "\n",
      "Epoch 00027: val_loss did not improve\n",
      "Epoch 28/500\n",
      "7/7 [==============================] - 11s 2s/step - loss: 1.2826 - acc: 0.4888 - val_loss: 1.6104 - val_acc: 0.3478\n",
      "\n",
      "Epoch 00028: val_loss did not improve\n",
      "Epoch 29/500\n",
      "7/7 [==============================] - 10s 1s/step - loss: 1.2893 - acc: 0.4851 - val_loss: 1.5509 - val_acc: 0.3739\n",
      "\n",
      "Epoch 00029: val_loss did not improve\n",
      "Epoch 30/500\n",
      "7/7 [==============================] - 9s 1s/step - loss: 1.2907 - acc: 0.4552 - val_loss: 1.6225 - val_acc: 0.3478\n",
      "\n",
      "Epoch 00030: val_loss did not improve\n",
      "Epoch 31/500\n",
      "7/7 [==============================] - 10s 1s/step - loss: 1.2824 - acc: 0.4919 - val_loss: 1.6527 - val_acc: 0.3652\n",
      "\n",
      "Epoch 00031: val_loss did not improve\n"
     ]
    }
   ],
   "source": [
    "history = model.fit_generator(\n",
    "    train_generator,\n",
    "    steps_per_epoch=453//64,\n",
    "    epochs=500,\n",
    "    class_weight=class_weight,\n",
    "    validation_data=test_generator,\n",
    "    callbacks=[earlystop, checkpointer]\n",
    ")"
   ]
  },
  {
   "cell_type": "code",
   "execution_count": 17,
   "metadata": {
    "collapsed": true
   },
   "outputs": [],
   "source": [
    "model.save('./models/love_classifierv3.2.1.h5')"
   ]
  },
  {
   "cell_type": "markdown",
   "metadata": {},
   "source": [
    "### Choose candidates from test set"
   ]
  },
  {
   "cell_type": "code",
   "execution_count": 18,
   "metadata": {},
   "outputs": [
    {
     "name": "stdout",
     "output_type": "stream",
     "text": [
      "[1 2 3 1 0 0 0 0 0 3 0 0 3 0 0 0 0 3 0 0 0 0 0 2 0 0 2 0 0 0 0 1 0 0 0 0 0\n",
      " 0 3 0 0 0 0 1 0 3 3 0 5 1 0 0 0 0 1 0 3 0 0 3 0 0 0 0 0 0 2 0 0 0 1 1 1 1\n",
      " 3 2 2 0 1 0 1 1 0 2 0 3 1 3 5 5 0 2 1 2 1 0 0 3 3 0 0 5 0 2 3 0 2 0 3 5 3\n",
      " 5 3 5 0]\n",
      "[array([0, 0, 0, 0, 0, 0, 0, 0, 0, 0, 0, 0, 0, 0, 0, 0, 0, 0, 0, 0, 0, 0,\n",
      "       0, 0, 0, 0, 0, 0, 0, 0, 0, 0, 0, 0, 0, 0, 0, 0, 0, 0])\n",
      " array([1, 1, 1, 1, 1, 1, 1, 1, 1, 1, 1, 1, 1, 1, 1, 1, 1, 1, 1, 1, 1, 1,\n",
      "       1, 1, 1, 1])\n",
      " array([2, 2, 2, 2, 2, 2, 2, 2, 2, 2, 2, 2, 2, 2, 2])\n",
      " array([3, 3, 3, 3, 3, 3, 3, 3, 3, 3, 3, 3, 3, 3])\n",
      " array([4, 4, 4, 4, 4, 4, 4, 4, 4, 4])\n",
      " array([5, 5, 5, 5, 5, 5, 5, 5, 5, 5])]\n"
     ]
    }
   ],
   "source": [
    "#freeze layers\n",
    "#for layer in model.layers:\n",
    "#    layer.trainable = False\n",
    "\n",
    "#transform X_test & y_test so all data is in one dimension \n",
    "realNumDim = 0\n",
    "for i in range(X_test.shape[0]):\n",
    "    for j in range(len(X_test[i])):\n",
    "        realNumDim += 1\n",
    "    \n",
    "#get test data (unmodified)\n",
    "data_test = np.zeros((realNumDim, IMG_SIZE, IMG_SIZE, 3))    \n",
    "last_set = 0\n",
    "for i in range(X_test.shape[0]): #iterate over #stars\n",
    "    for idx, _im in enumerate(X_test[i]): #iterate over images\n",
    "        _img = image.load_img(os.path.join(BASE_DIR, _im), target_size=(IMG_SIZE,IMG_SIZE))\n",
    "        _x = image.img_to_array(_img)\n",
    "        _x = np.expand_dims(_x, axis=0)\n",
    "        data_test[last_set, :, :, :] = utils.preprocess_input(_x, version=1) / .255\n",
    "        last_set += 1\n",
    "\n",
    "predictions = model.predict(data_test)\n",
    "pred_classes = predictions.argmax(axis=-1)\n",
    "\n",
    "print(pred_classes)\n",
    "print(y_test)"
   ]
  },
  {
   "cell_type": "markdown",
   "metadata": {
    "collapsed": true
   },
   "source": [
    "### Going 1 layer deeper improves val_acc from 0.3391 (see rater-v3.2-2nd) to 0.4087."
   ]
  },
  {
   "cell_type": "code",
   "execution_count": null,
   "metadata": {
    "collapsed": true
   },
   "outputs": [],
   "source": []
  }
 ],
 "metadata": {
  "kernelspec": {
   "display_name": "tensorflow",
   "language": "python",
   "name": "tensorflow"
  },
  "language_info": {
   "codemirror_mode": {
    "name": "ipython",
    "version": 3
   },
   "file_extension": ".py",
   "mimetype": "text/x-python",
   "name": "python",
   "nbconvert_exporter": "python",
   "pygments_lexer": "ipython3",
   "version": "3.6.2"
  }
 },
 "nbformat": 4,
 "nbformat_minor": 2
}
