{
 "cells": [
  {
   "cell_type": "code",
   "execution_count": 1,
   "metadata": {},
   "outputs": [
    {
     "name": "stderr",
     "output_type": "stream",
     "text": [
      "/home/gloria/anaconda3/lib/python3.6/site-packages/h5py/__init__.py:36: FutureWarning: Conversion of the second argument of issubdtype from `float` to `np.floating` is deprecated. In future, it will be treated as `np.float64 == np.dtype(float).type`.\n",
      "  from ._conv import register_converters as _register_converters\n",
      "Using TensorFlow backend.\n",
      "/home/gloria/tensorflow/lib/python3.6/importlib/_bootstrap.py:205: RuntimeWarning: compiletime version 3.5 of module 'tensorflow.python.framework.fast_tensor_util' does not match runtime version 3.6\n",
      "  return f(*args, **kwds)\n"
     ]
    }
   ],
   "source": [
    "from keras.engine import  Model\n",
    "from keras.layers import Flatten, Dense, Input, Dropout\n",
    "from keras.optimizers import Adam\n",
    "from keras.preprocessing import image\n",
    "from keras import backend as K\n",
    "from keras_vggface.vggface import VGGFace\n",
    "from keras_vggface import utils\n",
    "import numpy as np\n",
    "import os\n",
    "from keras.utils import to_categorical\n",
    "import matplotlib.pyplot as plt\n",
    "from keras.callbacks import ModelCheckpoint\n",
    "from keras import regularizers\n",
    "%matplotlib inline"
   ]
  },
  {
   "cell_type": "code",
   "execution_count": 2,
   "metadata": {},
   "outputs": [
    {
     "name": "stdout",
     "output_type": "stream",
     "text": [
      "['/job:localhost/replica:0/task:0/device:GPU:0']\n"
     ]
    }
   ],
   "source": [
    "print(K.tensorflow_backend._get_available_gpus())"
   ]
  },
  {
   "cell_type": "code",
   "execution_count": 3,
   "metadata": {
    "collapsed": true
   },
   "outputs": [],
   "source": [
    "K.clear_session()"
   ]
  },
  {
   "cell_type": "code",
   "execution_count": 4,
   "metadata": {},
   "outputs": [],
   "source": [
    "vgg_base = VGGFace(include_top=False, input_shape=(100, 100, 3), pooling='max')"
   ]
  },
  {
   "cell_type": "code",
   "execution_count": 5,
   "metadata": {},
   "outputs": [
    {
     "name": "stdout",
     "output_type": "stream",
     "text": [
      "_________________________________________________________________\n",
      "Layer (type)                 Output Shape              Param #   \n",
      "=================================================================\n",
      "input_1 (InputLayer)         (None, 100, 100, 3)       0         \n",
      "_________________________________________________________________\n",
      "conv1_1 (Conv2D)             (None, 100, 100, 64)      1792      \n",
      "_________________________________________________________________\n",
      "conv1_2 (Conv2D)             (None, 100, 100, 64)      36928     \n",
      "_________________________________________________________________\n",
      "pool1 (MaxPooling2D)         (None, 50, 50, 64)        0         \n",
      "_________________________________________________________________\n",
      "conv2_1 (Conv2D)             (None, 50, 50, 128)       73856     \n",
      "_________________________________________________________________\n",
      "conv2_2 (Conv2D)             (None, 50, 50, 128)       147584    \n",
      "_________________________________________________________________\n",
      "pool2 (MaxPooling2D)         (None, 25, 25, 128)       0         \n",
      "_________________________________________________________________\n",
      "conv3_1 (Conv2D)             (None, 25, 25, 256)       295168    \n",
      "_________________________________________________________________\n",
      "conv3_2 (Conv2D)             (None, 25, 25, 256)       590080    \n",
      "_________________________________________________________________\n",
      "conv3_3 (Conv2D)             (None, 25, 25, 256)       590080    \n",
      "_________________________________________________________________\n",
      "pool3 (MaxPooling2D)         (None, 12, 12, 256)       0         \n",
      "_________________________________________________________________\n",
      "conv4_1 (Conv2D)             (None, 12, 12, 512)       1180160   \n",
      "_________________________________________________________________\n",
      "conv4_2 (Conv2D)             (None, 12, 12, 512)       2359808   \n",
      "_________________________________________________________________\n",
      "conv4_3 (Conv2D)             (None, 12, 12, 512)       2359808   \n",
      "_________________________________________________________________\n",
      "pool4 (MaxPooling2D)         (None, 6, 6, 512)         0         \n",
      "_________________________________________________________________\n",
      "conv5_1 (Conv2D)             (None, 6, 6, 512)         2359808   \n",
      "_________________________________________________________________\n",
      "conv5_2 (Conv2D)             (None, 6, 6, 512)         2359808   \n",
      "_________________________________________________________________\n",
      "conv5_3 (Conv2D)             (None, 6, 6, 512)         2359808   \n",
      "_________________________________________________________________\n",
      "pool5 (MaxPooling2D)         (None, 3, 3, 512)         0         \n",
      "_________________________________________________________________\n",
      "global_max_pooling2d_1 (Glob (None, 512)               0         \n",
      "=================================================================\n",
      "Total params: 14,714,688\n",
      "Trainable params: 14,714,688\n",
      "Non-trainable params: 0\n",
      "_________________________________________________________________\n"
     ]
    }
   ],
   "source": [
    "vgg_base.summary()"
   ]
  },
  {
   "cell_type": "code",
   "execution_count": 6,
   "metadata": {
    "collapsed": true
   },
   "outputs": [],
   "source": [
    "# Add custom layers\n",
    "last_layer = vgg_base.get_layer('global_max_pooling2d_1').output\n",
    "X = Dropout(0.2)(last_layer)\n",
    "# x = Flatten(name='flatten')(last_layer)\n",
    "X = Dense(256, kernel_regularizer=regularizers.l2(0.0001), activation='relu', name='fc6')(X)\n",
    "X = Dropout(0.2)(X)\n",
    "X = Dense(128, kernel_regularizer=regularizers.l2(0.0001), activation='relu', name='fc7')(X)\n",
    "X = Dropout(0.2)(X)\n",
    "output = Dense(6, kernel_regularizer=regularizers.l2(0.0001), activation='softmax')(X)"
   ]
  },
  {
   "cell_type": "code",
   "execution_count": 7,
   "metadata": {
    "collapsed": true
   },
   "outputs": [],
   "source": [
    "# this is the model we will train\n",
    "model = Model(inputs=vgg_base.input, outputs=output)"
   ]
  },
  {
   "cell_type": "code",
   "execution_count": 8,
   "metadata": {
    "collapsed": true
   },
   "outputs": [],
   "source": [
    "# first: train only the top layers (which were randomly initialized)\n",
    "# i.e. freeze all convolutional InceptionV3 layers\n",
    "for layer in vgg_base.layers:\n",
    "    layer.trainable = False"
   ]
  },
  {
   "cell_type": "code",
   "execution_count": 9,
   "metadata": {},
   "outputs": [
    {
     "data": {
      "text/plain": [
       "[<tf.Variable 'fc6/kernel:0' shape=(512, 256) dtype=float32_ref>,\n",
       " <tf.Variable 'fc6/bias:0' shape=(256,) dtype=float32_ref>,\n",
       " <tf.Variable 'fc7/kernel:0' shape=(256, 128) dtype=float32_ref>,\n",
       " <tf.Variable 'fc7/bias:0' shape=(128,) dtype=float32_ref>,\n",
       " <tf.Variable 'dense_1/kernel:0' shape=(128, 6) dtype=float32_ref>,\n",
       " <tf.Variable 'dense_1/bias:0' shape=(6,) dtype=float32_ref>]"
      ]
     },
     "execution_count": 9,
     "metadata": {},
     "output_type": "execute_result"
    }
   ],
   "source": [
    "# Make sure weights are not trainable\n",
    "model.trainable_weights"
   ]
  },
  {
   "cell_type": "code",
   "execution_count": 10,
   "metadata": {
    "collapsed": true
   },
   "outputs": [],
   "source": [
    "model.compile(optimizer=Adam(lr=0.0001,clipnorm=1.0),loss='categorical_crossentropy', metrics=['accuracy'])"
   ]
  },
  {
   "cell_type": "code",
   "execution_count": 11,
   "metadata": {},
   "outputs": [
    {
     "name": "stdout",
     "output_type": "stream",
     "text": [
      "_________________________________________________________________\n",
      "Layer (type)                 Output Shape              Param #   \n",
      "=================================================================\n",
      "input_1 (InputLayer)         (None, 100, 100, 3)       0         \n",
      "_________________________________________________________________\n",
      "conv1_1 (Conv2D)             (None, 100, 100, 64)      1792      \n",
      "_________________________________________________________________\n",
      "conv1_2 (Conv2D)             (None, 100, 100, 64)      36928     \n",
      "_________________________________________________________________\n",
      "pool1 (MaxPooling2D)         (None, 50, 50, 64)        0         \n",
      "_________________________________________________________________\n",
      "conv2_1 (Conv2D)             (None, 50, 50, 128)       73856     \n",
      "_________________________________________________________________\n",
      "conv2_2 (Conv2D)             (None, 50, 50, 128)       147584    \n",
      "_________________________________________________________________\n",
      "pool2 (MaxPooling2D)         (None, 25, 25, 128)       0         \n",
      "_________________________________________________________________\n",
      "conv3_1 (Conv2D)             (None, 25, 25, 256)       295168    \n",
      "_________________________________________________________________\n",
      "conv3_2 (Conv2D)             (None, 25, 25, 256)       590080    \n",
      "_________________________________________________________________\n",
      "conv3_3 (Conv2D)             (None, 25, 25, 256)       590080    \n",
      "_________________________________________________________________\n",
      "pool3 (MaxPooling2D)         (None, 12, 12, 256)       0         \n",
      "_________________________________________________________________\n",
      "conv4_1 (Conv2D)             (None, 12, 12, 512)       1180160   \n",
      "_________________________________________________________________\n",
      "conv4_2 (Conv2D)             (None, 12, 12, 512)       2359808   \n",
      "_________________________________________________________________\n",
      "conv4_3 (Conv2D)             (None, 12, 12, 512)       2359808   \n",
      "_________________________________________________________________\n",
      "pool4 (MaxPooling2D)         (None, 6, 6, 512)         0         \n",
      "_________________________________________________________________\n",
      "conv5_1 (Conv2D)             (None, 6, 6, 512)         2359808   \n",
      "_________________________________________________________________\n",
      "conv5_2 (Conv2D)             (None, 6, 6, 512)         2359808   \n",
      "_________________________________________________________________\n",
      "conv5_3 (Conv2D)             (None, 6, 6, 512)         2359808   \n",
      "_________________________________________________________________\n",
      "pool5 (MaxPooling2D)         (None, 3, 3, 512)         0         \n",
      "_________________________________________________________________\n",
      "global_max_pooling2d_1 (Glob (None, 512)               0         \n",
      "_________________________________________________________________\n",
      "dropout_1 (Dropout)          (None, 512)               0         \n",
      "_________________________________________________________________\n",
      "fc6 (Dense)                  (None, 256)               131328    \n",
      "_________________________________________________________________\n",
      "dropout_2 (Dropout)          (None, 256)               0         \n",
      "_________________________________________________________________\n",
      "fc7 (Dense)                  (None, 128)               32896     \n",
      "_________________________________________________________________\n",
      "dropout_3 (Dropout)          (None, 128)               0         \n",
      "_________________________________________________________________\n",
      "dense_1 (Dense)              (None, 6)                 774       \n",
      "=================================================================\n",
      "Total params: 14,879,686\n",
      "Trainable params: 164,998\n",
      "Non-trainable params: 14,714,688\n",
      "_________________________________________________________________\n"
     ]
    }
   ],
   "source": [
    "model.summary()"
   ]
  },
  {
   "cell_type": "code",
   "execution_count": 14,
   "metadata": {
    "collapsed": true
   },
   "outputs": [],
   "source": [
    "BASE_DIR = '../project/all_females'"
   ]
  },
  {
   "cell_type": "code",
   "execution_count": 15,
   "metadata": {},
   "outputs": [],
   "source": [
    "# IMPORTANT !\n",
    "# LISTDIR returns the files as indexed by the filessystem\n",
    "# not necessarily in alphanumeric order, so need to sort them!\n",
    "N_IMAGES = len(os.listdir(BASE_DIR))\n",
    "IMAGE_SIZE = (100, 100)\n",
    "\n",
    "X_train = np.zeros((N_IMAGES, IMAGE_SIZE[0], IMAGE_SIZE[1], 3))\n",
    "y_train = np.zeros(N_IMAGES)\n",
    "\n",
    "for idx, _im in enumerate(sorted(os.listdir(BASE_DIR))):\n",
    "    # Change the image path with yours.\n",
    "    _img = image.load_img(os.path.join(BASE_DIR, _im), target_size=IMAGE_SIZE)\n",
    "    _x = image.img_to_array(_img)\n",
    "    _x = np.expand_dims(_x, axis=0)\n",
    "    X_train[idx, :, :, :] = utils.preprocess_input(_x, version=1) / .255 "
   ]
  },
  {
   "cell_type": "code",
   "execution_count": 16,
   "metadata": {
    "collapsed": true
   },
   "outputs": [],
   "source": [
    "# Make sure images are ok\n",
    "assert ~np.any(np.isnan(X_train))"
   ]
  },
  {
   "cell_type": "code",
   "execution_count": 17,
   "metadata": {
    "collapsed": true
   },
   "outputs": [],
   "source": [
    "# Load ratings\n",
    "ratings = np.genfromtxt('./Projekt_SGE_Assessment_ErikK.txt')\n",
    "ratings = to_categorical(ratings, num_classes=6)"
   ]
  },
  {
   "cell_type": "code",
   "execution_count": 18,
   "metadata": {
    "collapsed": true
   },
   "outputs": [],
   "source": [
    "# Standardize ratings\n",
    "ratings_z = (ratings - np.mean(ratings)) / np.std(ratings)"
   ]
  },
  {
   "cell_type": "code",
   "execution_count": 21,
   "metadata": {},
   "outputs": [
    {
     "name": "stdout",
     "output_type": "stream",
     "text": [
      "Train on 454 samples, validate on 114 samples\n",
      "Epoch 1/50\n",
      "454/454 [==============================] - 2s 4ms/step - loss: 10.2378 - acc: 0.3678 - val_loss: 11.6423 - val_acc: 0.2807\n",
      "\n",
      "Epoch 00001: val_loss improved from inf to 11.64230, saving model to ./weights.hdf5\n",
      "Epoch 2/50\n",
      "454/454 [==============================] - 2s 4ms/step - loss: 10.2732 - acc: 0.3656 - val_loss: 11.6422 - val_acc: 0.2807\n",
      "\n",
      "Epoch 00002: val_loss improved from 11.64230 to 11.64223, saving model to ./weights.hdf5\n",
      "Epoch 3/50\n",
      "454/454 [==============================] - 2s 4ms/step - loss: 10.3106 - acc: 0.3612 - val_loss: 11.6422 - val_acc: 0.2807\n",
      "\n",
      "Epoch 00003: val_loss improved from 11.64223 to 11.64217, saving model to ./weights.hdf5\n",
      "Epoch 4/50\n",
      "454/454 [==============================] - 2s 4ms/step - loss: 10.3086 - acc: 0.3634 - val_loss: 11.6421 - val_acc: 0.2807\n",
      "\n",
      "Epoch 00004: val_loss improved from 11.64217 to 11.64211, saving model to ./weights.hdf5\n",
      "Epoch 5/50\n",
      "454/454 [==============================] - 2s 4ms/step - loss: 10.2378 - acc: 0.3678 - val_loss: 11.6420 - val_acc: 0.2807\n",
      "\n",
      "Epoch 00005: val_loss improved from 11.64211 to 11.64205, saving model to ./weights.hdf5\n",
      "Epoch 6/50\n",
      "454/454 [==============================] - 2s 4ms/step - loss: 10.3464 - acc: 0.3590 - val_loss: 11.6420 - val_acc: 0.2807\n",
      "\n",
      "Epoch 00006: val_loss improved from 11.64205 to 11.64199, saving model to ./weights.hdf5\n",
      "Epoch 7/50\n",
      "454/454 [==============================] - 2s 4ms/step - loss: 10.2729 - acc: 0.3656 - val_loss: 11.6419 - val_acc: 0.2807\n",
      "\n",
      "Epoch 00007: val_loss improved from 11.64199 to 11.64193, saving model to ./weights.hdf5\n",
      "Epoch 8/50\n",
      "454/454 [==============================] - 2s 4ms/step - loss: 10.2729 - acc: 0.3656 - val_loss: 11.6419 - val_acc: 0.2807\n",
      "\n",
      "Epoch 00008: val_loss improved from 11.64193 to 11.64186, saving model to ./weights.hdf5\n",
      "Epoch 9/50\n",
      "454/454 [==============================] - 2s 4ms/step - loss: 10.3285 - acc: 0.3612 - val_loss: 11.6418 - val_acc: 0.2807\n",
      "\n",
      "Epoch 00009: val_loss improved from 11.64186 to 11.64180, saving model to ./weights.hdf5\n",
      "Epoch 10/50\n",
      "454/454 [==============================] - 2s 4ms/step - loss: 10.3076 - acc: 0.3634 - val_loss: 11.6417 - val_acc: 0.2807\n",
      "\n",
      "Epoch 00010: val_loss improved from 11.64180 to 11.64174, saving model to ./weights.hdf5\n",
      "Epoch 11/50\n",
      "454/454 [==============================] - 2s 4ms/step - loss: 10.2017 - acc: 0.3700 - val_loss: 11.6417 - val_acc: 0.2807\n",
      "\n",
      "Epoch 00011: val_loss improved from 11.64174 to 11.64168, saving model to ./weights.hdf5\n",
      "Epoch 12/50\n",
      "454/454 [==============================] - 2s 4ms/step - loss: 10.3081 - acc: 0.3634 - val_loss: 11.6416 - val_acc: 0.2807\n",
      "\n",
      "Epoch 00012: val_loss improved from 11.64168 to 11.64162, saving model to ./weights.hdf5\n",
      "Epoch 13/50\n",
      "454/454 [==============================] - 2s 4ms/step - loss: 10.3454 - acc: 0.3590 - val_loss: 11.6416 - val_acc: 0.2807\n",
      "\n",
      "Epoch 00013: val_loss improved from 11.64162 to 11.64157, saving model to ./weights.hdf5\n",
      "Epoch 14/50\n",
      "454/454 [==============================] - 2s 4ms/step - loss: 10.3237 - acc: 0.3612 - val_loss: 11.6415 - val_acc: 0.2807\n",
      "\n",
      "Epoch 00014: val_loss improved from 11.64157 to 11.64151, saving model to ./weights.hdf5\n",
      "Epoch 15/50\n",
      "454/454 [==============================] - 2s 4ms/step - loss: 10.3088 - acc: 0.3634 - val_loss: 11.6415 - val_acc: 0.2807\n",
      "\n",
      "Epoch 00015: val_loss improved from 11.64151 to 11.64146, saving model to ./weights.hdf5\n",
      "Epoch 16/50\n",
      "454/454 [==============================] - 2s 4ms/step - loss: 10.2724 - acc: 0.3656 - val_loss: 11.6414 - val_acc: 0.2807\n",
      "\n",
      "Epoch 00016: val_loss improved from 11.64146 to 11.64140, saving model to ./weights.hdf5\n",
      "Epoch 17/50\n",
      "454/454 [==============================] - 2s 4ms/step - loss: 10.3434 - acc: 0.3612 - val_loss: 11.6413 - val_acc: 0.2807\n",
      "\n",
      "Epoch 00017: val_loss improved from 11.64140 to 11.64134, saving model to ./weights.hdf5\n",
      "Epoch 18/50\n",
      "454/454 [==============================] - 2s 4ms/step - loss: 10.3078 - acc: 0.3634 - val_loss: 11.6413 - val_acc: 0.2807\n",
      "\n",
      "Epoch 00018: val_loss improved from 11.64134 to 11.64128, saving model to ./weights.hdf5\n",
      "Epoch 19/50\n",
      "454/454 [==============================] - 2s 4ms/step - loss: 10.3077 - acc: 0.3634 - val_loss: 11.6412 - val_acc: 0.2807\n",
      "\n",
      "Epoch 00019: val_loss improved from 11.64128 to 11.64122, saving model to ./weights.hdf5\n",
      "Epoch 20/50\n",
      "454/454 [==============================] - 2s 4ms/step - loss: 10.3077 - acc: 0.3634 - val_loss: 11.6412 - val_acc: 0.2807\n",
      "\n",
      "Epoch 00020: val_loss improved from 11.64122 to 11.64116, saving model to ./weights.hdf5\n",
      "Epoch 21/50\n",
      "454/454 [==============================] - 2s 4ms/step - loss: 10.3431 - acc: 0.3612 - val_loss: 11.6411 - val_acc: 0.2807\n",
      "\n",
      "Epoch 00021: val_loss improved from 11.64116 to 11.64110, saving model to ./weights.hdf5\n",
      "Epoch 22/50\n",
      "454/454 [==============================] - 2s 4ms/step - loss: 10.3098 - acc: 0.3612 - val_loss: 11.6410 - val_acc: 0.2807\n",
      "\n",
      "Epoch 00022: val_loss improved from 11.64110 to 11.64104, saving model to ./weights.hdf5\n",
      "Epoch 23/50\n",
      "454/454 [==============================] - 2s 4ms/step - loss: 10.3075 - acc: 0.3634 - val_loss: 11.6410 - val_acc: 0.2807\n",
      "\n",
      "Epoch 00023: val_loss improved from 11.64104 to 11.64098, saving model to ./weights.hdf5\n",
      "Epoch 24/50\n",
      "454/454 [==============================] - 2s 4ms/step - loss: 10.3429 - acc: 0.3612 - val_loss: 11.6409 - val_acc: 0.2807\n",
      "\n",
      "Epoch 00024: val_loss improved from 11.64098 to 11.64093, saving model to ./weights.hdf5\n",
      "Epoch 25/50\n",
      "454/454 [==============================] - 2s 4ms/step - loss: 10.3074 - acc: 0.3634 - val_loss: 11.6409 - val_acc: 0.2807\n",
      "\n",
      "Epoch 00025: val_loss improved from 11.64093 to 11.64087, saving model to ./weights.hdf5\n",
      "Epoch 26/50\n",
      "454/454 [==============================] - 2s 4ms/step - loss: 10.3428 - acc: 0.3612 - val_loss: 11.6408 - val_acc: 0.2807\n",
      "\n",
      "Epoch 00026: val_loss improved from 11.64087 to 11.64081, saving model to ./weights.hdf5\n",
      "Epoch 27/50\n",
      "454/454 [==============================] - 2s 4ms/step - loss: 10.3073 - acc: 0.3634 - val_loss: 11.6407 - val_acc: 0.2807\n",
      "\n",
      "Epoch 00027: val_loss improved from 11.64081 to 11.64075, saving model to ./weights.hdf5\n",
      "Epoch 28/50\n",
      "454/454 [==============================] - 2s 4ms/step - loss: 10.3638 - acc: 0.3590 - val_loss: 11.6407 - val_acc: 0.2807\n",
      "\n",
      "Epoch 00028: val_loss improved from 11.64075 to 11.64069, saving model to ./weights.hdf5\n",
      "Epoch 29/50\n",
      "454/454 [==============================] - 2s 4ms/step - loss: 10.3426 - acc: 0.3612 - val_loss: 11.6406 - val_acc: 0.2807\n",
      "\n",
      "Epoch 00029: val_loss improved from 11.64069 to 11.64063, saving model to ./weights.hdf5\n",
      "Epoch 30/50\n",
      "454/454 [==============================] - 2s 4ms/step - loss: 10.2716 - acc: 0.3656 - val_loss: 11.6406 - val_acc: 0.2807\n",
      "\n",
      "Epoch 00030: val_loss improved from 11.64063 to 11.64057, saving model to ./weights.hdf5\n",
      "Epoch 31/50\n",
      "454/454 [==============================] - 2s 4ms/step - loss: 10.2715 - acc: 0.3656 - val_loss: 11.6405 - val_acc: 0.2807\n",
      "\n",
      "Epoch 00031: val_loss improved from 11.64057 to 11.64052, saving model to ./weights.hdf5\n",
      "Epoch 32/50\n",
      "454/454 [==============================] - 2s 4ms/step - loss: 10.3425 - acc: 0.3612 - val_loss: 11.6405 - val_acc: 0.2807\n",
      "\n",
      "Epoch 00032: val_loss improved from 11.64052 to 11.64046, saving model to ./weights.hdf5\n",
      "Epoch 33/50\n",
      "454/454 [==============================] - 2s 4ms/step - loss: 10.3069 - acc: 0.3634 - val_loss: 11.6404 - val_acc: 0.2807\n",
      "\n",
      "Epoch 00033: val_loss improved from 11.64046 to 11.64040, saving model to ./weights.hdf5\n",
      "Epoch 34/50\n",
      "454/454 [==============================] - 2s 4ms/step - loss: 10.3069 - acc: 0.3634 - val_loss: 11.6403 - val_acc: 0.2807\n",
      "\n",
      "Epoch 00034: val_loss improved from 11.64040 to 11.64034, saving model to ./weights.hdf5\n",
      "Epoch 35/50\n",
      "454/454 [==============================] - 2s 4ms/step - loss: 10.2358 - acc: 0.3678 - val_loss: 11.6403 - val_acc: 0.2807\n",
      "\n",
      "Epoch 00035: val_loss improved from 11.64034 to 11.64028, saving model to ./weights.hdf5\n",
      "Epoch 36/50\n",
      "454/454 [==============================] - 2s 4ms/step - loss: 10.3099 - acc: 0.3612 - val_loss: 11.6402 - val_acc: 0.2807\n",
      "\n",
      "Epoch 00036: val_loss improved from 11.64028 to 11.64023, saving model to ./weights.hdf5\n",
      "Epoch 37/50\n"
     ]
    },
    {
     "name": "stdout",
     "output_type": "stream",
     "text": [
      "454/454 [==============================] - 2s 4ms/step - loss: 10.3553 - acc: 0.3568 - val_loss: 11.6402 - val_acc: 0.2807\n",
      "\n",
      "Epoch 00037: val_loss improved from 11.64023 to 11.64018, saving model to ./weights.hdf5\n",
      "Epoch 38/50\n",
      "454/454 [==============================] - 2s 4ms/step - loss: 10.3421 - acc: 0.3612 - val_loss: 11.6401 - val_acc: 0.2807\n",
      "\n",
      "Epoch 00038: val_loss improved from 11.64018 to 11.64013, saving model to ./weights.hdf5\n",
      "Epoch 39/50\n",
      "454/454 [==============================] - 2s 4ms/step - loss: 10.3122 - acc: 0.3612 - val_loss: 11.6401 - val_acc: 0.2807\n",
      "\n",
      "Epoch 00039: val_loss improved from 11.64013 to 11.64008, saving model to ./weights.hdf5\n",
      "Epoch 40/50\n",
      "454/454 [==============================] - 2s 4ms/step - loss: 10.2710 - acc: 0.3656 - val_loss: 11.6400 - val_acc: 0.2807\n",
      "\n",
      "Epoch 00040: val_loss improved from 11.64008 to 11.64003, saving model to ./weights.hdf5\n",
      "Epoch 41/50\n",
      "454/454 [==============================] - 2s 4ms/step - loss: 10.2460 - acc: 0.3656 - val_loss: 11.6400 - val_acc: 0.2807\n",
      "\n",
      "Epoch 00041: val_loss improved from 11.64003 to 11.63998, saving model to ./weights.hdf5\n",
      "Epoch 42/50\n",
      "454/454 [==============================] - 2s 4ms/step - loss: 10.1971 - acc: 0.3678 - val_loss: 11.6399 - val_acc: 0.2807\n",
      "\n",
      "Epoch 00042: val_loss improved from 11.63998 to 11.63994, saving model to ./weights.hdf5\n",
      "Epoch 43/50\n",
      "454/454 [==============================] - 2s 4ms/step - loss: 10.1679 - acc: 0.3700 - val_loss: 11.6399 - val_acc: 0.2807\n",
      "\n",
      "Epoch 00043: val_loss improved from 11.63994 to 11.63989, saving model to ./weights.hdf5\n",
      "Epoch 44/50\n",
      "454/454 [==============================] - 2s 4ms/step - loss: 10.8279 - acc: 0.3282 - val_loss: 11.6399 - val_acc: 0.2807\n",
      "\n",
      "Epoch 00044: val_loss improved from 11.63989 to 11.63985, saving model to ./weights.hdf5\n",
      "Epoch 45/50\n",
      "454/454 [==============================] - 2s 4ms/step - loss: 10.9695 - acc: 0.3216 - val_loss: 11.6512 - val_acc: 0.2719\n",
      "\n",
      "Epoch 00045: val_loss did not improve\n",
      "Epoch 46/50\n",
      "454/454 [==============================] - 2s 4ms/step - loss: 10.6108 - acc: 0.3304 - val_loss: 10.4832 - val_acc: 0.3158\n",
      "\n",
      "Epoch 00046: val_loss improved from 11.63985 to 10.48324, saving model to ./weights.hdf5\n",
      "Epoch 47/50\n",
      "454/454 [==============================] - 2s 4ms/step - loss: 11.4854 - acc: 0.2797 - val_loss: 10.7266 - val_acc: 0.3333\n",
      "\n",
      "Epoch 00047: val_loss did not improve\n",
      "Epoch 48/50\n",
      "454/454 [==============================] - 2s 4ms/step - loss: 12.2967 - acc: 0.2313 - val_loss: 11.2205 - val_acc: 0.3070\n",
      "\n",
      "Epoch 00048: val_loss did not improve\n",
      "Epoch 49/50\n",
      "454/454 [==============================] - 2s 4ms/step - loss: 11.8283 - acc: 0.2577 - val_loss: 9.4027 - val_acc: 0.3947\n",
      "\n",
      "Epoch 00049: val_loss improved from 10.48324 to 9.40274, saving model to ./weights.hdf5\n",
      "Epoch 50/50\n",
      "454/454 [==============================] - 2s 4ms/step - loss: 10.7333 - acc: 0.3260 - val_loss: 11.6398 - val_acc: 0.2807\n",
      "\n",
      "Epoch 00050: val_loss did not improve\n"
     ]
    }
   ],
   "source": [
    "checkpointer = ModelCheckpoint(filepath='./weights.hdf5', verbose=1, save_best_only=True)\n",
    "history = model.fit(X_train, ratings, batch_size=64, epochs=50, validation_split=0.2, callbacks=[checkpointer])"
   ]
  },
  {
   "cell_type": "code",
   "execution_count": 20,
   "metadata": {
    "collapsed": true
   },
   "outputs": [],
   "source": [
    "model.save('love_classifierv1.h5')"
   ]
  },
  {
   "cell_type": "code",
   "execution_count": null,
   "metadata": {
    "collapsed": true
   },
   "outputs": [],
   "source": []
  }
 ],
 "metadata": {
  "kernelspec": {
   "display_name": "tensorflow",
   "language": "python",
   "name": "tensorflow"
  },
  "language_info": {
   "codemirror_mode": {
    "name": "ipython",
    "version": 3
   },
   "file_extension": ".py",
   "mimetype": "text/x-python",
   "name": "python",
   "nbconvert_exporter": "python",
   "pygments_lexer": "ipython3",
   "version": "3.6.2"
  }
 },
 "nbformat": 4,
 "nbformat_minor": 2
}
