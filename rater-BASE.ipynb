{
 "cells": [
  {
   "cell_type": "code",
   "execution_count": 1,
   "metadata": {},
   "outputs": [
    {
     "name": "stderr",
     "output_type": "stream",
     "text": [
      "/home/gloria/anaconda3/lib/python3.6/site-packages/h5py/__init__.py:36: FutureWarning: Conversion of the second argument of issubdtype from `float` to `np.floating` is deprecated. In future, it will be treated as `np.float64 == np.dtype(float).type`.\n",
      "  from ._conv import register_converters as _register_converters\n",
      "Using TensorFlow backend.\n",
      "/home/gloria/tensorflow/lib/python3.6/importlib/_bootstrap.py:205: RuntimeWarning: compiletime version 3.5 of module 'tensorflow.python.framework.fast_tensor_util' does not match runtime version 3.6\n",
      "  return f(*args, **kwds)\n"
     ]
    }
   ],
   "source": [
    "from keras.engine import Model\n",
    "from keras.layers import Flatten, Dense, Input, Dropout\n",
    "from keras_vggface.vggface import VGGFace\n",
    "from keras.preprocessing.image import ImageDataGenerator\n",
    "from keras_vggface import utils\n",
    "from keras.optimizers import Adam\n",
    "from keras.preprocessing import image\n",
    "from keras import backend as K\n",
    "from keras.callbacks import ModelCheckpoint, EarlyStopping\n",
    "from keras.utils import to_categorical\n",
    "from sklearn.utils import class_weight\n",
    "import keras\n",
    "import numpy as np\n",
    "import os\n",
    "import shutil\n",
    "import matplotlib.pyplot as plt\n",
    "import matplotlib.image as mpimg\n",
    "from sklearn.model_selection import train_test_split\n",
    "from sklearn.metrics import confusion_matrix\n",
    "%matplotlib inline"
   ]
  },
  {
   "cell_type": "code",
   "execution_count": 2,
   "metadata": {
    "collapsed": true
   },
   "outputs": [],
   "source": [
    "# Constants\n",
    "IMG_SIZE = 224\n",
    "\n",
    "IMG_DIR = '../project/all_females_combined_train_s'\n",
    "RATING_PATH = '../project/all_females_combined_train_s/train_ratings.txt'\n",
    "\n",
    "VAL_IMG_DIR = '../project/all_females_combined_val_s'\n",
    "VAL_RATING_PATH = '../project/all_females_combined_val_s/val_ratings.txt'\n",
    "\n",
    "VERSION = 'v6-val-correct-pixel-means-4layers'"
   ]
  },
  {
   "cell_type": "code",
   "execution_count": 3,
   "metadata": {
    "collapsed": true
   },
   "outputs": [],
   "source": [
    "def getMean(train_data):\n",
    "    #calculate mean values for pixels (RGB)\n",
    "\n",
    "    data = np.zeros((train_data.shape[0], IMG_SIZE, IMG_SIZE, 3)) \n",
    "    for i in range(train_data.shape[0]):\n",
    "        _img = image.load_img(os.path.join(IMG_DIR, train_data[i]), target_size=(IMG_SIZE,IMG_SIZE))\n",
    "        data[i,:,:,:] = image.img_to_array(_img)\n",
    "    mean = np.mean(data, axis=(0, 1, 2))\n",
    "    print(\"Pixel means: \",mean)\n",
    "\n",
    "    return mean"
   ]
  },
  {
   "cell_type": "code",
   "execution_count": 4,
   "metadata": {
    "collapsed": true
   },
   "outputs": [],
   "source": [
    "def preprocess(x,mean):\n",
    "    x[:,:,0] -= mean[0]\n",
    "    x[:,:,1] -= mean[1]\n",
    "    x[:,:,2] -= mean[2]"
   ]
  },
  {
   "cell_type": "code",
   "execution_count": 5,
   "metadata": {
    "collapsed": true
   },
   "outputs": [],
   "source": [
    "def prepareDataRegression(percentage):\n",
    "    # Read in ratings\n",
    "    ratings = np.genfromtxt(RATING_PATH)\n",
    "        \n",
    "    ### Move all images according to ratings\n",
    "    images = sorted(os.listdir(IMG_DIR))\n",
    "    #remove train_ratings.txt from images\n",
    "    images.remove('train_ratings.txt')\n",
    "    #convert to np.array for indexing\n",
    "    images = np.array(images)\n",
    "\n",
    "    ### Make sure lengths of ratings and images correspond \n",
    "    assert len(ratings) == len(images)\n",
    "\n",
    "    perm_ratings = np.random.permutation(len(ratings))\n",
    "    test_len = int(len(ratings) * percentage/100)\n",
    "    train_len = len(ratings) - test_len\n",
    "\n",
    "    test_ind = perm_ratings[:test_len]\n",
    "    train_ind = perm_ratings[test_len:]\n",
    "    \n",
    "\n",
    "    #get test & train data\n",
    "    data_test = np.zeros((len(test_ind), IMG_SIZE, IMG_SIZE, 3))    \n",
    "    data_train = np.zeros((len(train_ind), IMG_SIZE, IMG_SIZE, 3)) \n",
    "    last_set_train = 0\n",
    "    last_set_test = 0\n",
    "\n",
    "    mean = getMean(images[train_ind])\n",
    "    \n",
    "    for idx, _im in enumerate(images): #iterate over images\n",
    "        if idx in test_ind:\n",
    "            _img = image.load_img(os.path.join(IMG_DIR, _im), target_size=(IMG_SIZE,IMG_SIZE))\n",
    "            _x = image.img_to_array(_img)\n",
    "            _x = np.expand_dims(_x, axis=0)\n",
    "            data_test[last_set_test, :, :, :] = utils.preprocess_input(_x, version=1)#preprocess(_x,mean)# / .255\n",
    "            last_set_test += 1\n",
    "        if idx in train_ind:\n",
    "            _img = image.load_img(os.path.join(IMG_DIR, _im), target_size=(IMG_SIZE,IMG_SIZE))\n",
    "            _x = image.img_to_array(_img)\n",
    "            _x = np.expand_dims(_x, axis=0)\n",
    "            data_train[last_set_train, :, :, :] = utils.preprocess_input(_x, version=1)#preprocess(_x,mean)# / .255\n",
    "            last_set_train += 1\n",
    "    \n",
    "    return data_train, ratings[train_ind], data_test, ratings[test_ind], ratings, mean"
   ]
  },
  {
   "cell_type": "code",
   "execution_count": 6,
   "metadata": {
    "collapsed": true
   },
   "outputs": [],
   "source": [
    "def prepareDataClassification(percentage):\n",
    "    # Read in ratings\n",
    "    ratings = np.genfromtxt(RATING_PATH)\n",
    "    \n",
    "    # Round (obviously imbalanced sets)\n",
    "    ratings_rounded = np.round(ratings, 0).astype(np.int8)\n",
    "    ratings = to_categorical(ratings_rounded, num_classes=len(np.unique(ratings)))\n",
    "    \n",
    "                \n",
    "    ### Move all images according to ratings\n",
    "    images = sorted(os.listdir(IMG_DIR))\n",
    "    #remove train_ratings.txt from images\n",
    "    images.remove('train_ratings.txt')\n",
    "    #convert to np.array for indexing\n",
    "    images = np.array(images)\n",
    "\n",
    "    ### Make sure lengths of ratings and images correspond \n",
    "    assert len(ratings) == len(images)\n",
    "\n",
    "    perm_ratings = np.random.permutation(len(ratings))\n",
    "    test_len = int(len(ratings) * percentage/100)\n",
    "    train_len = len(ratings) - test_len\n",
    "\n",
    "    test_ind = perm_ratings[:test_len]\n",
    "    train_ind = perm_ratings[test_len:]\n",
    "    \n",
    "    #get test & train data\n",
    "    data_test = np.zeros((len(test_ind), IMG_SIZE, IMG_SIZE, 3))    \n",
    "    data_train = np.zeros((len(train_ind), IMG_SIZE, IMG_SIZE, 3)) \n",
    "    last_set_train = 0\n",
    "    last_set_test = 0\n",
    "\n",
    "    mean = getMean(images[train_ind])\n",
    "    \n",
    "    for idx, _im in enumerate(images): #iterate over images\n",
    "        if idx in test_ind:\n",
    "            _img = image.load_img(os.path.join(IMG_DIR, _im), target_size=(IMG_SIZE,IMG_SIZE))\n",
    "            _x = image.img_to_array(_img)\n",
    "            _x = np.expand_dims(_x, axis=0)\n",
    "            data_test[last_set_test, :, :, :] = utils.preprocess_input(_x, version=1)#preprocess(_x,mean)# / .255\n",
    "            last_set_test += 1\n",
    "        if idx in train_ind:\n",
    "            _img = image.load_img(os.path.join(IMG_DIR, _im), target_size=(IMG_SIZE,IMG_SIZE))\n",
    "            _x = image.img_to_array(_img)\n",
    "            _x = np.expand_dims(_x, axis=0)\n",
    "            data_train[last_set_train, :, :, :] = utils.preprocess_input(_x, version=1)#preprocess(_x,mean)# / .255\n",
    "            last_set_train += 1\n",
    "    \n",
    "    return data_train, ratings[train_ind], data_test, ratings[test_ind], ratings_rounded, mean\n",
    "    #return ratings[train_ind], train_ind, ratings[test_ind], test_ind, ratings, images"
   ]
  },
  {
   "cell_type": "code",
   "execution_count": 7,
   "metadata": {
    "collapsed": true
   },
   "outputs": [],
   "source": [
    "def prepareDataOrdinalRegression(percentage):\n",
    "    # Load ratings\n",
    "    ratings = np.genfromtxt(RATING_PATH)\n",
    "    \n",
    "    # Convert ratings to the desired format\n",
    "    # 1. First round them\n",
    "    ratings_rounded = np.round(ratings, 1).astype(np.int8)\n",
    "\n",
    "    # 2. Then encode as suggested by Cheng (2007)\n",
    "    ratings_prepared = np.zeros((len(ratings_rounded), len(np.unique(ratings_rounded))))\n",
    "    for i, r in enumerate(ratings_rounded):\n",
    "        for j in range(r):\n",
    "            ratings_prepared[i, j] = 1\n",
    "        \n",
    "    # 3. Finally, make sure assignment is correct\n",
    "    assert np.all(np.sum(ratings_prepared, axis=1).astype(np.int8) == ratings_rounded)\n",
    "    \n",
    "    ### Move all images according to ratings\n",
    "    images = sorted(os.listdir(IMG_DIR))\n",
    "    #remove train_ratings.txt from images\n",
    "    images.remove('train_ratings.txt')\n",
    "    #convert to np.array for indexing\n",
    "    images = np.array(images)\n",
    "\n",
    "    ### Make sure lengths of ratings and images correspond \n",
    "    print(len(ratings))\n",
    "    print(len(images))\n",
    "    assert len(ratings) == len(images)\n",
    "    \n",
    "    perm_ratings = np.random.permutation(len(ratings))\n",
    "    test_len = int(len(ratings) * percentage/100)\n",
    "    train_len = len(ratings) - test_len\n",
    "\n",
    "    test_ind = perm_ratings[:test_len]\n",
    "    train_ind = perm_ratings[test_len:]\n",
    "    \n",
    "    #get test & train data\n",
    "    data_test = np.zeros((len(test_ind), IMG_SIZE, IMG_SIZE, 3))    \n",
    "    data_train = np.zeros((len(train_ind), IMG_SIZE, IMG_SIZE, 3)) \n",
    "    last_set_train = 0\n",
    "    last_set_test = 0\n",
    "\n",
    "    mean = getMean(images[train_ind])\n",
    "    \n",
    "    for idx, _im in enumerate(images): #iterate over images\n",
    "        if idx in test_ind:\n",
    "            _img = image.load_img(os.path.join(IMG_DIR, _im), target_size=(IMG_SIZE,IMG_SIZE))\n",
    "            _x = image.img_to_array(_img)\n",
    "            _x = np.expand_dims(_x, axis=0)\n",
    "            data_test[last_set_test, :, :, :] = preprocess(_x,mean)#utils.preprocess_input(_x, version=1)# / .255\n",
    "            last_set_test += 1\n",
    "        if idx in train_ind:\n",
    "            _img = image.load_img(os.path.join(IMG_DIR, _im), target_size=(IMG_SIZE,IMG_SIZE))\n",
    "            _x = image.img_to_array(_img)\n",
    "            _x = np.expand_dims(_x, axis=0)\n",
    "            data_train[last_set_train, :, :, :] = preprocess(_x,mean)#utils.preprocess_input(_x, version=1)# / .255\n",
    "            last_set_train += 1\n",
    "    \n",
    "    \n",
    "    return data_train, ratings_prepared[train_ind], data_test, ratings_prepared[test_ind], ratings_rounded, mean"
   ]
  },
  {
   "cell_type": "code",
   "execution_count": 8,
   "metadata": {
    "collapsed": true
   },
   "outputs": [],
   "source": [
    "def getGenerator(data_train, data_test):\n",
    "    train_datagen = ImageDataGenerator(rescale=1./255, \n",
    "                                rotation_range=40,\n",
    "                                width_shift_range=0.2,\n",
    "                                height_shift_range=0.2,\n",
    "                                shear_range=0.2,\n",
    "                                zoom_range=0.2,\n",
    "                                horizontal_flip=True,\n",
    "                                fill_mode='nearest'\n",
    "                                      )#preprocessing_function=utils.preprocess_input)\n",
    "\n",
    "    train_datagen.fit(data_train)\n",
    "    \n",
    "    \n",
    "    test_datagen = ImageDataGenerator(rescale=1./255)\n",
    "    test_datagen.fit(data_test)\n",
    "\n",
    "    return train_datagen, test_datagen"
   ]
  },
  {
   "cell_type": "code",
   "execution_count": 9,
   "metadata": {
    "collapsed": true
   },
   "outputs": [],
   "source": [
    "def visualize_loss(history):\n",
    "    loss = history.history['loss']\n",
    "    val_loss = history.history['val_loss']\n",
    "    epochs = range(1, len(loss) + 1)\n",
    "    plt.figure(figsize=(15,8))\n",
    "    plt.plot(epochs, loss, 'bo-', label=\"Training loss\")\n",
    "    plt.plot(epochs, val_loss, 'b', label=\"Validation loss\")\n",
    "    plt.xlabel('Epochs')\n",
    "    plt.ylabel('Loss')\n",
    "    plt.legend()\n",
    "    plt.show()"
   ]
  },
  {
   "cell_type": "code",
   "execution_count": 10,
   "metadata": {
    "collapsed": true
   },
   "outputs": [],
   "source": [
    "def visualize_acc(history):\n",
    "    loss = history.history['acc']\n",
    "    val_loss = history.history['val_acc']\n",
    "    epochs = range(1, len(loss) + 1)\n",
    "    plt.figure(figsize=(15,8))\n",
    "    plt.plot(epochs, loss, 'ro-', label=\"Training acc\")\n",
    "    plt.plot(epochs, val_loss, 'r', label=\"Validation acc\")\n",
    "    plt.xlabel('Epochs')\n",
    "    plt.ylabel('Acc')\n",
    "    plt.legend()\n",
    "    plt.show()"
   ]
  },
  {
   "cell_type": "code",
   "execution_count": 11,
   "metadata": {
    "collapsed": true
   },
   "outputs": [],
   "source": [
    "def recommend(images, pred_classes):\n",
    "    recs = np.where(pred_classes >= 4)\n",
    "    \n",
    "    for i in recs[0]:\n",
    "        img = mpimg.imread(os.path.join(IMG_DIR, images[i]))\n",
    "        imgplot = plt.imshow(img)\n",
    "        plt.show()\n",
    "        plt.clf()\n",
    "\n",
    "def recommendVal(images, pred_classes):\n",
    "    recs = np.where(pred_classes >= 4)\n",
    "    \n",
    "    for i in recs[0]:\n",
    "        img = mpimg.imread(os.path.join(VAL_IMG_DIR, images[i]))\n",
    "        imgplot = plt.imshow(img)\n",
    "        plt.show()\n",
    "        plt.clf()"
   ]
  },
  {
   "cell_type": "markdown",
   "metadata": {},
   "source": [
    "### Get data"
   ]
  },
  {
   "cell_type": "code",
   "execution_count": 12,
   "metadata": {},
   "outputs": [
    {
     "name": "stdout",
     "output_type": "stream",
     "text": [
      "Pixel means:  [161.01199185 133.95520827 120.2681385 ]\n",
      "x_train:  (647, 224, 224, 3)\n",
      "y_train:  (647,)\n",
      "x_test:  (34, 224, 224, 3)\n",
      "y_test:  (34,)\n",
      "ratings (681,)\n"
     ]
    }
   ],
   "source": [
    "x_train, y_train, x_test, y_test, ratings, mean = prepareDataRegression(5)\n",
    "train_generator, test_generator = getGenerator(x_train,x_test)\n",
    "\n",
    "train_inst = x_train.shape[0]\n",
    "print(\"x_train: \",x_train.shape)\n",
    "print(\"y_train: \",y_train.shape)\n",
    "print(\"x_test: \",x_test.shape)\n",
    "print(\"y_test: \",y_test.shape)\n",
    "print(\"ratings\",ratings.shape)\n"
   ]
  },
  {
   "cell_type": "markdown",
   "metadata": {},
   "source": [
    "### Build keras model"
   ]
  },
  {
   "cell_type": "code",
   "execution_count": 13,
   "metadata": {},
   "outputs": [
    {
     "name": "stdout",
     "output_type": "stream",
     "text": [
      "[0.98695652 0.62021858 0.79370629 1.07075472 1.01339286 5.15909091]\n"
     ]
    }
   ],
   "source": [
    "# Add custom layers\n",
    "vgg_base = VGGFace(include_top=False, input_shape=(IMG_SIZE, IMG_SIZE, 3), pooling='max')\n",
    "last_layer = vgg_base.get_layer('global_max_pooling2d_1').output\n",
    "X = Dense(256, activation='relu', name='fc6')(last_layer)\n",
    "X = Dropout(0.2)(X)\n",
    "X = Dense(128, activation='relu', name='fc7')(X)\n",
    "X = Dropout(0.2)(X)\n",
    "X = Dense(64, activation='relu', name='fc8')(X)\n",
    "X = Dropout(0.2)(X)\n",
    "X = Dense(32, activation='relu', name='fc9')(X)\n",
    "X = Dropout(0.2)(X)\n",
    "#output = Dense(len(np.unique(ratings)), activation='softmax')(X)\n",
    "output = Dense(1, activation='linear')(X)\n",
    "model = Model(inputs=vgg_base.input, outputs=output)\n",
    "\n",
    "# Freeze vgg layers\n",
    "for layer in vgg_base.layers:\n",
    "    layer.trainable = False\n",
    "\n",
    "# Compute class weights since we have unbalaned classes\n",
    "class_weight = class_weight.compute_class_weight('balanced', \n",
    "                                                 np.unique(ratings), \n",
    "                                                 ratings)\n",
    "\n",
    "print(class_weight)\n",
    "\n",
    "model.compile(optimizer=Adam(lr= 0.0005,clipnorm=1.0),\n",
    "              #loss='categorical_crossentropy', \n",
    "              #metrics=['accuracy'])\n",
    "              loss='mean_absolute_error', metrics=['mae'])\n",
    "\n",
    "checkpointer = ModelCheckpoint(filepath='./weights-' + VERSION + '.hdf5', verbose=1, save_best_only=True)\n",
    "earlystop = EarlyStopping(monitor='val_loss', patience=10, verbose=0)"
   ]
  },
  {
   "cell_type": "code",
   "execution_count": 14,
   "metadata": {},
   "outputs": [
    {
     "name": "stdout",
     "output_type": "stream",
     "text": [
      "Epoch 1/1\n",
      "20/20 [==============================] - 13s 644ms/step - loss: 1.3514 - mean_absolute_error: 1.3514 - val_loss: 1.3699 - val_mean_absolute_error: 1.3699\n",
      "\n",
      "Epoch 00001: val_loss improved from inf to 1.36986, saving model to ./weights-v6-val-correct-pixel-means-4layers.hdf5\n"
     ]
    }
   ],
   "source": [
    "history = model.fit_generator(\n",
    "    train_generator.flow(x_train, y_train, batch_size=32),\n",
    "    steps_per_epoch=train_inst//32,\n",
    "    epochs=1,\n",
    "    class_weight=class_weight,\n",
    "    validation_data=test_generator.flow(x_test, y_test, batch_size=32),\n",
    "    callbacks=[earlystop, checkpointer]\n",
    ")"
   ]
  },
  {
   "cell_type": "code",
   "execution_count": 15,
   "metadata": {},
   "outputs": [
    {
     "data": {
      "image/png": "[encoded data removed]",
      "text/plain": [
       "<matplotlib.figure.Figure at 0x7f3be66099e8>"
      ]
     },
     "metadata": {},
     "output_type": "display_data"
    }
   ],
   "source": [
    "visualize_loss(history)"
   ]
  },
  {
   "cell_type": "code",
   "execution_count": 16,
   "metadata": {},
   "outputs": [
    {
     "ename": "KeyError",
     "evalue": "'acc'",
     "output_type": "error",
     "traceback": [
      "\u001b[0;31m---------------------------------------------------------------------------\u001b[0m",
      "\u001b[0;31mKeyError\u001b[0m                                  Traceback (most recent call last)",
      "\u001b[0;32m<ipython-input-16-fc70dbdd9bbc>\u001b[0m in \u001b[0;36m<module>\u001b[0;34m()\u001b[0m\n\u001b[0;32m----> 1\u001b[0;31m \u001b[0mvisualize_acc\u001b[0m\u001b[0;34m(\u001b[0m\u001b[0mhistory\u001b[0m\u001b[0;34m)\u001b[0m\u001b[0;34m\u001b[0m\u001b[0m\n\u001b[0m",
      "\u001b[0;32m<ipython-input-10-c1a4559620c4>\u001b[0m in \u001b[0;36mvisualize_acc\u001b[0;34m(history)\u001b[0m\n\u001b[1;32m      1\u001b[0m \u001b[0;32mdef\u001b[0m \u001b[0mvisualize_acc\u001b[0m\u001b[0;34m(\u001b[0m\u001b[0mhistory\u001b[0m\u001b[0;34m)\u001b[0m\u001b[0;34m:\u001b[0m\u001b[0;34m\u001b[0m\u001b[0m\n\u001b[0;32m----> 2\u001b[0;31m     \u001b[0mloss\u001b[0m \u001b[0;34m=\u001b[0m \u001b[0mhistory\u001b[0m\u001b[0;34m.\u001b[0m\u001b[0mhistory\u001b[0m\u001b[0;34m[\u001b[0m\u001b[0;34m'acc'\u001b[0m\u001b[0;34m]\u001b[0m\u001b[0;34m\u001b[0m\u001b[0m\n\u001b[0m\u001b[1;32m      3\u001b[0m     \u001b[0mval_loss\u001b[0m \u001b[0;34m=\u001b[0m \u001b[0mhistory\u001b[0m\u001b[0;34m.\u001b[0m\u001b[0mhistory\u001b[0m\u001b[0;34m[\u001b[0m\u001b[0;34m'val_acc'\u001b[0m\u001b[0;34m]\u001b[0m\u001b[0;34m\u001b[0m\u001b[0m\n\u001b[1;32m      4\u001b[0m     \u001b[0mepochs\u001b[0m \u001b[0;34m=\u001b[0m \u001b[0mrange\u001b[0m\u001b[0;34m(\u001b[0m\u001b[0;36m1\u001b[0m\u001b[0;34m,\u001b[0m \u001b[0mlen\u001b[0m\u001b[0;34m(\u001b[0m\u001b[0mloss\u001b[0m\u001b[0;34m)\u001b[0m \u001b[0;34m+\u001b[0m \u001b[0;36m1\u001b[0m\u001b[0;34m)\u001b[0m\u001b[0;34m\u001b[0m\u001b[0m\n\u001b[1;32m      5\u001b[0m     \u001b[0mplt\u001b[0m\u001b[0;34m.\u001b[0m\u001b[0mfigure\u001b[0m\u001b[0;34m(\u001b[0m\u001b[0mfigsize\u001b[0m\u001b[0;34m=\u001b[0m\u001b[0;34m(\u001b[0m\u001b[0;36m15\u001b[0m\u001b[0;34m,\u001b[0m\u001b[0;36m8\u001b[0m\u001b[0;34m)\u001b[0m\u001b[0;34m)\u001b[0m\u001b[0;34m\u001b[0m\u001b[0m\n",
      "\u001b[0;31mKeyError\u001b[0m: 'acc'"
     ]
    }
   ],
   "source": [
    "visualize_acc(history)"
   ]
  },
  {
   "cell_type": "code",
   "execution_count": null,
   "metadata": {
    "collapsed": true
   },
   "outputs": [],
   "source": [
    "model.save('./models/love_classifier' + VERSION + '.h5')"
   ]
  },
  {
   "cell_type": "markdown",
   "metadata": {},
   "source": [
    "### Predictions: Test set"
   ]
  },
  {
   "cell_type": "code",
   "execution_count": 18,
   "metadata": {},
   "outputs": [
    {
     "name": "stdout",
     "output_type": "stream",
     "text": [
      "(34, 1)\n",
      "(34,)\n",
      "[3. 4. 4. 4. 4. 3. 1. 2. 4. 4. 1. 1. 1. 2. 1. 2. 3. 1. 5. 1. 2. 4. 3. 1.\n",
      " 3. 4. 2. 1. 0. 4. 3. 3. 1. 1.]\n",
      "[[470.5551 ]\n",
      " [382.8372 ]\n",
      " [370.26114]\n",
      " [372.30374]\n",
      " [443.96506]\n",
      " [384.01523]\n",
      " [402.531  ]\n",
      " [364.73218]\n",
      " [438.66602]\n",
      " [474.61713]\n",
      " [479.468  ]\n",
      " [475.5099 ]\n",
      " [390.9062 ]\n",
      " [457.78955]\n",
      " [358.47037]\n",
      " [429.83722]\n",
      " [292.68274]\n",
      " [355.2534 ]\n",
      " [351.4594 ]\n",
      " [430.21622]\n",
      " [404.4563 ]\n",
      " [420.79028]\n",
      " [335.73688]\n",
      " [477.73035]\n",
      " [414.24075]\n",
      " [404.08685]\n",
      " [368.5641 ]\n",
      " [443.0675 ]\n",
      " [527.47156]\n",
      " [476.60458]\n",
      " [444.38785]\n",
      " [382.75763]\n",
      " [487.42834]\n",
      " [546.2665 ]]\n"
     ]
    },
    {
     "ename": "ValueError",
     "evalue": "Classification metrics can't handle a mix of multiclass and continuous targets",
     "output_type": "error",
     "traceback": [
      "\u001b[0;31m---------------------------------------------------------------------------\u001b[0m",
      "\u001b[0;31mValueError\u001b[0m                                Traceback (most recent call last)",
      "\u001b[0;32m<ipython-input-18-8fea1337e44e>\u001b[0m in \u001b[0;36m<module>\u001b[0;34m()\u001b[0m\n\u001b[1;32m     12\u001b[0m \u001b[0mprint\u001b[0m\u001b[0;34m(\u001b[0m\u001b[0mpred_classes\u001b[0m\u001b[0;34m)\u001b[0m\u001b[0;34m\u001b[0m\u001b[0m\n\u001b[1;32m     13\u001b[0m \u001b[0;34m\u001b[0m\u001b[0m\n\u001b[0;32m---> 14\u001b[0;31m \u001b[0mconfusion_matrix\u001b[0m\u001b[0;34m(\u001b[0m\u001b[0my_true\u001b[0m\u001b[0;34m,\u001b[0m\u001b[0mpred_classes\u001b[0m\u001b[0;34m)\u001b[0m\u001b[0;34m\u001b[0m\u001b[0m\n\u001b[0m",
      "\u001b[0;32m~/anaconda3/lib/python3.6/site-packages/sklearn/metrics/classification.py\u001b[0m in \u001b[0;36mconfusion_matrix\u001b[0;34m(y_true, y_pred, labels, sample_weight)\u001b[0m\n\u001b[1;32m    248\u001b[0m \u001b[0;34m\u001b[0m\u001b[0m\n\u001b[1;32m    249\u001b[0m     \"\"\"\n\u001b[0;32m--> 250\u001b[0;31m     \u001b[0my_type\u001b[0m\u001b[0;34m,\u001b[0m \u001b[0my_true\u001b[0m\u001b[0;34m,\u001b[0m \u001b[0my_pred\u001b[0m \u001b[0;34m=\u001b[0m \u001b[0m_check_targets\u001b[0m\u001b[0;34m(\u001b[0m\u001b[0my_true\u001b[0m\u001b[0;34m,\u001b[0m \u001b[0my_pred\u001b[0m\u001b[0;34m)\u001b[0m\u001b[0;34m\u001b[0m\u001b[0m\n\u001b[0m\u001b[1;32m    251\u001b[0m     \u001b[0;32mif\u001b[0m \u001b[0my_type\u001b[0m \u001b[0;32mnot\u001b[0m \u001b[0;32min\u001b[0m \u001b[0;34m(\u001b[0m\u001b[0;34m\"binary\"\u001b[0m\u001b[0;34m,\u001b[0m \u001b[0;34m\"multiclass\"\u001b[0m\u001b[0;34m)\u001b[0m\u001b[0;34m:\u001b[0m\u001b[0;34m\u001b[0m\u001b[0m\n\u001b[1;32m    252\u001b[0m         \u001b[0;32mraise\u001b[0m \u001b[0mValueError\u001b[0m\u001b[0;34m(\u001b[0m\u001b[0;34m\"%s is not supported\"\u001b[0m \u001b[0;34m%\u001b[0m \u001b[0my_type\u001b[0m\u001b[0;34m)\u001b[0m\u001b[0;34m\u001b[0m\u001b[0m\n",
      "\u001b[0;32m~/anaconda3/lib/python3.6/site-packages/sklearn/metrics/classification.py\u001b[0m in \u001b[0;36m_check_targets\u001b[0;34m(y_true, y_pred)\u001b[0m\n\u001b[1;32m     79\u001b[0m     \u001b[0;32mif\u001b[0m \u001b[0mlen\u001b[0m\u001b[0;34m(\u001b[0m\u001b[0my_type\u001b[0m\u001b[0;34m)\u001b[0m \u001b[0;34m>\u001b[0m \u001b[0;36m1\u001b[0m\u001b[0;34m:\u001b[0m\u001b[0;34m\u001b[0m\u001b[0m\n\u001b[1;32m     80\u001b[0m         raise ValueError(\"Classification metrics can't handle a mix of {0} \"\n\u001b[0;32m---> 81\u001b[0;31m                          \"and {1} targets\".format(type_true, type_pred))\n\u001b[0m\u001b[1;32m     82\u001b[0m \u001b[0;34m\u001b[0m\u001b[0m\n\u001b[1;32m     83\u001b[0m     \u001b[0;31m# We can't have more than one value on y_type => The set is no more needed\u001b[0m\u001b[0;34m\u001b[0m\u001b[0;34m\u001b[0m\u001b[0m\n",
      "\u001b[0;31mValueError\u001b[0m: Classification metrics can't handle a mix of multiclass and continuous targets"
     ]
    }
   ],
   "source": [
    "predictions = model.predict(x_test)\n",
    "print(predictions.shape)\n",
    "pred_classes = predictions.argmax(axis=-1)\n",
    "pred_classes = np.round(pred_classes, 1).astype(np.int8)\n",
    "print(pred_classes.shape)\n",
    "\n",
    "pred_classes = predictions\n",
    "y_true = y_test\n",
    "\n",
    "#y_true = np.array(y_test).argmax(axis=-1).astype(np.int8)\n",
    "print(y_true)\n",
    "print(pred_classes)\n",
    "\n",
    "#confusion_matrix(y_true,pred_classes)"
   ]
  },
  {
   "cell_type": "code",
   "execution_count": 22,
   "metadata": {
    "collapsed": true
   },
   "outputs": [],
   "source": [
    "recommend(x_test,pred_classes)"
   ]
  },
  {
   "cell_type": "markdown",
   "metadata": {
    "collapsed": true
   },
   "source": [
    "### Prediction: Validation set"
   ]
  },
  {
   "cell_type": "code",
   "execution_count": 20,
   "metadata": {
    "collapsed": true
   },
   "outputs": [],
   "source": [
    "def prepareValData(mean):\n",
    "    # Load ratings\n",
    "    ratings = np.genfromtxt(VAL_RATING_PATH)\n",
    "    \n",
    "    # Convert ratings to the desired format\n",
    "    # 1. First round them\n",
    "    ratings_rounded = np.round(ratings, 1).astype(np.int8)\n",
    "\n",
    "    # 2. Then encode as suggested by Cheng (2007)\n",
    "    ratings_prepared = np.zeros((len(ratings_rounded), len(np.unique(ratings_rounded))))\n",
    "    for i, r in enumerate(ratings_rounded):\n",
    "        for j in range(r):\n",
    "            ratings_prepared[i, j] = 1\n",
    "        \n",
    "    # 3. Finally, make sure assignment is correct\n",
    "    assert np.all(np.sum(ratings_prepared, axis=1).astype(np.int8) == ratings_rounded)\n",
    "    \n",
    "    ### Move all images according to ratings\n",
    "    images = sorted(os.listdir(VAL_IMG_DIR))\n",
    "    #remove val_ratings.txt from images\n",
    "    images.remove('val_ratings.txt')\n",
    "\n",
    "    ### Make sure lengths of ratings and images correspond \n",
    "    assert len(ratings) == len(images)\n",
    "    \n",
    "    data = np.zeros((len(images), IMG_SIZE, IMG_SIZE, 3)) \n",
    "    last_set = 0\n",
    "    \n",
    "    for idx, _im in enumerate(images): #iterate over images\n",
    "        _img = image.load_img(os.path.join(VAL_IMG_DIR, _im), target_size=(IMG_SIZE,IMG_SIZE))\n",
    "        _x = image.img_to_array(_img)\n",
    "        _x = np.expand_dims(_x, axis=0)\n",
    "        data[last_set, :, :, :] = preprocess(_x,mean)#utils.preprocess_input(_x, version=1) / .255\n",
    "        last_set += 1\n",
    "    \n",
    "    return data, ratings"
   ]
  },
  {
   "cell_type": "code",
   "execution_count": 23,
   "metadata": {},
   "outputs": [
    {
     "name": "stdout",
     "output_type": "stream",
     "text": [
      "[0. 0. 0. 0. 0. 0. 0. 1. 1. 1. 1. 1. 1. 1. 2. 2. 2. 2. 2. 2. 2. 3. 3. 3.\n",
      " 3. 3. 3. 3. 4. 4. 4. 4. 4. 4. 4. 5. 5.]\n",
      "[[0.07140048]\n",
      " [0.07140048]\n",
      " [0.07140048]\n",
      " [0.07140048]\n",
      " [0.07140048]\n",
      " [0.07140048]\n",
      " [0.07140048]\n",
      " [0.07140048]\n",
      " [0.07140048]\n",
      " [0.07140048]\n",
      " [0.07140048]\n",
      " [0.07140048]\n",
      " [0.07140048]\n",
      " [0.07140048]\n",
      " [0.07140048]\n",
      " [0.07140048]\n",
      " [0.07140048]\n",
      " [0.07140048]\n",
      " [0.07140048]\n",
      " [0.07140048]\n",
      " [0.07140048]\n",
      " [0.07140048]\n",
      " [0.07140048]\n",
      " [0.07140048]\n",
      " [0.07140048]\n",
      " [0.07140048]\n",
      " [0.07140048]\n",
      " [0.07140048]\n",
      " [0.07140048]\n",
      " [0.07140048]\n",
      " [0.07140048]\n",
      " [0.07140048]\n",
      " [0.07140047]\n",
      " [0.07140047]\n",
      " [0.07140047]\n",
      " [0.07140047]\n",
      " [0.07140047]]\n"
     ]
    }
   ],
   "source": [
    "x_val, ratings_val = prepareValData(mean)\n",
    "\n",
    "predictions = model.predict(x_val)\n",
    "pred_classes = predictions.argmax(axis=-1)\n",
    "pred_classes = np.round(pred_classes, 1).astype(np.int8)\n",
    "\n",
    "pred_classes = predictions\n",
    "y_true = ratings_val\n",
    "\n",
    "#y_true = np.array(ratings_val).astype(np.int8)\n",
    "print(y_true)\n",
    "print(pred_classes)\n",
    "\n",
    "#confusion_matrix(y_true,pred_classes)"
   ]
  },
  {
   "cell_type": "code",
   "execution_count": null,
   "metadata": {
    "collapsed": true
   },
   "outputs": [],
   "source": [
    "recommend(x_test,pred_classes)"
   ]
  },
  {
   "cell_type": "code",
   "execution_count": null,
   "metadata": {
    "collapsed": true
   },
   "outputs": [],
   "source": []
  }
 ],
 "metadata": {
  "kernelspec": {
   "display_name": "tensorflow",
   "language": "python",
   "name": "tensorflow"
  },
  "language_info": {
   "codemirror_mode": {
    "name": "ipython",
    "version": 3
   },
   "file_extension": ".py",
   "mimetype": "text/x-python",
   "name": "python",
   "nbconvert_exporter": "python",
   "pygments_lexer": "ipython3",
   "version": "3.6.2"
  }
 },
 "nbformat": 4,
 "nbformat_minor": 2
}
