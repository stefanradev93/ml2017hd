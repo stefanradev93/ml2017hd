{
 "cells": [
  {
   "cell_type": "markdown",
   "metadata": {},
   "source": [
    "### Like v3.2 BUT 1 layer deeper"
   ]
  },
  {
   "cell_type": "code",
   "execution_count": 27,
   "metadata": {
    "collapsed": true
   },
   "outputs": [],
   "source": [
    "from keras.engine import Model\n",
    "from keras.layers import Flatten, Dense, Input, Dropout\n",
    "from keras_vggface.vggface import VGGFace\n",
    "from keras.preprocessing.image import ImageDataGenerator\n",
    "from keras_vggface import utils\n",
    "from keras.optimizers import Adam\n",
    "from keras.preprocessing import image\n",
    "from keras import backend as K\n",
    "from keras.callbacks import ModelCheckpoint, EarlyStopping\n",
    "from sklearn.utils import class_weight\n",
    "import keras\n",
    "import numpy as np\n",
    "import os\n",
    "import shutil\n",
    "import matplotlib.pyplot as plt\n",
    "from sklearn.model_selection import train_test_split\n",
    "from sklearn.metrics import confusion_matrix\n",
    "%matplotlib inline"
   ]
  },
  {
   "cell_type": "code",
   "execution_count": 9,
   "metadata": {
    "collapsed": true
   },
   "outputs": [],
   "source": [
    "# Constants\n",
    "IMG_SIZE = 200\n",
    "BASE_DIR = '../project/all_females'"
   ]
  },
  {
   "cell_type": "code",
   "execution_count": 10,
   "metadata": {
    "collapsed": true
   },
   "outputs": [],
   "source": [
    "# Read in ratings\n",
    "ratings = np.genfromtxt('./ratings_stefan.txt')"
   ]
  },
  {
   "cell_type": "code",
   "execution_count": 11,
   "metadata": {},
   "outputs": [
    {
     "name": "stdout",
     "output_type": "stream",
     "text": [
      "(array([0, 1, 2, 3, 4, 5], dtype=int8), array([105, 170, 125,  83,  80,   5]))\n"
     ]
    }
   ],
   "source": [
    "# Round (obviously imbalanced sets)\n",
    "ratings = np.round(ratings, 0).astype(np.int8)\n",
    "print(np.unique(ratings, return_counts=True))"
   ]
  },
  {
   "cell_type": "code",
   "execution_count": 12,
   "metadata": {
    "collapsed": true
   },
   "outputs": [],
   "source": [
    "### Distribute images across folders\n",
    "for r in np.unique(ratings).astype(np.int8):\n",
    "    if not os.path.isdir('./data/train/{}-stars'.format(r)):\n",
    "        os.makedirs('./data/train/{}-stars'.format(r))\n",
    "    if not os.path.isdir('./data/test/{}-stars'.format(r)):\n",
    "        os.makedirs('./data/test/{}-stars'.format(r))"
   ]
  },
  {
   "cell_type": "code",
   "execution_count": 13,
   "metadata": {},
   "outputs": [
    {
     "name": "stdout",
     "output_type": "stream",
     "text": [
      "Train-test-split:\n",
      "X_train:  (6,)\n",
      "X_test:  (6,)\n",
      "y_train:  (6,)\n",
      "y_test:  (6,)\n"
     ]
    }
   ],
   "source": [
    "### Move all images according to ratings\n",
    "images = sorted(os.listdir(BASE_DIR))\n",
    "\n",
    "### Make sure lengths of ratings and images correspond \n",
    "assert len(ratings) == len(images)\n",
    "\n",
    "### Sort images according to ratings\n",
    "ratings = ratings.tolist()\n",
    "ratings, images = zip(*sorted(zip(ratings,images)))\n",
    "ratings = np.asarray(ratings)\n",
    "\n",
    "### Count number of ratings for each category, generate train test split for each category\n",
    "unique, counts = np.unique(ratings, return_counts=True)\n",
    "\n",
    "stars = [[] for i in counts]\n",
    "stared_img = [[] for i in counts]\n",
    "accum = np.cumsum(counts)\n",
    "stars[0] = ratings[:accum[0]]\n",
    "stared_img[0] = images[:accum[0]]\n",
    "\n",
    "for i in range(1,len(counts)):\n",
    "    stars[i] = ratings[accum[i-1]:accum[i]]\n",
    "    stared_img[i] = images[accum[i-1]:accum[i]]\n",
    "\n",
    "stars = np.asarray(stars)\n",
    "stared_img = np.asarray(stared_img)\n",
    "\n",
    "assert(stars.shape == stared_img.shape)\n",
    "\n",
    "#X_train = [[] for i in counts]\n",
    "#X_test = [[] for i in counts]\n",
    "#y_train = [[] for i in counts]\n",
    "#y_test = [[] for i in counts]\n",
    "\n",
    "for i in range(len(counts)):\n",
    "    X_train[i], X_test[i], y_train[i], y_test[i] = train_test_split(stared_img[i], stars[i], test_size=0.2)\n",
    "    \n",
    "#X_train = np.to_list(X_train)\n",
    "#X_test = np.to_list(X_test)\n",
    "#y_train = np.to_list(y_train)\n",
    "#y_test = np.to_list(y_test)\n",
    "\n",
    "        \n",
    "print(\"Train-test-split:\")\n",
    "print(\"X_train: \",X_train.shape)\n",
    "print(\"X_test: \",X_test.shape)\n",
    "print(\"y_train: \",y_train.shape)\n",
    "print(\"y_test: \",y_test.shape)\n",
    "\n",
    "#check that all subsets of the split have the same rating\n",
    "for i in range(len(counts)):\n",
    "    assert(np.sum(y_train[i]) == i*len(y_train[i]))\n",
    "    assert(np.sum(y_test[i]) == i*len(y_test[i]))"
   ]
  },
  {
   "cell_type": "code",
   "execution_count": 14,
   "metadata": {
    "collapsed": true
   },
   "outputs": [],
   "source": [
    "### Loop throgh all images and store them in the dedicated folders\n",
    "#for i, r in enumerate(ratings.astype(np.int8)):\n",
    "#    src = os.path.join(BASE_DIR, images[i])\n",
    "#    dest = os.path.join('./classification/{}-stars'.format(r), images[i])\n",
    "#    shutil.copy(src, dest)\n",
    "\n",
    "for i in range(len(X_train)):\n",
    "    for j in range(len(X_train[i])):\n",
    "        src = os.path.join(BASE_DIR, X_train[i][j])\n",
    "        dest = os.path.join('./data/train/{}-stars'.format(y_train[i][j]), X_train[i][j])\n",
    "        shutil.copy(src, dest)\n",
    "\n",
    "for i in range(len(X_test)):\n",
    "    for j in range(len(X_test[i])):\n",
    "        src = os.path.join(BASE_DIR, X_test[i][j])\n",
    "        dest = os.path.join('./data/test/{}-stars'.format(y_test[i][j]), X_test[i][j])\n",
    "        shutil.copy(src, dest)"
   ]
  },
  {
   "cell_type": "markdown",
   "metadata": {},
   "source": [
    "## Time to use data augmentation with streaming"
   ]
  },
  {
   "cell_type": "code",
   "execution_count": 15,
   "metadata": {
    "collapsed": true
   },
   "outputs": [],
   "source": [
    "datagen = ImageDataGenerator(rescale=1./255, \n",
    "                             rotation_range=40,\n",
    "                             width_shift_range=0.2,\n",
    "                             height_shift_range=0.2,\n",
    "                             shear_range=0.2,\n",
    "                             zoom_range=0.2,\n",
    "                             horizontal_flip=True,\n",
    "                             fill_mode='nearest',\n",
    "                             preprocessing_function=utils.preprocess_input)"
   ]
  },
  {
   "cell_type": "code",
   "execution_count": 16,
   "metadata": {},
   "outputs": [
    {
     "name": "stdout",
     "output_type": "stream",
     "text": [
      "Found 454 images belonging to 6 classes.\n",
      "Found 114 images belonging to 6 classes.\n"
     ]
    }
   ],
   "source": [
    "train_generator = datagen.flow_from_directory(\n",
    "    './data/train/',\n",
    "    target_size=(IMG_SIZE, IMG_SIZE),\n",
    "    batch_size=64,\n",
    "    class_mode='categorical'#, save_to_dir='aug_data/train', save_prefix='aug_train', save_format='png'\n",
    ")\n",
    "\n",
    "test_generator = datagen.flow_from_directory(\n",
    "    './data/test/',\n",
    "    target_size=(IMG_SIZE, IMG_SIZE),\n",
    "    batch_size=64,\n",
    "    class_mode='categorical'#, save_to_dir='aug_data/test', save_prefix='aug_test', save_format='png'\n",
    ")"
   ]
  },
  {
   "cell_type": "markdown",
   "metadata": {},
   "source": [
    "## Some random model"
   ]
  },
  {
   "cell_type": "code",
   "execution_count": 17,
   "metadata": {
    "collapsed": true
   },
   "outputs": [],
   "source": [
    "# Add custom layers\n",
    "vgg_base = VGGFace(include_top=False, input_shape=(IMG_SIZE, IMG_SIZE, 3), pooling='max')\n",
    "last_layer = vgg_base.get_layer('global_max_pooling2d_1').output\n",
    "#X = Dropout(0.2)(last_layer)\n",
    "X = Dense(256, activation='relu', name='fc6')(last_layer)\n",
    "X = Dropout(0.2)(X)\n",
    "X = Dense(128, activation='relu', name='fc7')(X)\n",
    "X = Dropout(0.2)(X)\n",
    "X = Dense(64, activation='relu', name='fc8')(X)\n",
    "X = Dropout(0.2)(X)\n",
    "output = Dense(len(np.unique(ratings)), activation='softmax')(X)\n",
    "model = Model(inputs=vgg_base.input, outputs=output)"
   ]
  },
  {
   "cell_type": "code",
   "execution_count": 18,
   "metadata": {
    "collapsed": true
   },
   "outputs": [],
   "source": [
    "# Freeze vgg layers\n",
    "for layer in vgg_base.layers:\n",
    "    layer.trainable = False"
   ]
  },
  {
   "cell_type": "code",
   "execution_count": 19,
   "metadata": {
    "collapsed": true
   },
   "outputs": [],
   "source": [
    "# Compute class weights since we have unbalaned classes\n",
    "class_weight = class_weight.compute_class_weight('balanced', \n",
    "                                                 np.unique(ratings), \n",
    "                                                 ratings)"
   ]
  },
  {
   "cell_type": "code",
   "execution_count": 20,
   "metadata": {
    "collapsed": true
   },
   "outputs": [],
   "source": [
    "model.compile(optimizer=Adam(clipnorm=1.0),\n",
    "              loss='categorical_crossentropy', \n",
    "              metrics=['accuracy'])"
   ]
  },
  {
   "cell_type": "code",
   "execution_count": 21,
   "metadata": {
    "collapsed": true
   },
   "outputs": [],
   "source": [
    "checkpointer = ModelCheckpoint(filepath='./weights-v3.2.1-stefan.hdf5', verbose=1, save_best_only=True)\n",
    "earlystop = EarlyStopping(monitor='val_loss', patience=10, verbose=0)"
   ]
  },
  {
   "cell_type": "code",
   "execution_count": 22,
   "metadata": {},
   "outputs": [
    {
     "name": "stdout",
     "output_type": "stream",
     "text": [
      "Epoch 1/1\n",
      "100/100 [==============================] - 67s 674ms/step - loss: 1.5041 - acc: 0.3497 - val_loss: 1.4041 - val_acc: 0.4035\n",
      "\n",
      "Epoch 00001: val_loss improved from inf to 1.40414, saving model to ./weights-v3.2.1-stefan.hdf5\n"
     ]
    }
   ],
   "source": [
    "history = model.fit_generator(\n",
    "    train_generator,\n",
    "    steps_per_epoch=100,\n",
    "    epochs=1,\n",
    "    class_weight=class_weight,\n",
    "    validation_data=test_generator,\n",
    "    callbacks=[checkpointer]\n",
    ")"
   ]
  },
  {
   "cell_type": "code",
   "execution_count": 23,
   "metadata": {},
   "outputs": [
    {
     "name": "stdout",
     "output_type": "stream",
     "text": [
      "Epoch 1/500\n",
      "7/7 [==============================] - 6s 838ms/step - loss: 1.2943 - acc: 0.4591 - val_loss: 1.3942 - val_acc: 0.4298\n",
      "\n",
      "Epoch 00001: val_loss improved from 1.40414 to 1.39418, saving model to ./weights-v3.2.1-stefan.hdf5\n",
      "Epoch 2/500\n",
      "7/7 [==============================] - 5s 773ms/step - loss: 1.2792 - acc: 0.4250 - val_loss: 1.3949 - val_acc: 0.3596\n",
      "\n",
      "Epoch 00002: val_loss did not improve\n",
      "Epoch 3/500\n",
      "7/7 [==============================] - 6s 822ms/step - loss: 1.2937 - acc: 0.4554 - val_loss: 1.3939 - val_acc: 0.3947\n",
      "\n",
      "Epoch 00003: val_loss improved from 1.39418 to 1.39394, saving model to ./weights-v3.2.1-stefan.hdf5\n",
      "Epoch 4/500\n",
      "7/7 [==============================] - 5s 668ms/step - loss: 1.2573 - acc: 0.4462 - val_loss: 1.3784 - val_acc: 0.4035\n",
      "\n",
      "Epoch 00004: val_loss improved from 1.39394 to 1.37841, saving model to ./weights-v3.2.1-stefan.hdf5\n",
      "Epoch 5/500\n",
      "7/7 [==============================] - 5s 740ms/step - loss: 1.3409 - acc: 0.4220 - val_loss: 1.4636 - val_acc: 0.2982\n",
      "\n",
      "Epoch 00005: val_loss did not improve\n",
      "Epoch 6/500\n",
      "7/7 [==============================] - 6s 824ms/step - loss: 1.2985 - acc: 0.4330 - val_loss: 1.3973 - val_acc: 0.4123\n",
      "\n",
      "Epoch 00006: val_loss did not improve\n",
      "Epoch 7/500\n",
      "7/7 [==============================] - 5s 746ms/step - loss: 1.2836 - acc: 0.4516 - val_loss: 1.4057 - val_acc: 0.4123\n",
      "\n",
      "Epoch 00007: val_loss did not improve\n",
      "Epoch 8/500\n",
      "7/7 [==============================] - 5s 745ms/step - loss: 1.2111 - acc: 0.4961 - val_loss: 1.4455 - val_acc: 0.4035\n",
      "\n",
      "Epoch 00008: val_loss did not improve\n",
      "Epoch 9/500\n",
      "7/7 [==============================] - 6s 835ms/step - loss: 1.2074 - acc: 0.5112 - val_loss: 1.4236 - val_acc: 0.3596\n",
      "\n",
      "Epoch 00009: val_loss did not improve\n",
      "Epoch 10/500\n",
      "7/7 [==============================] - 6s 833ms/step - loss: 1.2044 - acc: 0.4955 - val_loss: 1.4657 - val_acc: 0.3684\n",
      "\n",
      "Epoch 00010: val_loss did not improve\n",
      "Epoch 11/500\n",
      "7/7 [==============================] - 6s 821ms/step - loss: 1.2447 - acc: 0.4961 - val_loss: 1.4731 - val_acc: 0.3509\n",
      "\n",
      "Epoch 00011: val_loss did not improve\n",
      "Epoch 12/500\n",
      "7/7 [==============================] - 5s 762ms/step - loss: 1.1908 - acc: 0.5068 - val_loss: 1.4272 - val_acc: 0.4123\n",
      "\n",
      "Epoch 00012: val_loss did not improve\n",
      "Epoch 13/500\n",
      "7/7 [==============================] - 5s 745ms/step - loss: 1.1283 - acc: 0.5052 - val_loss: 1.5177 - val_acc: 0.4035\n",
      "\n",
      "Epoch 00013: val_loss did not improve\n",
      "Epoch 14/500\n",
      "7/7 [==============================] - 5s 752ms/step - loss: 1.2181 - acc: 0.4970 - val_loss: 1.4564 - val_acc: 0.3509\n",
      "\n",
      "Epoch 00014: val_loss did not improve\n"
     ]
    }
   ],
   "source": [
    "history = model.fit_generator(\n",
    "    train_generator,\n",
    "    steps_per_epoch=453//64,\n",
    "    epochs=500,\n",
    "    class_weight=class_weight,\n",
    "    validation_data=test_generator,\n",
    "    callbacks=[earlystop, checkpointer]\n",
    ")"
   ]
  },
  {
   "cell_type": "code",
   "execution_count": 24,
   "metadata": {
    "collapsed": true
   },
   "outputs": [],
   "source": [
    "model.save('./models/love_classifierv3.2.1-stefan.h5')"
   ]
  },
  {
   "cell_type": "markdown",
   "metadata": {},
   "source": [
    "### Choose candidates from test set"
   ]
  },
  {
   "cell_type": "code",
   "execution_count": 29,
   "metadata": {},
   "outputs": [
    {
     "name": "stdout",
     "output_type": "stream",
     "text": [
      "[0 1 1 1 1 0 1 1 0 0 1 0 0 0 3 0 0 1 1 0 0 1 0 0 2 1 2 1 1 1 1 1 0 0 0 0 1\n",
      " 1 1 1 1 1 0 1 3 2 3 0 1 1 1 2 2 2 3 1 4 0 2 3 3 1 4 3 4 0 4 2 2 3 0 0 4 2\n",
      " 3 2 2 1 1 1 4 3 4 3 1 2 3 4 0 3 4 3 2 4 1 2 2 3 1 1 4 4 2 4 3 2 4 1 0 3 3\n",
      " 2 3 4]\n",
      "[array([0, 0, 0, 0, 0, 0, 0, 0, 0, 0, 0, 0, 0, 0, 0, 0, 0, 0, 0, 0, 0])\n",
      " array([1, 1, 1, 1, 1, 1, 1, 1, 1, 1, 1, 1, 1, 1, 1, 1, 1, 1, 1, 1, 1, 1,\n",
      "       1, 1, 1, 1, 1, 1, 1, 1, 1, 1, 1, 1])\n",
      " array([2, 2, 2, 2, 2, 2, 2, 2, 2, 2, 2, 2, 2, 2, 2, 2, 2, 2, 2, 2, 2, 2,\n",
      "       2, 2, 2])\n",
      " array([3, 3, 3, 3, 3, 3, 3, 3, 3, 3, 3, 3, 3, 3, 3, 3, 3])\n",
      " array([4, 4, 4, 4, 4, 4, 4, 4, 4, 4, 4, 4, 4, 4, 4, 4]) array([5])]\n"
     ]
    },
    {
     "ename": "ValueError",
     "evalue": "Found input variables with inconsistent numbers of samples: [6, 114]",
     "output_type": "error",
     "traceback": [
      "\u001b[0;31m---------------------------------------------------------------------------\u001b[0m",
      "\u001b[0;31mValueError\u001b[0m                                Traceback (most recent call last)",
      "\u001b[0;32m<ipython-input-29-838a677b5a49>\u001b[0m in \u001b[0;36m<module>\u001b[0;34m()\u001b[0m\n\u001b[1;32m     26\u001b[0m \u001b[0mprint\u001b[0m\u001b[0;34m(\u001b[0m\u001b[0my_test\u001b[0m\u001b[0;34m)\u001b[0m\u001b[0;34m\u001b[0m\u001b[0m\n\u001b[1;32m     27\u001b[0m \u001b[0;34m\u001b[0m\u001b[0m\n\u001b[0;32m---> 28\u001b[0;31m \u001b[0mconfusion_matrix\u001b[0m\u001b[0;34m(\u001b[0m\u001b[0my_test\u001b[0m\u001b[0;34m,\u001b[0m\u001b[0mpred_classes\u001b[0m\u001b[0;34m)\u001b[0m\u001b[0;34m\u001b[0m\u001b[0m\n\u001b[0m",
      "\u001b[0;32m~/anaconda3/lib/python3.6/site-packages/sklearn/metrics/classification.py\u001b[0m in \u001b[0;36mconfusion_matrix\u001b[0;34m(y_true, y_pred, labels, sample_weight)\u001b[0m\n\u001b[1;32m    248\u001b[0m \u001b[0;34m\u001b[0m\u001b[0m\n\u001b[1;32m    249\u001b[0m     \"\"\"\n\u001b[0;32m--> 250\u001b[0;31m     \u001b[0my_type\u001b[0m\u001b[0;34m,\u001b[0m \u001b[0my_true\u001b[0m\u001b[0;34m,\u001b[0m \u001b[0my_pred\u001b[0m \u001b[0;34m=\u001b[0m \u001b[0m_check_targets\u001b[0m\u001b[0;34m(\u001b[0m\u001b[0my_true\u001b[0m\u001b[0;34m,\u001b[0m \u001b[0my_pred\u001b[0m\u001b[0;34m)\u001b[0m\u001b[0;34m\u001b[0m\u001b[0m\n\u001b[0m\u001b[1;32m    251\u001b[0m     \u001b[0;32mif\u001b[0m \u001b[0my_type\u001b[0m \u001b[0;32mnot\u001b[0m \u001b[0;32min\u001b[0m \u001b[0;34m(\u001b[0m\u001b[0;34m\"binary\"\u001b[0m\u001b[0;34m,\u001b[0m \u001b[0;34m\"multiclass\"\u001b[0m\u001b[0;34m)\u001b[0m\u001b[0;34m:\u001b[0m\u001b[0;34m\u001b[0m\u001b[0m\n\u001b[1;32m    252\u001b[0m         \u001b[0;32mraise\u001b[0m \u001b[0mValueError\u001b[0m\u001b[0;34m(\u001b[0m\u001b[0;34m\"%s is not supported\"\u001b[0m \u001b[0;34m%\u001b[0m \u001b[0my_type\u001b[0m\u001b[0;34m)\u001b[0m\u001b[0;34m\u001b[0m\u001b[0m\n",
      "\u001b[0;32m~/anaconda3/lib/python3.6/site-packages/sklearn/metrics/classification.py\u001b[0m in \u001b[0;36m_check_targets\u001b[0;34m(y_true, y_pred)\u001b[0m\n\u001b[1;32m     69\u001b[0m     \u001b[0my_pred\u001b[0m \u001b[0;34m:\u001b[0m \u001b[0marray\u001b[0m \u001b[0;32mor\u001b[0m \u001b[0mindicator\u001b[0m \u001b[0mmatrix\u001b[0m\u001b[0;34m\u001b[0m\u001b[0m\n\u001b[1;32m     70\u001b[0m     \"\"\"\n\u001b[0;32m---> 71\u001b[0;31m     \u001b[0mcheck_consistent_length\u001b[0m\u001b[0;34m(\u001b[0m\u001b[0my_true\u001b[0m\u001b[0;34m,\u001b[0m \u001b[0my_pred\u001b[0m\u001b[0;34m)\u001b[0m\u001b[0;34m\u001b[0m\u001b[0m\n\u001b[0m\u001b[1;32m     72\u001b[0m     \u001b[0mtype_true\u001b[0m \u001b[0;34m=\u001b[0m \u001b[0mtype_of_target\u001b[0m\u001b[0;34m(\u001b[0m\u001b[0my_true\u001b[0m\u001b[0;34m)\u001b[0m\u001b[0;34m\u001b[0m\u001b[0m\n\u001b[1;32m     73\u001b[0m     \u001b[0mtype_pred\u001b[0m \u001b[0;34m=\u001b[0m \u001b[0mtype_of_target\u001b[0m\u001b[0;34m(\u001b[0m\u001b[0my_pred\u001b[0m\u001b[0;34m)\u001b[0m\u001b[0;34m\u001b[0m\u001b[0m\n",
      "\u001b[0;32m~/anaconda3/lib/python3.6/site-packages/sklearn/utils/validation.py\u001b[0m in \u001b[0;36mcheck_consistent_length\u001b[0;34m(*arrays)\u001b[0m\n\u001b[1;32m    171\u001b[0m     \u001b[0;32mif\u001b[0m \u001b[0mlen\u001b[0m\u001b[0;34m(\u001b[0m\u001b[0muniques\u001b[0m\u001b[0;34m)\u001b[0m \u001b[0;34m>\u001b[0m \u001b[0;36m1\u001b[0m\u001b[0;34m:\u001b[0m\u001b[0;34m\u001b[0m\u001b[0m\n\u001b[1;32m    172\u001b[0m         raise ValueError(\"Found input variables with inconsistent numbers of\"\n\u001b[0;32m--> 173\u001b[0;31m                          \" samples: %r\" % [int(l) for l in lengths])\n\u001b[0m\u001b[1;32m    174\u001b[0m \u001b[0;34m\u001b[0m\u001b[0m\n\u001b[1;32m    175\u001b[0m \u001b[0;34m\u001b[0m\u001b[0m\n",
      "\u001b[0;31mValueError\u001b[0m: Found input variables with inconsistent numbers of samples: [6, 114]"
     ]
    }
   ],
   "source": [
    "#freeze layers\n",
    "#for layer in model.layers:\n",
    "#    layer.trainable = False\n",
    "\n",
    "#transform X_test & y_test so all data is in one dimension \n",
    "realNumDim = 0\n",
    "for i in range(X_test.shape[0]):\n",
    "    for j in range(len(X_test[i])):\n",
    "        realNumDim += 1\n",
    "    \n",
    "#get test data (unmodified)\n",
    "data_test = np.zeros((realNumDim, IMG_SIZE, IMG_SIZE, 3))    \n",
    "last_set = 0\n",
    "for i in range(X_test.shape[0]): #iterate over #stars\n",
    "    for idx, _im in enumerate(X_test[i]): #iterate over images\n",
    "        _img = image.load_img(os.path.join(BASE_DIR, _im), target_size=(IMG_SIZE,IMG_SIZE))\n",
    "        _x = image.img_to_array(_img)\n",
    "        _x = np.expand_dims(_x, axis=0)\n",
    "        data_test[last_set, :, :, :] = utils.preprocess_input(_x, version=1) / .255\n",
    "        last_set += 1\n",
    "\n",
    "predictions = model.predict(data_test)\n",
    "pred_classes = predictions.argmax(axis=-1)\n",
    "\n",
    "print(pred_classes)\n",
    "print(y_test)\n"
   ]
  },
  {
   "cell_type": "markdown",
   "metadata": {
    "collapsed": true
   },
   "source": [
    "### Going 1 layer deeper improves val_acc from 0.3391 (see rater-v3.2-2nd) to 0.4087."
   ]
  },
  {
   "cell_type": "code",
   "execution_count": 36,
   "metadata": {},
   "outputs": [
    {
     "name": "stdout",
     "output_type": "stream",
     "text": [
      "[0 0 0 0 0 0 0 0 0 0 0 0 0 0 0 0 0 0 0 0 0]\n"
     ]
    }
   ],
   "source": [
    "print(y_test[0])"
   ]
  },
  {
   "cell_type": "code",
   "execution_count": 53,
   "metadata": {
    "collapsed": true
   },
   "outputs": [],
   "source": [
    "a = [y_test[i][j] for i in range(y_test.shape[0]) for j in range(len(y_test[i])) ]\n",
    "b = [X_test[i][j] for i in range(X_test.shape[0]) for j in range(len(X_test[i])) ]\n",
    "\n",
    "y_true = np.array(a)\n",
    "x_test = np.array(b)"
   ]
  },
  {
   "cell_type": "code",
   "execution_count": 54,
   "metadata": {},
   "outputs": [
    {
     "data": {
      "text/plain": [
       "array([[11,  9,  0,  1,  0,  0],\n",
       "       [ 8, 17,  6,  3,  0,  0],\n",
       "       [ 4,  5,  6,  5,  5,  0],\n",
       "       [ 1,  2,  4,  5,  5,  0],\n",
       "       [ 1,  3,  3,  5,  4,  0],\n",
       "       [ 0,  0,  0,  0,  1,  0]])"
      ]
     },
     "execution_count": 54,
     "metadata": {},
     "output_type": "execute_result"
    }
   ],
   "source": [
    "confusion_matrix(y_true,pred_classes)"
   ]
  },
  {
   "cell_type": "code",
   "execution_count": 55,
   "metadata": {},
   "outputs": [
    {
     "data": {
      "text/plain": [
       "(array([108]),)"
      ]
     },
     "execution_count": 55,
     "metadata": {},
     "output_type": "execute_result"
    }
   ],
   "source": [
    "np.where((y_true-pred_classes) == 4)"
   ]
  },
  {
   "cell_type": "code",
   "execution_count": 56,
   "metadata": {},
   "outputs": [
    {
     "data": {
      "text/plain": [
       "'Ann_Marino_9_oval.jpg'"
      ]
     },
     "execution_count": 56,
     "metadata": {},
     "output_type": "execute_result"
    }
   ],
   "source": [
    "x_test[108]"
   ]
  },
  {
   "cell_type": "code",
   "execution_count": null,
   "metadata": {
    "collapsed": true
   },
   "outputs": [],
   "source": []
  },
  {
   "cell_type": "code",
   "execution_count": null,
   "metadata": {
    "collapsed": true
   },
   "outputs": [],
   "source": []
  }
 ],
 "metadata": {
  "kernelspec": {
   "display_name": "tensorflow",
   "language": "python",
   "name": "tensorflow"
  },
  "language_info": {
   "codemirror_mode": {
    "name": "ipython",
    "version": 3
   },
   "file_extension": ".py",
   "mimetype": "text/x-python",
   "name": "python",
   "nbconvert_exporter": "python",
   "pygments_lexer": "ipython3",
   "version": "3.6.2"
  }
 },
 "nbformat": 4,
 "nbformat_minor": 2
}
