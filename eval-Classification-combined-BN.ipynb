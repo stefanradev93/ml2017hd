{
 "cells": [
  {
   "cell_type": "code",
   "execution_count": 1,
   "metadata": {},
   "outputs": [
    {
     "name": "stderr",
     "output_type": "stream",
     "text": [
      "/home/gloria/anaconda3/lib/python3.6/site-packages/h5py/__init__.py:36: FutureWarning: Conversion of the second argument of issubdtype from `float` to `np.floating` is deprecated. In future, it will be treated as `np.float64 == np.dtype(float).type`.\n",
      "  from ._conv import register_converters as _register_converters\n",
      "Using TensorFlow backend.\n",
      "/home/gloria/tensorflow/lib/python3.6/importlib/_bootstrap.py:205: RuntimeWarning: compiletime version 3.5 of module 'tensorflow.python.framework.fast_tensor_util' does not match runtime version 3.6\n",
      "  return f(*args, **kwds)\n"
     ]
    }
   ],
   "source": [
    "from keras.engine import Model\n",
    "from keras.layers import Flatten, Dense, Input, Dropout, BatchNormalization, Activation\n",
    "from keras_vggface.vggface import VGGFace\n",
    "from keras.preprocessing.image import ImageDataGenerator\n",
    "from keras_vggface import utils\n",
    "from keras.optimizers import Adam\n",
    "from keras.preprocessing import image\n",
    "from keras import backend as K\n",
    "from keras.callbacks import ModelCheckpoint, EarlyStopping\n",
    "from keras.utils import to_categorical\n",
    "from sklearn.utils import class_weight\n",
    "import keras\n",
    "import numpy as np\n",
    "import os\n",
    "import shutil\n",
    "import matplotlib.pyplot as plt\n",
    "import matplotlib.image as mpimg\n",
    "from sklearn.model_selection import train_test_split\n",
    "from sklearn.metrics import confusion_matrix\n",
    "%matplotlib inline"
   ]
  },
  {
   "cell_type": "code",
   "execution_count": 2,
   "metadata": {
    "collapsed": true
   },
   "outputs": [],
   "source": [
    "# Constants\n",
    "IMG_SIZE = 224\n",
    "\n",
    "IMG_DIR = '../project/eval_data/all_females_combined_train_s'\n",
    "RATING_PATH = '../project/eval_data/all_females_combined_train_s/train_ratings.txt'\n",
    "\n",
    "TEST_IMG_DIR = '../project/eval_data/all_females_combined_test_s'\n",
    "TEST_RATING_PATH = '../project/eval_data/all_females_combined_test_s/test_ratings.txt'\n",
    "\n",
    "VERSION = 'eval-Clas-comb'"
   ]
  },
  {
   "cell_type": "code",
   "execution_count": 3,
   "metadata": {
    "collapsed": true
   },
   "outputs": [],
   "source": [
    "def getMean(train_data):\n",
    "    #calculate mean values for pixels (RGB)\n",
    "\n",
    "    data = np.zeros((train_data.shape[0], IMG_SIZE, IMG_SIZE, 3)) \n",
    "    for i in range(train_data.shape[0]):\n",
    "        _img = image.load_img(os.path.join(IMG_DIR, train_data[i]), target_size=(IMG_SIZE,IMG_SIZE))\n",
    "        data[i,:,:,:] = image.img_to_array(_img)\n",
    "    mean = np.mean(data, axis=(0, 1, 2))\n",
    "    print(\"Pixel means: \",mean)\n",
    "\n",
    "    return mean"
   ]
  },
  {
   "cell_type": "code",
   "execution_count": 4,
   "metadata": {
    "collapsed": true
   },
   "outputs": [],
   "source": [
    "def preprocess(x,mean):\n",
    "    x[:,:,0] -= mean[0]\n",
    "    x[:,:,1] -= mean[1]\n",
    "    x[:,:,2] -= mean[2]"
   ]
  },
  {
   "cell_type": "code",
   "execution_count": 5,
   "metadata": {
    "collapsed": true
   },
   "outputs": [],
   "source": [
    "def prepareDataRegression(percentage):\n",
    "    # Read in ratings\n",
    "    ratings = np.genfromtxt(RATING_PATH)\n",
    "        \n",
    "    ### Move all images according to ratings\n",
    "    images = sorted(os.listdir(IMG_DIR))\n",
    "    #remove train_ratings.txt from images\n",
    "    images.remove('train_ratings.txt')\n",
    "    #convert to np.array for indexing\n",
    "    images = np.array(images)\n",
    "\n",
    "    ### Make sure lengths of ratings and images correspond \n",
    "    assert len(ratings) == len(images)\n",
    "\n",
    "    perm_ratings = np.random.permutation(len(ratings))\n",
    "    test_len = int(len(ratings) * percentage/100)\n",
    "    train_len = len(ratings) - test_len\n",
    "\n",
    "    test_ind = perm_ratings[:test_len]\n",
    "    train_ind = perm_ratings[test_len:]\n",
    "    \n",
    "\n",
    "    #get test & train data\n",
    "    data_test = np.zeros((len(test_ind), IMG_SIZE, IMG_SIZE, 3))    \n",
    "    data_train = np.zeros((len(train_ind), IMG_SIZE, IMG_SIZE, 3)) \n",
    "    last_set_train = 0\n",
    "    last_set_test = 0\n",
    "\n",
    "    mean = getMean(images[train_ind])\n",
    "    \n",
    "    for idx, _im in enumerate(images): #iterate over images\n",
    "        if idx in test_ind:\n",
    "            _img = image.load_img(os.path.join(IMG_DIR, _im), target_size=(IMG_SIZE,IMG_SIZE))\n",
    "            _x = image.img_to_array(_img)\n",
    "            _x = np.expand_dims(_x, axis=0)\n",
    "            data_test[last_set_test, :, :, :] = utils.preprocess_input(_x, version=1)#preprocess(_x,mean)# / .255\n",
    "            last_set_test += 1\n",
    "        if idx in train_ind:\n",
    "            _img = image.load_img(os.path.join(IMG_DIR, _im), target_size=(IMG_SIZE,IMG_SIZE))\n",
    "            _x = image.img_to_array(_img)\n",
    "            _x = np.expand_dims(_x, axis=0)\n",
    "            data_train[last_set_train, :, :, :] = utils.preprocess_input(_x, version=1)#preprocess(_x,mean)# / .255\n",
    "            last_set_train += 1\n",
    "    \n",
    "    return data_train, ratings[train_ind], data_test, ratings[test_ind], ratings, mean"
   ]
  },
  {
   "cell_type": "code",
   "execution_count": 6,
   "metadata": {
    "collapsed": true
   },
   "outputs": [],
   "source": [
    "def prepareDataClassification(percentage):\n",
    "    # Read in ratings\n",
    "    ratings = np.genfromtxt(RATING_PATH)\n",
    "    \n",
    "    # Round (obviously imbalanced sets)\n",
    "    ratings_rounded = np.round(ratings, 0).astype(np.int8)\n",
    "    ratings = to_categorical(ratings_rounded, num_classes=len(np.unique(ratings_rounded)))\n",
    "    \n",
    "                \n",
    "    ### Move all images according to ratings\n",
    "    images = sorted(os.listdir(IMG_DIR))\n",
    "    #remove train_ratings.txt from images\n",
    "    images.remove('train_ratings.txt')\n",
    "    #convert to np.array for indexing\n",
    "    images = np.array(images)\n",
    "\n",
    "    ### Make sure lengths of ratings and images correspond \n",
    "    assert len(ratings) == len(images)\n",
    "\n",
    "    perm_ratings = np.random.permutation(len(ratings))\n",
    "    test_len = int(len(ratings) * percentage/100)\n",
    "    train_len = len(ratings) - test_len\n",
    "\n",
    "    test_ind = perm_ratings[:test_len]\n",
    "    train_ind = perm_ratings[test_len:]\n",
    "    \n",
    "    #get test & train data\n",
    "    data_test = np.zeros((len(test_ind), IMG_SIZE, IMG_SIZE, 3))    \n",
    "    data_train = np.zeros((len(train_ind), IMG_SIZE, IMG_SIZE, 3)) \n",
    "    last_set_train = 0\n",
    "    last_set_test = 0\n",
    "\n",
    "    mean = getMean(images[train_ind])\n",
    "    \n",
    "    for idx, _im in enumerate(images): #iterate over images\n",
    "        if idx in test_ind:\n",
    "            _img = image.load_img(os.path.join(IMG_DIR, _im), target_size=(IMG_SIZE,IMG_SIZE))\n",
    "            _x = image.img_to_array(_img)\n",
    "            _x = np.expand_dims(_x, axis=0)\n",
    "            data_test[last_set_test, :, :, :] = utils.preprocess_input(_x, version=1)#preprocess(_x,mean)# / .255\n",
    "            last_set_test += 1\n",
    "        if idx in train_ind:\n",
    "            _img = image.load_img(os.path.join(IMG_DIR, _im), target_size=(IMG_SIZE,IMG_SIZE))\n",
    "            _x = image.img_to_array(_img)\n",
    "            _x = np.expand_dims(_x, axis=0)\n",
    "            data_train[last_set_train, :, :, :] = utils.preprocess_input(_x, version=1)#preprocess(_x,mean)# / .255\n",
    "            last_set_train += 1\n",
    "    \n",
    "    return data_train, ratings[train_ind], data_test, ratings[test_ind], ratings_rounded, mean\n",
    "    #return ratings[train_ind], train_ind, ratings[test_ind], test_ind, ratings, images"
   ]
  },
  {
   "cell_type": "code",
   "execution_count": 7,
   "metadata": {
    "collapsed": true
   },
   "outputs": [],
   "source": [
    "def prepareDataOrdinalRegression(percentage):\n",
    "    # Load ratings\n",
    "    ratings = np.genfromtxt(RATING_PATH)\n",
    "    \n",
    "    # Convert ratings to the desired format\n",
    "    # 1. First round them\n",
    "    ratings_rounded = np.round(ratings, 1).astype(np.int8)\n",
    "\n",
    "    # 2. Then encode as suggested by Cheng (2007)\n",
    "    ratings_prepared = np.zeros((len(ratings_rounded), len(np.unique(ratings_rounded))))\n",
    "    for i, r in enumerate(ratings_rounded):\n",
    "        for j in range(r):\n",
    "            ratings_prepared[i, j] = 1\n",
    "        \n",
    "    # 3. Finally, make sure assignment is correct\n",
    "    assert np.all(np.sum(ratings_prepared, axis=1).astype(np.int8) == ratings_rounded)\n",
    "    \n",
    "    ### Move all images according to ratings\n",
    "    images = sorted(os.listdir(IMG_DIR))\n",
    "    #remove train_ratings.txt from images\n",
    "    images.remove('train_ratings.txt')\n",
    "    #convert to np.array for indexing\n",
    "    images = np.array(images)\n",
    "\n",
    "    ### Make sure lengths of ratings and images correspond \n",
    "    print(len(ratings))\n",
    "    print(len(images))\n",
    "    assert len(ratings) == len(images)\n",
    "    \n",
    "    perm_ratings = np.random.permutation(len(ratings))\n",
    "    test_len = int(len(ratings) * percentage/100)\n",
    "    train_len = len(ratings) - test_len\n",
    "\n",
    "    test_ind = perm_ratings[:test_len]\n",
    "    train_ind = perm_ratings[test_len:]\n",
    "    \n",
    "    #get test & train data\n",
    "    data_test = np.zeros((len(test_ind), IMG_SIZE, IMG_SIZE, 3))    \n",
    "    data_train = np.zeros((len(train_ind), IMG_SIZE, IMG_SIZE, 3)) \n",
    "    last_set_train = 0\n",
    "    last_set_test = 0\n",
    "\n",
    "    mean = getMean(images[train_ind])\n",
    "    \n",
    "    for idx, _im in enumerate(images): #iterate over images\n",
    "        if idx in test_ind:\n",
    "            _img = image.load_img(os.path.join(IMG_DIR, _im), target_size=(IMG_SIZE,IMG_SIZE))\n",
    "            _x = image.img_to_array(_img)\n",
    "            _x = np.expand_dims(_x, axis=0)\n",
    "            data_test[last_set_test, :, :, :] = preprocess(_x,mean)#utils.preprocess_input(_x, version=1)# / .255\n",
    "            last_set_test += 1\n",
    "        if idx in train_ind:\n",
    "            _img = image.load_img(os.path.join(IMG_DIR, _im), target_size=(IMG_SIZE,IMG_SIZE))\n",
    "            _x = image.img_to_array(_img)\n",
    "            _x = np.expand_dims(_x, axis=0)\n",
    "            data_train[last_set_train, :, :, :] = preprocess(_x,mean)#utils.preprocess_input(_x, version=1)# / .255\n",
    "            last_set_train += 1\n",
    "    \n",
    "    \n",
    "    return data_train, ratings_prepared[train_ind], data_test, ratings_prepared[test_ind], ratings_rounded, mean"
   ]
  },
  {
   "cell_type": "code",
   "execution_count": 8,
   "metadata": {
    "collapsed": true
   },
   "outputs": [],
   "source": [
    "def getGenerator(data_train, data_test):\n",
    "    train_datagen = ImageDataGenerator(rescale=1./255, \n",
    "                                rotation_range=40,\n",
    "                                width_shift_range=0.2,\n",
    "                                height_shift_range=0.2,\n",
    "                                shear_range=0.2,\n",
    "                                zoom_range=0.2,\n",
    "                                horizontal_flip=True,\n",
    "                                fill_mode='nearest'\n",
    "                                      )#preprocessing_function=utils.preprocess_input)\n",
    "\n",
    "    train_datagen.fit(data_train)\n",
    "    \n",
    "    \n",
    "    test_datagen = ImageDataGenerator(rescale=1./255)\n",
    "    test_datagen.fit(data_test)\n",
    "\n",
    "    return train_datagen, test_datagen"
   ]
  },
  {
   "cell_type": "code",
   "execution_count": 9,
   "metadata": {
    "collapsed": true
   },
   "outputs": [],
   "source": [
    "def visualize_loss(history):\n",
    "    loss = history.history['loss']\n",
    "    val_loss = history.history['val_loss']\n",
    "    epochs = range(1, len(loss) + 1)\n",
    "    plt.figure(figsize=(15,8))\n",
    "    plt.plot(epochs, loss, 'bo-', label=\"Training loss\")\n",
    "    plt.plot(epochs, val_loss, 'b', label=\"Validation loss\")\n",
    "    plt.xlabel('Epochs')\n",
    "    plt.ylabel('Loss')\n",
    "    plt.legend()\n",
    "    plt.show()"
   ]
  },
  {
   "cell_type": "code",
   "execution_count": 10,
   "metadata": {
    "collapsed": true
   },
   "outputs": [],
   "source": [
    "def visualize_acc(history):\n",
    "    loss = history.history['acc']\n",
    "    val_loss = history.history['val_acc']\n",
    "    epochs = range(1, len(loss) + 1)\n",
    "    plt.figure(figsize=(15,8))\n",
    "    plt.plot(epochs, loss, 'ro-', label=\"Training acc\")\n",
    "    plt.plot(epochs, val_loss, 'r', label=\"Validation acc\")\n",
    "    plt.xlabel('Epochs')\n",
    "    plt.ylabel('Acc')\n",
    "    plt.legend()\n",
    "    plt.show()"
   ]
  },
  {
   "cell_type": "code",
   "execution_count": 11,
   "metadata": {
    "collapsed": true
   },
   "outputs": [],
   "source": [
    "def recommend(images, pred_classes):\n",
    "    images = images.tolist()\n",
    "    recs = np.where(pred_classes >= 4)\n",
    "    \n",
    "    for i in recs[0]:\n",
    "        img = mpimg.imread(os.path.join(IMG_DIR, images[i]))\n",
    "        imgplot = plt.imshow(img)\n",
    "        plt.show()\n",
    "        plt.clf()\n",
    "\n",
    "def recommendTest(images, pred_classes):\n",
    "    images = images.tolist()\n",
    "    recs = np.where(pred_classes >= 4)\n",
    "    \n",
    "    for i in recs[0]:\n",
    "        img = mpimg.imread(os.path.join(TEST_IMG_DIR, images[i]))\n",
    "        imgplot = plt.imshow(img)\n",
    "        plt.show()\n",
    "        plt.clf()"
   ]
  },
  {
   "cell_type": "markdown",
   "metadata": {},
   "source": [
    "### Get data"
   ]
  },
  {
   "cell_type": "code",
   "execution_count": 12,
   "metadata": {},
   "outputs": [
    {
     "name": "stdout",
     "output_type": "stream",
     "text": [
      "Pixel means:  [160.82512434 133.78392938 120.10623921]\n",
      "x_train:  (647, 224, 224, 3)\n",
      "y_train:  (647, 6)\n",
      "x_val:  (34, 224, 224, 3)\n",
      "y_val:  (34, 6)\n",
      "ratings (681,)\n"
     ]
    }
   ],
   "source": [
    "x_train, y_train, x_val, y_val, ratings, mean = prepareDataClassification(5)\n",
    "train_generator, test_generator = getGenerator(x_train,x_val)\n",
    "\n",
    "train_inst = x_train.shape[0]\n",
    "print(\"x_train: \",x_train.shape)\n",
    "print(\"y_train: \",y_train.shape)\n",
    "print(\"x_val: \",x_val.shape)\n",
    "print(\"y_val: \",y_val.shape)\n",
    "print(\"ratings\",ratings.shape)\n"
   ]
  },
  {
   "cell_type": "markdown",
   "metadata": {},
   "source": [
    "### Build keras model"
   ]
  },
  {
   "cell_type": "code",
   "execution_count": 13,
   "metadata": {},
   "outputs": [
    {
     "name": "stdout",
     "output_type": "stream",
     "text": [
      "[0.98695652 0.62021858 0.79370629 1.07075472 1.01339286 5.15909091]\n"
     ]
    }
   ],
   "source": [
    "# Add custom layers\n",
    "vgg_base = VGGFace(include_top=False, input_shape=(IMG_SIZE, IMG_SIZE, 3), pooling='max')\n",
    "last_layer = vgg_base.get_layer('global_max_pooling2d_1').output\n",
    "X = Dense(256, activation=None, name='fc6')(last_layer)\n",
    "X = BatchNormalization()(X)\n",
    "X = Activation('relu')(X)\n",
    "X = Dropout(0.2)(X)\n",
    "X = Dense(128, activation=None, name='fc7')(X)\n",
    "X = BatchNormalization()(X)\n",
    "X = Activation('relu')(X)\n",
    "X = Dropout(0.2)(X)\n",
    "X = Dense(64, activation=None, name='fc8')(X)\n",
    "X = BatchNormalization()(X)\n",
    "X = Activation('relu')(X)\n",
    "X = Dropout(0.2)(X)\n",
    "X = Dense(len(np.unique(ratings)), activation=None)(X)\n",
    "X = BatchNormalization()(X)\n",
    "output = Activation('softmax')(X)\n",
    "model = Model(inputs=vgg_base.input, outputs=output)\n",
    "\n",
    "# Freeze vgg layers\n",
    "for layer in vgg_base.layers:\n",
    "    layer.trainable = False\n",
    "\n",
    "# Compute class weights since we have unbalaned classes\n",
    "class_weight = class_weight.compute_class_weight('balanced', \n",
    "                                                 np.unique(ratings), \n",
    "                                                 ratings)\n",
    "\n",
    "print(class_weight)\n",
    "\n",
    "model.compile(optimizer=Adam(lr= 0.0005,clipnorm=1.0),\n",
    "              #loss='categorical_crossentropy', \n",
    "              #metrics=['accuracy'])\n",
    "              loss='categorical_crossentropy', metrics=['accuracy'])\n",
    "\n",
    "checkpointer = ModelCheckpoint(filepath='./weights-' + VERSION + '.hdf5', verbose=1, save_best_only=True)\n",
    "earlystop = EarlyStopping(monitor='val_loss', patience=10, verbose=0)"
   ]
  },
  {
   "cell_type": "code",
   "execution_count": 14,
   "metadata": {},
   "outputs": [
    {
     "name": "stdout",
     "output_type": "stream",
     "text": [
      "Epoch 1/500\n",
      "20/20 [==============================] - 13s 657ms/step - loss: 2.2030 - acc: 0.1534 - val_loss: 1.9475 - val_acc: 0.1471\n",
      "\n",
      "Epoch 00001: val_loss improved from inf to 1.94751, saving model to ./weights-eval-Clas-comb.hdf5\n",
      "Epoch 2/500\n",
      "20/20 [==============================] - 8s 401ms/step - loss: 2.0788 - acc: 0.2007 - val_loss: 2.0116 - val_acc: 0.1765\n",
      "\n",
      "Epoch 00002: val_loss did not improve\n",
      "Epoch 3/500\n",
      "20/20 [==============================] - 8s 400ms/step - loss: 1.9914 - acc: 0.1957 - val_loss: 2.0721 - val_acc: 0.2059\n",
      "\n",
      "Epoch 00003: val_loss did not improve\n",
      "Epoch 4/500\n",
      "20/20 [==============================] - 8s 400ms/step - loss: 1.9633 - acc: 0.2182 - val_loss: 2.0836 - val_acc: 0.2353\n",
      "\n",
      "Epoch 00004: val_loss did not improve\n",
      "Epoch 5/500\n",
      "20/20 [==============================] - 8s 400ms/step - loss: 1.9323 - acc: 0.2066 - val_loss: 2.1406 - val_acc: 0.2647\n",
      "\n",
      "Epoch 00005: val_loss did not improve\n",
      "Epoch 6/500\n",
      "20/20 [==============================] - 8s 399ms/step - loss: 1.8770 - acc: 0.2464 - val_loss: 2.1452 - val_acc: 0.2353\n",
      "\n",
      "Epoch 00006: val_loss did not improve\n",
      "Epoch 7/500\n",
      "20/20 [==============================] - 8s 401ms/step - loss: 1.8569 - acc: 0.2380 - val_loss: 2.1643 - val_acc: 0.2059\n",
      "\n",
      "Epoch 00007: val_loss did not improve\n",
      "Epoch 8/500\n",
      "20/20 [==============================] - 8s 402ms/step - loss: 1.7138 - acc: 0.2915 - val_loss: 2.1242 - val_acc: 0.2059\n",
      "\n",
      "Epoch 00008: val_loss did not improve\n",
      "Epoch 9/500\n",
      "20/20 [==============================] - 8s 401ms/step - loss: 1.7941 - acc: 0.2736 - val_loss: 2.1364 - val_acc: 0.2353\n",
      "\n",
      "Epoch 00009: val_loss did not improve\n",
      "Epoch 10/500\n",
      "20/20 [==============================] - 8s 415ms/step - loss: 1.7116 - acc: 0.3078 - val_loss: 2.1061 - val_acc: 0.2353\n",
      "\n",
      "Epoch 00010: val_loss did not improve\n",
      "Epoch 11/500\n",
      "20/20 [==============================] - 8s 389ms/step - loss: 1.6678 - acc: 0.3513 - val_loss: 2.0982 - val_acc: 0.2647\n",
      "\n",
      "Epoch 00011: val_loss did not improve\n"
     ]
    }
   ],
   "source": [
    "history = model.fit_generator(\n",
    "    train_generator.flow(x_train, y_train, batch_size=32),\n",
    "    steps_per_epoch=train_inst//32,\n",
    "    epochs=500,\n",
    "    class_weight=class_weight,\n",
    "    validation_data=test_generator.flow(x_val, y_val, batch_size=32),\n",
    "    callbacks=[earlystop, checkpointer]\n",
    ")"
   ]
  },
  {
   "cell_type": "code",
   "execution_count": 15,
   "metadata": {},
   "outputs": [
    {
     "data": {
      "image/png": "[encoded data removed]",
      "text/plain": [
       "<matplotlib.figure.Figure at 0x7fe5acf95a20>"
      ]
     },
     "metadata": {},
     "output_type": "display_data"
    }
   ],
   "source": [
    "visualize_loss(history)"
   ]
  },
  {
   "cell_type": "code",
   "execution_count": 16,
   "metadata": {},
   "outputs": [
    {
     "data": {
      "image/png": "[encoded data removed]",
      "text/plain": [
       "<matplotlib.figure.Figure at 0x7fe54476c0f0>"
      ]
     },
     "metadata": {},
     "output_type": "display_data"
    }
   ],
   "source": [
    "visualize_acc(history)"
   ]
  },
  {
   "cell_type": "code",
   "execution_count": 17,
   "metadata": {
    "collapsed": true
   },
   "outputs": [],
   "source": [
    "model.save('./models/love_classifier' + VERSION + '.h5')"
   ]
  },
  {
   "cell_type": "markdown",
   "metadata": {},
   "source": [
    "### Predictions: Validation set"
   ]
  },
  {
   "cell_type": "code",
   "execution_count": 18,
   "metadata": {},
   "outputs": [
    {
     "name": "stdout",
     "output_type": "stream",
     "text": [
      "[3 4 0 0 2 0 4 1 3 5 5 1 4 4 3 2 0 5 0 1 1 3 5 5 3 3 1 3 1 0 2 4 1 0]\n",
      "[2 2 2 2 2 2 2 2 3 1 3 1 2 2 2 2 2 2 2 3 3 2 1 2 2 2 2 2 2 1 2 1 1 1]\n"
     ]
    },
    {
     "data": {
      "text/plain": [
       "array([[0, 2, 5, 0, 0, 0],\n",
       "       [0, 2, 3, 2, 0, 0],\n",
       "       [0, 0, 3, 0, 0, 0],\n",
       "       [0, 0, 6, 1, 0, 0],\n",
       "       [0, 1, 4, 0, 0, 0],\n",
       "       [0, 2, 2, 1, 0, 0]])"
      ]
     },
     "execution_count": 18,
     "metadata": {},
     "output_type": "execute_result"
    }
   ],
   "source": [
    "predictions = model.predict(x_val)\n",
    "pred_classes = predictions.argmax(axis=-1)\n",
    "pred_classes = np.round(pred_classes, 1).astype(np.int8)\n",
    "\n",
    "y_true = np.array(y_val).argmax(axis=-1).astype(np.int8)\n",
    "print(y_true)\n",
    "print(pred_classes)\n",
    "\n",
    "confusion_matrix(y_true,pred_classes)"
   ]
  },
  {
   "cell_type": "code",
   "execution_count": 19,
   "metadata": {
    "collapsed": true
   },
   "outputs": [],
   "source": [
    "recommend(x_val,pred_classes)"
   ]
  },
  {
   "cell_type": "markdown",
   "metadata": {
    "collapsed": true
   },
   "source": [
    "### Prediction: Test set"
   ]
  },
  {
   "cell_type": "code",
   "execution_count": 20,
   "metadata": {
    "collapsed": true
   },
   "outputs": [],
   "source": [
    "def prepareTestDataClassification():\n",
    "    # Read in ratings\n",
    "    ratings = np.genfromtxt(TEST_RATING_PATH)\n",
    "    \n",
    "    # Round (obviously imbalanced sets)\n",
    "    ratings_rounded = np.round(ratings, 0).astype(np.int8)\n",
    "    ratings = to_categorical(ratings_rounded, num_classes=len(np.unique(ratings_rounded)))\n",
    "    \n",
    "                \n",
    "    ### Move all images according to ratings\n",
    "    images = sorted(os.listdir(TEST_IMG_DIR))\n",
    "    #remove test_ratings.txt from images\n",
    "    images.remove('test_ratings.txt')\n",
    "    #convert to np.array for indexing\n",
    "    images = np.array(images)\n",
    "\n",
    "    ### Make sure lengths of ratings and images correspond \n",
    "    assert len(ratings) == len(images)\n",
    "\n",
    "    data = np.zeros((len(images), IMG_SIZE, IMG_SIZE, 3)) \n",
    "    last_set = 0\n",
    "    \n",
    "    for idx, _im in enumerate(images): #iterate over images\n",
    "        _img = image.load_img(os.path.join(TEST_IMG_DIR, _im), target_size=(IMG_SIZE,IMG_SIZE))\n",
    "        _x = image.img_to_array(_img)\n",
    "        _x = np.expand_dims(_x, axis=0)\n",
    "        data[last_set, :, :, :] = utils.preprocess_input(_x, version=1)#preprocess(_x,mean) # / .255\n",
    "        last_set += 1\n",
    "    \n",
    "    return data, ratings"
   ]
  },
  {
   "cell_type": "code",
   "execution_count": 21,
   "metadata": {
    "collapsed": true
   },
   "outputs": [],
   "source": [
    "def prepareTestDataOrdinalRegression():\n",
    "    # Load ratings\n",
    "    ratings = np.genfromtxt(TEST_RATING_PATH)\n",
    "    \n",
    "    # Convert ratings to the desired format\n",
    "    # 1. First round them\n",
    "    ratings_rounded = np.round(ratings, 1).astype(np.int8)\n",
    "\n",
    "    # 2. Then encode as suggested by Cheng (2007)\n",
    "    ratings_prepared = np.zeros((len(ratings_rounded), len(np.unique(ratings_rounded))))\n",
    "    for i, r in enumerate(ratings_rounded):\n",
    "        for j in range(r):\n",
    "            ratings_prepared[i, j] = 1\n",
    "        \n",
    "    # 3. Finally, make sure assignment is correct\n",
    "    assert np.all(np.sum(ratings_prepared, axis=1).astype(np.int8) == ratings_rounded)\n",
    "    \n",
    "    ### Move all images according to ratings\n",
    "    images = sorted(os.listdir(TEST_IMG_DIR))\n",
    "    #remove test_ratings.txt from images\n",
    "    images.remove('test_ratings.txt')\n",
    "\n",
    "    ### Make sure lengths of ratings and images correspond \n",
    "    assert len(ratings) == len(images)\n",
    "    \n",
    "    data = np.zeros((len(images), IMG_SIZE, IMG_SIZE, 3)) \n",
    "    last_set = 0\n",
    "    \n",
    "    for idx, _im in enumerate(images): #iterate over images\n",
    "        _img = image.load_img(os.path.join(TEST_IMG_DIR, _im), target_size=(IMG_SIZE,IMG_SIZE))\n",
    "        _x = image.img_to_array(_img)\n",
    "        _x = np.expand_dims(_x, axis=0)\n",
    "        data[last_set, :, :, :] = utils.preprocess_input(_x, version=1)#preprocess(_x,mean) # / .255\n",
    "        last_set += 1\n",
    "    \n",
    "    return data, ratings"
   ]
  },
  {
   "cell_type": "code",
   "execution_count": 23,
   "metadata": {},
   "outputs": [
    {
     "name": "stdout",
     "output_type": "stream",
     "text": [
      "[0 0 0 0 0 0 0 1 1 1 1 1 1 1 2 2 2 2 2 2 2 3 3 3 3 3 3 3 4 4 4 4 4 4 4 5 5]\n",
      "[1 1 0 2 3 2 2 1 2 2 1 2 3 2 0 2 2 1 1 2 1 1 1 2 2 0 2 1 1 1 2 0 0 3 1 2 1]\n"
     ]
    },
    {
     "data": {
      "text/plain": [
       "array([[1, 2, 3, 1, 0, 0],\n",
       "       [0, 2, 4, 1, 0, 0],\n",
       "       [1, 3, 3, 0, 0, 0],\n",
       "       [1, 3, 3, 0, 0, 0],\n",
       "       [2, 3, 1, 1, 0, 0],\n",
       "       [0, 1, 1, 0, 0, 0]])"
      ]
     },
     "execution_count": 23,
     "metadata": {},
     "output_type": "execute_result"
    }
   ],
   "source": [
    "x_test, ratings_test = prepareTestDataClassification()\n",
    "\n",
    "predictions = model.predict(x_test)\n",
    "pred_classes = predictions.argmax(axis=-1)\n",
    "pred_classes = np.round(pred_classes, 1).astype(np.int8)\n",
    "\n",
    "y_true = np.array(ratings_test).argmax(axis=-1).astype(np.int8)\n",
    "print(y_true)\n",
    "print(pred_classes)\n",
    "\n",
    "confusion_matrix(y_true,pred_classes)"
   ]
  },
  {
   "cell_type": "code",
   "execution_count": 24,
   "metadata": {
    "collapsed": true
   },
   "outputs": [],
   "source": [
    "recommendTest(x_test,pred_classes)"
   ]
  },
  {
   "cell_type": "code",
   "execution_count": null,
   "metadata": {
    "collapsed": true
   },
   "outputs": [],
   "source": []
  }
 ],
 "metadata": {
  "kernelspec": {
   "display_name": "tensorflow",
   "language": "python",
   "name": "tensorflow"
  },
  "language_info": {
   "codemirror_mode": {
    "name": "ipython",
    "version": 3
   },
   "file_extension": ".py",
   "mimetype": "text/x-python",
   "name": "python",
   "nbconvert_exporter": "python",
   "pygments_lexer": "ipython3",
   "version": "3.6.2"
  }
 },
 "nbformat": 4,
 "nbformat_minor": 2
}
